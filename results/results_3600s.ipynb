{
 "cells": [
  {
   "cell_type": "markdown",
   "id": "eaed6c4c",
   "metadata": {},
   "source": [
    "# Tune Experiment Results Summary\n",
    "*Classical ML, XGBoost & LightGBM, 3600 time budget, 8 concurrent trials, 3 seeds*\n",
    "By Antoni Baum\n",
    "\n",
    "tl;dr HyperOpt wins."
   ]
  },
  {
   "cell_type": "code",
   "execution_count": 41,
   "id": "8edd402d",
   "metadata": {},
   "outputs": [],
   "source": [
    "import pandas as pd\n",
    "import plotly.express as px"
   ]
  },
  {
   "cell_type": "code",
   "execution_count": 42,
   "id": "2e701523",
   "metadata": {},
   "outputs": [],
   "source": [
    "results = pd.read_csv(\"https://raw.githubusercontent.com/Yard1/tune_experiment/master/results/results_3600s.csv\")\n",
    "results = results.groupby([\"concurrency\", \"problem\", \"dataset\", \"searcher\"]).mean()"
   ]
  },
  {
   "cell_type": "code",
   "execution_count": 43,
   "id": "c572accc",
   "metadata": {},
   "outputs": [],
   "source": [
    "cummax_searcher_mean = pd.read_csv(\"https://raw.githubusercontent.com/Yard1/tune_experiment/master/results/results_3600s_cummax_mean.csv\").drop(\"Unnamed: 0\", axis=1, errors=\"ignore\")\n",
    "cummax_searcher_median = pd.read_csv(\"https://raw.githubusercontent.com/Yard1/tune_experiment/master/results/results_3600s_cummax_median.csv\").drop(\"Unnamed: 0\", axis=1, errors=\"ignore\")"
   ]
  },
  {
   "cell_type": "code",
   "execution_count": 56,
   "id": "6271a234",
   "metadata": {},
   "outputs": [],
   "source": [
    "cols_to_drop = [\"cv\", \"seed\", \"time_budget_s\", \"best_result\", \"worst_result\"]"
   ]
  },
  {
   "cell_type": "markdown",
   "id": "0b4c5365",
   "metadata": {},
   "source": [
    "## Aggregate results\n",
    "\n",
    "### Normalization\n",
    "All calculations have been performed on normalized ROC-AUC. The normalization process used min-max scaling for every model-dataset pair, with the worst result for that pair becoming 0 and the best becoming 1."
   ]
  },
  {
   "cell_type": "markdown",
   "id": "bc7b2499",
   "metadata": {},
   "source": [
    "### Mean results"
   ]
  },
  {
   "cell_type": "code",
   "execution_count": 57,
   "id": "b1eae0e9",
   "metadata": {},
   "outputs": [
    {
     "data": {
      "text/html": [
       "<div>\n",
       "<style scoped>\n",
       "    .dataframe tbody tr th:only-of-type {\n",
       "        vertical-align: middle;\n",
       "    }\n",
       "\n",
       "    .dataframe tbody tr th {\n",
       "        vertical-align: top;\n",
       "    }\n",
       "\n",
       "    .dataframe thead th {\n",
       "        text-align: right;\n",
       "    }\n",
       "</style>\n",
       "<table border=\"1\" class=\"dataframe\">\n",
       "  <thead>\n",
       "    <tr style=\"text-align: right;\">\n",
       "      <th></th>\n",
       "      <th>best_result_normalized</th>\n",
       "      <th>worst_result_normalized</th>\n",
       "      <th>num_trials</th>\n",
       "      <th>avg_time_per_iter</th>\n",
       "      <th>best_result_normalized_1m</th>\n",
       "      <th>best_result_normalized_5m</th>\n",
       "      <th>best_result_normalized_10m</th>\n",
       "      <th>best_result_normalized_30m</th>\n",
       "    </tr>\n",
       "    <tr>\n",
       "      <th>searcher</th>\n",
       "      <th></th>\n",
       "      <th></th>\n",
       "      <th></th>\n",
       "      <th></th>\n",
       "      <th></th>\n",
       "      <th></th>\n",
       "      <th></th>\n",
       "      <th></th>\n",
       "    </tr>\n",
       "  </thead>\n",
       "  <tbody>\n",
       "    <tr>\n",
       "      <th>ASHASkOptSearcher</th>\n",
       "      <td>0.857625</td>\n",
       "      <td>0.277924</td>\n",
       "      <td>436.767094</td>\n",
       "      <td>51.060401</td>\n",
       "      <td>0.626460</td>\n",
       "      <td>0.827668</td>\n",
       "      <td>0.841078</td>\n",
       "      <td>0.852638</td>\n",
       "    </tr>\n",
       "    <tr>\n",
       "      <th>ASHAHyperOptSearcher</th>\n",
       "      <td>0.849066</td>\n",
       "      <td>0.263384</td>\n",
       "      <td>489.230769</td>\n",
       "      <td>25.535690</td>\n",
       "      <td>0.624692</td>\n",
       "      <td>0.822303</td>\n",
       "      <td>0.833348</td>\n",
       "      <td>0.843929</td>\n",
       "    </tr>\n",
       "    <tr>\n",
       "      <th>HyperOptSearcher</th>\n",
       "      <td>0.848570</td>\n",
       "      <td>0.281186</td>\n",
       "      <td>398.497863</td>\n",
       "      <td>36.355854</td>\n",
       "      <td>0.667066</td>\n",
       "      <td>0.826508</td>\n",
       "      <td>0.837147</td>\n",
       "      <td>0.845225</td>\n",
       "    </tr>\n",
       "    <tr>\n",
       "      <th>ASHACFOSearcher</th>\n",
       "      <td>0.846047</td>\n",
       "      <td>0.319986</td>\n",
       "      <td>314.356838</td>\n",
       "      <td>30.738369</td>\n",
       "      <td>0.578953</td>\n",
       "      <td>0.806404</td>\n",
       "      <td>0.822925</td>\n",
       "      <td>0.838514</td>\n",
       "    </tr>\n",
       "    <tr>\n",
       "      <th>ASHAHEBOSearcher</th>\n",
       "      <td>0.844482</td>\n",
       "      <td>0.272238</td>\n",
       "      <td>331.606838</td>\n",
       "      <td>55.395580</td>\n",
       "      <td>0.659015</td>\n",
       "      <td>0.817189</td>\n",
       "      <td>0.828849</td>\n",
       "      <td>0.840134</td>\n",
       "    </tr>\n",
       "    <tr>\n",
       "      <th>ASHAAxSearcher</th>\n",
       "      <td>0.841381</td>\n",
       "      <td>0.324220</td>\n",
       "      <td>298.474359</td>\n",
       "      <td>22.199362</td>\n",
       "      <td>0.604409</td>\n",
       "      <td>0.809015</td>\n",
       "      <td>0.822314</td>\n",
       "      <td>0.837076</td>\n",
       "    </tr>\n",
       "    <tr>\n",
       "      <th>ASHARandomSearch</th>\n",
       "      <td>0.838188</td>\n",
       "      <td>0.239683</td>\n",
       "      <td>878.113248</td>\n",
       "      <td>47.506311</td>\n",
       "      <td>0.598949</td>\n",
       "      <td>0.807704</td>\n",
       "      <td>0.822591</td>\n",
       "      <td>0.833406</td>\n",
       "    </tr>\n",
       "    <tr>\n",
       "      <th>HEBOSearcher</th>\n",
       "      <td>0.838172</td>\n",
       "      <td>0.218041</td>\n",
       "      <td>347.630342</td>\n",
       "      <td>18.437384</td>\n",
       "      <td>0.587305</td>\n",
       "      <td>0.819103</td>\n",
       "      <td>0.825848</td>\n",
       "      <td>0.833797</td>\n",
       "    </tr>\n",
       "    <tr>\n",
       "      <th>BlendSearchSearcher</th>\n",
       "      <td>0.833056</td>\n",
       "      <td>0.294173</td>\n",
       "      <td>417.760684</td>\n",
       "      <td>40.736241</td>\n",
       "      <td>0.622293</td>\n",
       "      <td>0.804169</td>\n",
       "      <td>0.818223</td>\n",
       "      <td>0.829241</td>\n",
       "    </tr>\n",
       "    <tr>\n",
       "      <th>BOHBSearcher</th>\n",
       "      <td>0.833048</td>\n",
       "      <td>0.262354</td>\n",
       "      <td>403.989316</td>\n",
       "      <td>15.026873</td>\n",
       "      <td>0.627234</td>\n",
       "      <td>0.802633</td>\n",
       "      <td>0.815887</td>\n",
       "      <td>0.827902</td>\n",
       "    </tr>\n",
       "    <tr>\n",
       "      <th>OptunaTPESearcher</th>\n",
       "      <td>0.832375</td>\n",
       "      <td>0.249201</td>\n",
       "      <td>452.164530</td>\n",
       "      <td>75.713855</td>\n",
       "      <td>0.567275</td>\n",
       "      <td>0.805389</td>\n",
       "      <td>0.816683</td>\n",
       "      <td>0.827286</td>\n",
       "    </tr>\n",
       "    <tr>\n",
       "      <th>RandomSearch</th>\n",
       "      <td>0.832234</td>\n",
       "      <td>0.256088</td>\n",
       "      <td>555.401709</td>\n",
       "      <td>29.013156</td>\n",
       "      <td>0.629073</td>\n",
       "      <td>0.810308</td>\n",
       "      <td>0.820121</td>\n",
       "      <td>0.827920</td>\n",
       "    </tr>\n",
       "    <tr>\n",
       "      <th>SkOptSearcher</th>\n",
       "      <td>0.826641</td>\n",
       "      <td>0.247279</td>\n",
       "      <td>353.034188</td>\n",
       "      <td>32.171745</td>\n",
       "      <td>0.636606</td>\n",
       "      <td>0.794322</td>\n",
       "      <td>0.811107</td>\n",
       "      <td>0.821890</td>\n",
       "    </tr>\n",
       "    <tr>\n",
       "      <th>CFOSearcher</th>\n",
       "      <td>0.824245</td>\n",
       "      <td>0.267932</td>\n",
       "      <td>301.604701</td>\n",
       "      <td>62.832210</td>\n",
       "      <td>0.579764</td>\n",
       "      <td>0.795415</td>\n",
       "      <td>0.810144</td>\n",
       "      <td>0.819544</td>\n",
       "    </tr>\n",
       "    <tr>\n",
       "      <th>ASHABlendSearchSearcher</th>\n",
       "      <td>0.818819</td>\n",
       "      <td>0.248562</td>\n",
       "      <td>352.108974</td>\n",
       "      <td>49.764631</td>\n",
       "      <td>0.589805</td>\n",
       "      <td>0.782929</td>\n",
       "      <td>0.800097</td>\n",
       "      <td>0.812559</td>\n",
       "    </tr>\n",
       "    <tr>\n",
       "      <th>ASHAOptunaTPESearcher</th>\n",
       "      <td>0.816094</td>\n",
       "      <td>0.276952</td>\n",
       "      <td>801.771368</td>\n",
       "      <td>73.431167</td>\n",
       "      <td>0.629085</td>\n",
       "      <td>0.785501</td>\n",
       "      <td>0.801495</td>\n",
       "      <td>0.810652</td>\n",
       "    </tr>\n",
       "    <tr>\n",
       "      <th>AxSearcher</th>\n",
       "      <td>0.813918</td>\n",
       "      <td>0.321883</td>\n",
       "      <td>283.696581</td>\n",
       "      <td>24.321176</td>\n",
       "      <td>0.608009</td>\n",
       "      <td>0.788175</td>\n",
       "      <td>0.800699</td>\n",
       "      <td>0.809972</td>\n",
       "    </tr>\n",
       "  </tbody>\n",
       "</table>\n",
       "</div>"
      ],
      "text/plain": [
       "                         best_result_normalized  worst_result_normalized  \\\n",
       "searcher                                                                   \n",
       "ASHASkOptSearcher                      0.857625                 0.277924   \n",
       "ASHAHyperOptSearcher                   0.849066                 0.263384   \n",
       "HyperOptSearcher                       0.848570                 0.281186   \n",
       "ASHACFOSearcher                        0.846047                 0.319986   \n",
       "ASHAHEBOSearcher                       0.844482                 0.272238   \n",
       "ASHAAxSearcher                         0.841381                 0.324220   \n",
       "ASHARandomSearch                       0.838188                 0.239683   \n",
       "HEBOSearcher                           0.838172                 0.218041   \n",
       "BlendSearchSearcher                    0.833056                 0.294173   \n",
       "BOHBSearcher                           0.833048                 0.262354   \n",
       "OptunaTPESearcher                      0.832375                 0.249201   \n",
       "RandomSearch                           0.832234                 0.256088   \n",
       "SkOptSearcher                          0.826641                 0.247279   \n",
       "CFOSearcher                            0.824245                 0.267932   \n",
       "ASHABlendSearchSearcher                0.818819                 0.248562   \n",
       "ASHAOptunaTPESearcher                  0.816094                 0.276952   \n",
       "AxSearcher                             0.813918                 0.321883   \n",
       "\n",
       "                         num_trials  avg_time_per_iter  \\\n",
       "searcher                                                 \n",
       "ASHASkOptSearcher        436.767094          51.060401   \n",
       "ASHAHyperOptSearcher     489.230769          25.535690   \n",
       "HyperOptSearcher         398.497863          36.355854   \n",
       "ASHACFOSearcher          314.356838          30.738369   \n",
       "ASHAHEBOSearcher         331.606838          55.395580   \n",
       "ASHAAxSearcher           298.474359          22.199362   \n",
       "ASHARandomSearch         878.113248          47.506311   \n",
       "HEBOSearcher             347.630342          18.437384   \n",
       "BlendSearchSearcher      417.760684          40.736241   \n",
       "BOHBSearcher             403.989316          15.026873   \n",
       "OptunaTPESearcher        452.164530          75.713855   \n",
       "RandomSearch             555.401709          29.013156   \n",
       "SkOptSearcher            353.034188          32.171745   \n",
       "CFOSearcher              301.604701          62.832210   \n",
       "ASHABlendSearchSearcher  352.108974          49.764631   \n",
       "ASHAOptunaTPESearcher    801.771368          73.431167   \n",
       "AxSearcher               283.696581          24.321176   \n",
       "\n",
       "                         best_result_normalized_1m  best_result_normalized_5m  \\\n",
       "searcher                                                                        \n",
       "ASHASkOptSearcher                         0.626460                   0.827668   \n",
       "ASHAHyperOptSearcher                      0.624692                   0.822303   \n",
       "HyperOptSearcher                          0.667066                   0.826508   \n",
       "ASHACFOSearcher                           0.578953                   0.806404   \n",
       "ASHAHEBOSearcher                          0.659015                   0.817189   \n",
       "ASHAAxSearcher                            0.604409                   0.809015   \n",
       "ASHARandomSearch                          0.598949                   0.807704   \n",
       "HEBOSearcher                              0.587305                   0.819103   \n",
       "BlendSearchSearcher                       0.622293                   0.804169   \n",
       "BOHBSearcher                              0.627234                   0.802633   \n",
       "OptunaTPESearcher                         0.567275                   0.805389   \n",
       "RandomSearch                              0.629073                   0.810308   \n",
       "SkOptSearcher                             0.636606                   0.794322   \n",
       "CFOSearcher                               0.579764                   0.795415   \n",
       "ASHABlendSearchSearcher                   0.589805                   0.782929   \n",
       "ASHAOptunaTPESearcher                     0.629085                   0.785501   \n",
       "AxSearcher                                0.608009                   0.788175   \n",
       "\n",
       "                         best_result_normalized_10m  \\\n",
       "searcher                                              \n",
       "ASHASkOptSearcher                          0.841078   \n",
       "ASHAHyperOptSearcher                       0.833348   \n",
       "HyperOptSearcher                           0.837147   \n",
       "ASHACFOSearcher                            0.822925   \n",
       "ASHAHEBOSearcher                           0.828849   \n",
       "ASHAAxSearcher                             0.822314   \n",
       "ASHARandomSearch                           0.822591   \n",
       "HEBOSearcher                               0.825848   \n",
       "BlendSearchSearcher                        0.818223   \n",
       "BOHBSearcher                               0.815887   \n",
       "OptunaTPESearcher                          0.816683   \n",
       "RandomSearch                               0.820121   \n",
       "SkOptSearcher                              0.811107   \n",
       "CFOSearcher                                0.810144   \n",
       "ASHABlendSearchSearcher                    0.800097   \n",
       "ASHAOptunaTPESearcher                      0.801495   \n",
       "AxSearcher                                 0.800699   \n",
       "\n",
       "                         best_result_normalized_30m  \n",
       "searcher                                             \n",
       "ASHASkOptSearcher                          0.852638  \n",
       "ASHAHyperOptSearcher                       0.843929  \n",
       "HyperOptSearcher                           0.845225  \n",
       "ASHACFOSearcher                            0.838514  \n",
       "ASHAHEBOSearcher                           0.840134  \n",
       "ASHAAxSearcher                             0.837076  \n",
       "ASHARandomSearch                           0.833406  \n",
       "HEBOSearcher                               0.833797  \n",
       "BlendSearchSearcher                        0.829241  \n",
       "BOHBSearcher                               0.827902  \n",
       "OptunaTPESearcher                          0.827286  \n",
       "RandomSearch                               0.827920  \n",
       "SkOptSearcher                              0.821890  \n",
       "CFOSearcher                                0.819544  \n",
       "ASHABlendSearchSearcher                    0.812559  \n",
       "ASHAOptunaTPESearcher                      0.810652  \n",
       "AxSearcher                                 0.809972  "
      ]
     },
     "execution_count": 57,
     "metadata": {},
     "output_type": "execute_result"
    }
   ],
   "source": [
    "mean_agg = results.groupby([\"searcher\"]).mean().sort_values(\"best_result_normalized\", ascending=False)\n",
    "mean_agg.drop(cols_to_drop, axis=1)"
   ]
  },
  {
   "cell_type": "markdown",
   "id": "6e678785",
   "metadata": {},
   "source": [
    "For mean results, surprisingly, ASHASkOpt provided the best results, despite not making use of pruned trials. ASHAHyperOpt and HyperOpt trial close behind. For most searchers, aside from BlendSearch and Optuna, combining them with ASHA increases their mean best result and the amount of trials.\n",
    "\n",
    "The fact that ASHAOptuna underperforms so severly may be due to the fact it's one of the only searchers that actually use pruned trials when suggesting new ones. Seeing that BlendSearch is also using Optuna under the hood, its ASHA version underperforming is not surprising.\n",
    "\n",
    "Ax, CFO and SkOpt are underperforming, being unable to get ahead of Random Search. It is unknown why Ax is giving such poor results (the defaults were used).\n",
    "\n",
    "Optuna (without ASHA) is also trailing behind HyperOpt despite both using TPEs. I know that Optuna is using different parameters - perhaps that is the reason for the discrepancy.\n",
    "\n",
    "We can see that the leaderboard quickly becomes relatively stable over time. The best results for 30 minutes do not differ much from the ones after 60 minutes."
   ]
  },
  {
   "cell_type": "markdown",
   "id": "d4ea967f",
   "metadata": {},
   "source": [
    "### Median results"
   ]
  },
  {
   "cell_type": "code",
   "execution_count": 58,
   "id": "21f1b6b3",
   "metadata": {},
   "outputs": [
    {
     "data": {
      "text/html": [
       "<div>\n",
       "<style scoped>\n",
       "    .dataframe tbody tr th:only-of-type {\n",
       "        vertical-align: middle;\n",
       "    }\n",
       "\n",
       "    .dataframe tbody tr th {\n",
       "        vertical-align: top;\n",
       "    }\n",
       "\n",
       "    .dataframe thead th {\n",
       "        text-align: right;\n",
       "    }\n",
       "</style>\n",
       "<table border=\"1\" class=\"dataframe\">\n",
       "  <thead>\n",
       "    <tr style=\"text-align: right;\">\n",
       "      <th></th>\n",
       "      <th>best_result_normalized</th>\n",
       "      <th>worst_result_normalized</th>\n",
       "      <th>num_trials</th>\n",
       "      <th>avg_time_per_iter</th>\n",
       "      <th>best_result_normalized_1m</th>\n",
       "      <th>best_result_normalized_5m</th>\n",
       "      <th>best_result_normalized_10m</th>\n",
       "      <th>best_result_normalized_30m</th>\n",
       "    </tr>\n",
       "    <tr>\n",
       "      <th>searcher</th>\n",
       "      <th></th>\n",
       "      <th></th>\n",
       "      <th></th>\n",
       "      <th></th>\n",
       "      <th></th>\n",
       "      <th></th>\n",
       "      <th></th>\n",
       "      <th></th>\n",
       "    </tr>\n",
       "  </thead>\n",
       "  <tbody>\n",
       "    <tr>\n",
       "      <th>RandomSearch</th>\n",
       "      <td>0.887581</td>\n",
       "      <td>0.215728</td>\n",
       "      <td>437.000000</td>\n",
       "      <td>8.291066</td>\n",
       "      <td>0.641686</td>\n",
       "      <td>0.848242</td>\n",
       "      <td>0.855207</td>\n",
       "      <td>0.871049</td>\n",
       "    </tr>\n",
       "    <tr>\n",
       "      <th>ASHAHyperOptSearcher</th>\n",
       "      <td>0.887156</td>\n",
       "      <td>0.214658</td>\n",
       "      <td>335.166667</td>\n",
       "      <td>8.392550</td>\n",
       "      <td>0.662487</td>\n",
       "      <td>0.860923</td>\n",
       "      <td>0.872448</td>\n",
       "      <td>0.881582</td>\n",
       "    </tr>\n",
       "    <tr>\n",
       "      <th>ASHASkOptSearcher</th>\n",
       "      <td>0.880653</td>\n",
       "      <td>0.260799</td>\n",
       "      <td>301.666667</td>\n",
       "      <td>11.779178</td>\n",
       "      <td>0.634953</td>\n",
       "      <td>0.833478</td>\n",
       "      <td>0.858994</td>\n",
       "      <td>0.871792</td>\n",
       "    </tr>\n",
       "    <tr>\n",
       "      <th>BlendSearchSearcher</th>\n",
       "      <td>0.874253</td>\n",
       "      <td>0.282306</td>\n",
       "      <td>260.333333</td>\n",
       "      <td>11.266937</td>\n",
       "      <td>0.651208</td>\n",
       "      <td>0.850131</td>\n",
       "      <td>0.861991</td>\n",
       "      <td>0.873565</td>\n",
       "    </tr>\n",
       "    <tr>\n",
       "      <th>HyperOptSearcher</th>\n",
       "      <td>0.872751</td>\n",
       "      <td>0.293715</td>\n",
       "      <td>296.833333</td>\n",
       "      <td>10.519260</td>\n",
       "      <td>0.664138</td>\n",
       "      <td>0.861415</td>\n",
       "      <td>0.865690</td>\n",
       "      <td>0.872329</td>\n",
       "    </tr>\n",
       "    <tr>\n",
       "      <th>ASHAAxSearcher</th>\n",
       "      <td>0.868870</td>\n",
       "      <td>0.281048</td>\n",
       "      <td>165.666667</td>\n",
       "      <td>10.098225</td>\n",
       "      <td>0.617643</td>\n",
       "      <td>0.843026</td>\n",
       "      <td>0.851786</td>\n",
       "      <td>0.866054</td>\n",
       "    </tr>\n",
       "    <tr>\n",
       "      <th>CFOSearcher</th>\n",
       "      <td>0.868140</td>\n",
       "      <td>0.225674</td>\n",
       "      <td>223.333333</td>\n",
       "      <td>11.850166</td>\n",
       "      <td>0.555361</td>\n",
       "      <td>0.829063</td>\n",
       "      <td>0.844187</td>\n",
       "      <td>0.851061</td>\n",
       "    </tr>\n",
       "    <tr>\n",
       "      <th>HEBOSearcher</th>\n",
       "      <td>0.867818</td>\n",
       "      <td>0.195828</td>\n",
       "      <td>226.083333</td>\n",
       "      <td>7.598375</td>\n",
       "      <td>0.610164</td>\n",
       "      <td>0.838460</td>\n",
       "      <td>0.850214</td>\n",
       "      <td>0.861667</td>\n",
       "    </tr>\n",
       "    <tr>\n",
       "      <th>ASHARandomSearch</th>\n",
       "      <td>0.864497</td>\n",
       "      <td>0.222499</td>\n",
       "      <td>623.666667</td>\n",
       "      <td>8.664884</td>\n",
       "      <td>0.609990</td>\n",
       "      <td>0.817386</td>\n",
       "      <td>0.837526</td>\n",
       "      <td>0.855070</td>\n",
       "    </tr>\n",
       "    <tr>\n",
       "      <th>ASHACFOSearcher</th>\n",
       "      <td>0.857750</td>\n",
       "      <td>0.354596</td>\n",
       "      <td>254.500000</td>\n",
       "      <td>10.432908</td>\n",
       "      <td>0.587322</td>\n",
       "      <td>0.815426</td>\n",
       "      <td>0.827204</td>\n",
       "      <td>0.844945</td>\n",
       "    </tr>\n",
       "    <tr>\n",
       "      <th>OptunaTPESearcher</th>\n",
       "      <td>0.853749</td>\n",
       "      <td>0.218271</td>\n",
       "      <td>270.000000</td>\n",
       "      <td>8.442717</td>\n",
       "      <td>0.585320</td>\n",
       "      <td>0.832152</td>\n",
       "      <td>0.839131</td>\n",
       "      <td>0.841538</td>\n",
       "    </tr>\n",
       "    <tr>\n",
       "      <th>ASHABlendSearchSearcher</th>\n",
       "      <td>0.852903</td>\n",
       "      <td>0.204546</td>\n",
       "      <td>306.500000</td>\n",
       "      <td>8.891084</td>\n",
       "      <td>0.614768</td>\n",
       "      <td>0.822942</td>\n",
       "      <td>0.834891</td>\n",
       "      <td>0.845379</td>\n",
       "    </tr>\n",
       "    <tr>\n",
       "      <th>AxSearcher</th>\n",
       "      <td>0.849468</td>\n",
       "      <td>0.289153</td>\n",
       "      <td>170.000000</td>\n",
       "      <td>9.913080</td>\n",
       "      <td>0.620942</td>\n",
       "      <td>0.819569</td>\n",
       "      <td>0.827397</td>\n",
       "      <td>0.848007</td>\n",
       "    </tr>\n",
       "    <tr>\n",
       "      <th>BOHBSearcher</th>\n",
       "      <td>0.847323</td>\n",
       "      <td>0.254989</td>\n",
       "      <td>228.500000</td>\n",
       "      <td>9.674028</td>\n",
       "      <td>0.641353</td>\n",
       "      <td>0.813428</td>\n",
       "      <td>0.829422</td>\n",
       "      <td>0.841534</td>\n",
       "    </tr>\n",
       "    <tr>\n",
       "      <th>SkOptSearcher</th>\n",
       "      <td>0.846738</td>\n",
       "      <td>0.226791</td>\n",
       "      <td>229.333333</td>\n",
       "      <td>11.472205</td>\n",
       "      <td>0.666976</td>\n",
       "      <td>0.809587</td>\n",
       "      <td>0.824278</td>\n",
       "      <td>0.841955</td>\n",
       "    </tr>\n",
       "    <tr>\n",
       "      <th>ASHAHEBOSearcher</th>\n",
       "      <td>0.844839</td>\n",
       "      <td>0.264031</td>\n",
       "      <td>240.166667</td>\n",
       "      <td>7.744539</td>\n",
       "      <td>0.646565</td>\n",
       "      <td>0.824114</td>\n",
       "      <td>0.832648</td>\n",
       "      <td>0.844067</td>\n",
       "    </tr>\n",
       "    <tr>\n",
       "      <th>ASHAOptunaTPESearcher</th>\n",
       "      <td>0.831667</td>\n",
       "      <td>0.254684</td>\n",
       "      <td>486.000000</td>\n",
       "      <td>9.526823</td>\n",
       "      <td>0.656283</td>\n",
       "      <td>0.795880</td>\n",
       "      <td>0.816295</td>\n",
       "      <td>0.820409</td>\n",
       "    </tr>\n",
       "  </tbody>\n",
       "</table>\n",
       "</div>"
      ],
      "text/plain": [
       "                         best_result_normalized  worst_result_normalized  \\\n",
       "searcher                                                                   \n",
       "RandomSearch                           0.887581                 0.215728   \n",
       "ASHAHyperOptSearcher                   0.887156                 0.214658   \n",
       "ASHASkOptSearcher                      0.880653                 0.260799   \n",
       "BlendSearchSearcher                    0.874253                 0.282306   \n",
       "HyperOptSearcher                       0.872751                 0.293715   \n",
       "ASHAAxSearcher                         0.868870                 0.281048   \n",
       "CFOSearcher                            0.868140                 0.225674   \n",
       "HEBOSearcher                           0.867818                 0.195828   \n",
       "ASHARandomSearch                       0.864497                 0.222499   \n",
       "ASHACFOSearcher                        0.857750                 0.354596   \n",
       "OptunaTPESearcher                      0.853749                 0.218271   \n",
       "ASHABlendSearchSearcher                0.852903                 0.204546   \n",
       "AxSearcher                             0.849468                 0.289153   \n",
       "BOHBSearcher                           0.847323                 0.254989   \n",
       "SkOptSearcher                          0.846738                 0.226791   \n",
       "ASHAHEBOSearcher                       0.844839                 0.264031   \n",
       "ASHAOptunaTPESearcher                  0.831667                 0.254684   \n",
       "\n",
       "                         num_trials  avg_time_per_iter  \\\n",
       "searcher                                                 \n",
       "RandomSearch             437.000000           8.291066   \n",
       "ASHAHyperOptSearcher     335.166667           8.392550   \n",
       "ASHASkOptSearcher        301.666667          11.779178   \n",
       "BlendSearchSearcher      260.333333          11.266937   \n",
       "HyperOptSearcher         296.833333          10.519260   \n",
       "ASHAAxSearcher           165.666667          10.098225   \n",
       "CFOSearcher              223.333333          11.850166   \n",
       "HEBOSearcher             226.083333           7.598375   \n",
       "ASHARandomSearch         623.666667           8.664884   \n",
       "ASHACFOSearcher          254.500000          10.432908   \n",
       "OptunaTPESearcher        270.000000           8.442717   \n",
       "ASHABlendSearchSearcher  306.500000           8.891084   \n",
       "AxSearcher               170.000000           9.913080   \n",
       "BOHBSearcher             228.500000           9.674028   \n",
       "SkOptSearcher            229.333333          11.472205   \n",
       "ASHAHEBOSearcher         240.166667           7.744539   \n",
       "ASHAOptunaTPESearcher    486.000000           9.526823   \n",
       "\n",
       "                         best_result_normalized_1m  best_result_normalized_5m  \\\n",
       "searcher                                                                        \n",
       "RandomSearch                              0.641686                   0.848242   \n",
       "ASHAHyperOptSearcher                      0.662487                   0.860923   \n",
       "ASHASkOptSearcher                         0.634953                   0.833478   \n",
       "BlendSearchSearcher                       0.651208                   0.850131   \n",
       "HyperOptSearcher                          0.664138                   0.861415   \n",
       "ASHAAxSearcher                            0.617643                   0.843026   \n",
       "CFOSearcher                               0.555361                   0.829063   \n",
       "HEBOSearcher                              0.610164                   0.838460   \n",
       "ASHARandomSearch                          0.609990                   0.817386   \n",
       "ASHACFOSearcher                           0.587322                   0.815426   \n",
       "OptunaTPESearcher                         0.585320                   0.832152   \n",
       "ASHABlendSearchSearcher                   0.614768                   0.822942   \n",
       "AxSearcher                                0.620942                   0.819569   \n",
       "BOHBSearcher                              0.641353                   0.813428   \n",
       "SkOptSearcher                             0.666976                   0.809587   \n",
       "ASHAHEBOSearcher                          0.646565                   0.824114   \n",
       "ASHAOptunaTPESearcher                     0.656283                   0.795880   \n",
       "\n",
       "                         best_result_normalized_10m  \\\n",
       "searcher                                              \n",
       "RandomSearch                               0.855207   \n",
       "ASHAHyperOptSearcher                       0.872448   \n",
       "ASHASkOptSearcher                          0.858994   \n",
       "BlendSearchSearcher                        0.861991   \n",
       "HyperOptSearcher                           0.865690   \n",
       "ASHAAxSearcher                             0.851786   \n",
       "CFOSearcher                                0.844187   \n",
       "HEBOSearcher                               0.850214   \n",
       "ASHARandomSearch                           0.837526   \n",
       "ASHACFOSearcher                            0.827204   \n",
       "OptunaTPESearcher                          0.839131   \n",
       "ASHABlendSearchSearcher                    0.834891   \n",
       "AxSearcher                                 0.827397   \n",
       "BOHBSearcher                               0.829422   \n",
       "SkOptSearcher                              0.824278   \n",
       "ASHAHEBOSearcher                           0.832648   \n",
       "ASHAOptunaTPESearcher                      0.816295   \n",
       "\n",
       "                         best_result_normalized_30m  \n",
       "searcher                                             \n",
       "RandomSearch                               0.871049  \n",
       "ASHAHyperOptSearcher                       0.881582  \n",
       "ASHASkOptSearcher                          0.871792  \n",
       "BlendSearchSearcher                        0.873565  \n",
       "HyperOptSearcher                           0.872329  \n",
       "ASHAAxSearcher                             0.866054  \n",
       "CFOSearcher                                0.851061  \n",
       "HEBOSearcher                               0.861667  \n",
       "ASHARandomSearch                           0.855070  \n",
       "ASHACFOSearcher                            0.844945  \n",
       "OptunaTPESearcher                          0.841538  \n",
       "ASHABlendSearchSearcher                    0.845379  \n",
       "AxSearcher                                 0.848007  \n",
       "BOHBSearcher                               0.841534  \n",
       "SkOptSearcher                              0.841955  \n",
       "ASHAHEBOSearcher                           0.844067  \n",
       "ASHAOptunaTPESearcher                      0.820409  "
      ]
     },
     "execution_count": 58,
     "metadata": {},
     "output_type": "execute_result"
    }
   ],
   "source": [
    "median_agg = results.groupby([\"searcher\"]).median().sort_values(\"best_result_normalized\", ascending=False)\n",
    "median_agg.drop(cols_to_drop, axis=1)"
   ]
  },
  {
   "cell_type": "markdown",
   "id": "57848fd1",
   "metadata": {},
   "source": [
    "The median results differ somewhat from the mean results. Random Search tops the charts - I think it is because it had the most median trials. ASHASkOpt and HyperOpt (both with and without ASHA) are still very strong contenders on median, while the worst searchers are most or less the same as for mean. BlendSearch, while performing poorly on average, has quite good median results.\n",
    "\n",
    "For most searchers aside from SkOpt, Ax and HyperOpt, ASHA hurts median results, but increases the numbers of trials ran (the latter being expected).\n",
    "\n",
    "Same as with mean results, the scores after 30 minutes do not change much until the end."
   ]
  },
  {
   "cell_type": "markdown",
   "id": "ea044e0a",
   "metadata": {},
   "source": [
    "### Standard deviations of results"
   ]
  },
  {
   "cell_type": "code",
   "execution_count": 59,
   "id": "693674b1",
   "metadata": {},
   "outputs": [
    {
     "data": {
      "text/html": [
       "<div>\n",
       "<style scoped>\n",
       "    .dataframe tbody tr th:only-of-type {\n",
       "        vertical-align: middle;\n",
       "    }\n",
       "\n",
       "    .dataframe tbody tr th {\n",
       "        vertical-align: top;\n",
       "    }\n",
       "\n",
       "    .dataframe thead th {\n",
       "        text-align: right;\n",
       "    }\n",
       "</style>\n",
       "<table border=\"1\" class=\"dataframe\">\n",
       "  <thead>\n",
       "    <tr style=\"text-align: right;\">\n",
       "      <th></th>\n",
       "      <th>best_result_normalized</th>\n",
       "      <th>worst_result_normalized</th>\n",
       "      <th>num_trials</th>\n",
       "      <th>avg_time_per_iter</th>\n",
       "      <th>best_result_normalized_1m</th>\n",
       "      <th>best_result_normalized_5m</th>\n",
       "      <th>best_result_normalized_10m</th>\n",
       "      <th>best_result_normalized_30m</th>\n",
       "    </tr>\n",
       "    <tr>\n",
       "      <th>searcher</th>\n",
       "      <th></th>\n",
       "      <th></th>\n",
       "      <th></th>\n",
       "      <th></th>\n",
       "      <th></th>\n",
       "      <th></th>\n",
       "      <th></th>\n",
       "      <th></th>\n",
       "    </tr>\n",
       "  </thead>\n",
       "  <tbody>\n",
       "    <tr>\n",
       "      <th>ASHACFOSearcher</th>\n",
       "      <td>0.094638</td>\n",
       "      <td>0.188437</td>\n",
       "      <td>233.802319</td>\n",
       "      <td>89.785047</td>\n",
       "      <td>0.183678</td>\n",
       "      <td>0.099646</td>\n",
       "      <td>0.096872</td>\n",
       "      <td>0.094568</td>\n",
       "    </tr>\n",
       "    <tr>\n",
       "      <th>ASHAHEBOSearcher</th>\n",
       "      <td>0.104993</td>\n",
       "      <td>0.204161</td>\n",
       "      <td>318.011694</td>\n",
       "      <td>212.682718</td>\n",
       "      <td>0.155661</td>\n",
       "      <td>0.108823</td>\n",
       "      <td>0.106547</td>\n",
       "      <td>0.104293</td>\n",
       "    </tr>\n",
       "    <tr>\n",
       "      <th>ASHASkOptSearcher</th>\n",
       "      <td>0.108941</td>\n",
       "      <td>0.204551</td>\n",
       "      <td>376.228763</td>\n",
       "      <td>146.370878</td>\n",
       "      <td>0.183629</td>\n",
       "      <td>0.115168</td>\n",
       "      <td>0.113237</td>\n",
       "      <td>0.109849</td>\n",
       "    </tr>\n",
       "    <tr>\n",
       "      <th>ASHAAxSearcher</th>\n",
       "      <td>0.112695</td>\n",
       "      <td>0.218318</td>\n",
       "      <td>344.517117</td>\n",
       "      <td>39.684171</td>\n",
       "      <td>0.165757</td>\n",
       "      <td>0.120101</td>\n",
       "      <td>0.117730</td>\n",
       "      <td>0.112722</td>\n",
       "    </tr>\n",
       "    <tr>\n",
       "      <th>SkOptSearcher</th>\n",
       "      <td>0.117373</td>\n",
       "      <td>0.169182</td>\n",
       "      <td>360.958318</td>\n",
       "      <td>76.386199</td>\n",
       "      <td>0.181553</td>\n",
       "      <td>0.125113</td>\n",
       "      <td>0.119798</td>\n",
       "      <td>0.116904</td>\n",
       "    </tr>\n",
       "    <tr>\n",
       "      <th>HyperOptSearcher</th>\n",
       "      <td>0.119011</td>\n",
       "      <td>0.201655</td>\n",
       "      <td>331.783463</td>\n",
       "      <td>127.213096</td>\n",
       "      <td>0.189508</td>\n",
       "      <td>0.128467</td>\n",
       "      <td>0.123467</td>\n",
       "      <td>0.120156</td>\n",
       "    </tr>\n",
       "    <tr>\n",
       "      <th>ASHARandomSearch</th>\n",
       "      <td>0.124522</td>\n",
       "      <td>0.178074</td>\n",
       "      <td>727.051549</td>\n",
       "      <td>150.875391</td>\n",
       "      <td>0.198759</td>\n",
       "      <td>0.131587</td>\n",
       "      <td>0.129550</td>\n",
       "      <td>0.125398</td>\n",
       "    </tr>\n",
       "    <tr>\n",
       "      <th>ASHAHyperOptSearcher</th>\n",
       "      <td>0.127748</td>\n",
       "      <td>0.207154</td>\n",
       "      <td>378.741866</td>\n",
       "      <td>79.757141</td>\n",
       "      <td>0.208986</td>\n",
       "      <td>0.133222</td>\n",
       "      <td>0.132154</td>\n",
       "      <td>0.128966</td>\n",
       "    </tr>\n",
       "    <tr>\n",
       "      <th>ASHAOptunaTPESearcher</th>\n",
       "      <td>0.130253</td>\n",
       "      <td>0.174743</td>\n",
       "      <td>844.305923</td>\n",
       "      <td>231.859847</td>\n",
       "      <td>0.185745</td>\n",
       "      <td>0.134851</td>\n",
       "      <td>0.134387</td>\n",
       "      <td>0.131431</td>\n",
       "    </tr>\n",
       "    <tr>\n",
       "      <th>BOHBSearcher</th>\n",
       "      <td>0.132720</td>\n",
       "      <td>0.183405</td>\n",
       "      <td>449.924219</td>\n",
       "      <td>17.578398</td>\n",
       "      <td>0.157482</td>\n",
       "      <td>0.136770</td>\n",
       "      <td>0.133705</td>\n",
       "      <td>0.131540</td>\n",
       "    </tr>\n",
       "    <tr>\n",
       "      <th>ASHABlendSearchSearcher</th>\n",
       "      <td>0.133559</td>\n",
       "      <td>0.190036</td>\n",
       "      <td>243.317490</td>\n",
       "      <td>237.258137</td>\n",
       "      <td>0.190391</td>\n",
       "      <td>0.142307</td>\n",
       "      <td>0.139847</td>\n",
       "      <td>0.134968</td>\n",
       "    </tr>\n",
       "    <tr>\n",
       "      <th>HEBOSearcher</th>\n",
       "      <td>0.134369</td>\n",
       "      <td>0.177859</td>\n",
       "      <td>354.128338</td>\n",
       "      <td>58.539863</td>\n",
       "      <td>0.205970</td>\n",
       "      <td>0.139694</td>\n",
       "      <td>0.138405</td>\n",
       "      <td>0.135769</td>\n",
       "    </tr>\n",
       "    <tr>\n",
       "      <th>CFOSearcher</th>\n",
       "      <td>0.135216</td>\n",
       "      <td>0.201318</td>\n",
       "      <td>317.124217</td>\n",
       "      <td>253.480918</td>\n",
       "      <td>0.212893</td>\n",
       "      <td>0.143413</td>\n",
       "      <td>0.136511</td>\n",
       "      <td>0.134966</td>\n",
       "    </tr>\n",
       "    <tr>\n",
       "      <th>OptunaTPESearcher</th>\n",
       "      <td>0.136166</td>\n",
       "      <td>0.195168</td>\n",
       "      <td>458.818163</td>\n",
       "      <td>376.991120</td>\n",
       "      <td>0.200912</td>\n",
       "      <td>0.138633</td>\n",
       "      <td>0.136818</td>\n",
       "      <td>0.136532</td>\n",
       "    </tr>\n",
       "    <tr>\n",
       "      <th>RandomSearch</th>\n",
       "      <td>0.143878</td>\n",
       "      <td>0.191118</td>\n",
       "      <td>443.706734</td>\n",
       "      <td>137.564287</td>\n",
       "      <td>0.191614</td>\n",
       "      <td>0.146702</td>\n",
       "      <td>0.145348</td>\n",
       "      <td>0.143362</td>\n",
       "    </tr>\n",
       "    <tr>\n",
       "      <th>BlendSearchSearcher</th>\n",
       "      <td>0.144336</td>\n",
       "      <td>0.211032</td>\n",
       "      <td>413.429612</td>\n",
       "      <td>216.795433</td>\n",
       "      <td>0.190859</td>\n",
       "      <td>0.145417</td>\n",
       "      <td>0.144333</td>\n",
       "      <td>0.144624</td>\n",
       "    </tr>\n",
       "    <tr>\n",
       "      <th>AxSearcher</th>\n",
       "      <td>0.149805</td>\n",
       "      <td>0.238627</td>\n",
       "      <td>319.164684</td>\n",
       "      <td>77.240862</td>\n",
       "      <td>0.207212</td>\n",
       "      <td>0.149573</td>\n",
       "      <td>0.148944</td>\n",
       "      <td>0.149915</td>\n",
       "    </tr>\n",
       "  </tbody>\n",
       "</table>\n",
       "</div>"
      ],
      "text/plain": [
       "                         best_result_normalized  worst_result_normalized  \\\n",
       "searcher                                                                   \n",
       "ASHACFOSearcher                        0.094638                 0.188437   \n",
       "ASHAHEBOSearcher                       0.104993                 0.204161   \n",
       "ASHASkOptSearcher                      0.108941                 0.204551   \n",
       "ASHAAxSearcher                         0.112695                 0.218318   \n",
       "SkOptSearcher                          0.117373                 0.169182   \n",
       "HyperOptSearcher                       0.119011                 0.201655   \n",
       "ASHARandomSearch                       0.124522                 0.178074   \n",
       "ASHAHyperOptSearcher                   0.127748                 0.207154   \n",
       "ASHAOptunaTPESearcher                  0.130253                 0.174743   \n",
       "BOHBSearcher                           0.132720                 0.183405   \n",
       "ASHABlendSearchSearcher                0.133559                 0.190036   \n",
       "HEBOSearcher                           0.134369                 0.177859   \n",
       "CFOSearcher                            0.135216                 0.201318   \n",
       "OptunaTPESearcher                      0.136166                 0.195168   \n",
       "RandomSearch                           0.143878                 0.191118   \n",
       "BlendSearchSearcher                    0.144336                 0.211032   \n",
       "AxSearcher                             0.149805                 0.238627   \n",
       "\n",
       "                         num_trials  avg_time_per_iter  \\\n",
       "searcher                                                 \n",
       "ASHACFOSearcher          233.802319          89.785047   \n",
       "ASHAHEBOSearcher         318.011694         212.682718   \n",
       "ASHASkOptSearcher        376.228763         146.370878   \n",
       "ASHAAxSearcher           344.517117          39.684171   \n",
       "SkOptSearcher            360.958318          76.386199   \n",
       "HyperOptSearcher         331.783463         127.213096   \n",
       "ASHARandomSearch         727.051549         150.875391   \n",
       "ASHAHyperOptSearcher     378.741866          79.757141   \n",
       "ASHAOptunaTPESearcher    844.305923         231.859847   \n",
       "BOHBSearcher             449.924219          17.578398   \n",
       "ASHABlendSearchSearcher  243.317490         237.258137   \n",
       "HEBOSearcher             354.128338          58.539863   \n",
       "CFOSearcher              317.124217         253.480918   \n",
       "OptunaTPESearcher        458.818163         376.991120   \n",
       "RandomSearch             443.706734         137.564287   \n",
       "BlendSearchSearcher      413.429612         216.795433   \n",
       "AxSearcher               319.164684          77.240862   \n",
       "\n",
       "                         best_result_normalized_1m  best_result_normalized_5m  \\\n",
       "searcher                                                                        \n",
       "ASHACFOSearcher                           0.183678                   0.099646   \n",
       "ASHAHEBOSearcher                          0.155661                   0.108823   \n",
       "ASHASkOptSearcher                         0.183629                   0.115168   \n",
       "ASHAAxSearcher                            0.165757                   0.120101   \n",
       "SkOptSearcher                             0.181553                   0.125113   \n",
       "HyperOptSearcher                          0.189508                   0.128467   \n",
       "ASHARandomSearch                          0.198759                   0.131587   \n",
       "ASHAHyperOptSearcher                      0.208986                   0.133222   \n",
       "ASHAOptunaTPESearcher                     0.185745                   0.134851   \n",
       "BOHBSearcher                              0.157482                   0.136770   \n",
       "ASHABlendSearchSearcher                   0.190391                   0.142307   \n",
       "HEBOSearcher                              0.205970                   0.139694   \n",
       "CFOSearcher                               0.212893                   0.143413   \n",
       "OptunaTPESearcher                         0.200912                   0.138633   \n",
       "RandomSearch                              0.191614                   0.146702   \n",
       "BlendSearchSearcher                       0.190859                   0.145417   \n",
       "AxSearcher                                0.207212                   0.149573   \n",
       "\n",
       "                         best_result_normalized_10m  \\\n",
       "searcher                                              \n",
       "ASHACFOSearcher                            0.096872   \n",
       "ASHAHEBOSearcher                           0.106547   \n",
       "ASHASkOptSearcher                          0.113237   \n",
       "ASHAAxSearcher                             0.117730   \n",
       "SkOptSearcher                              0.119798   \n",
       "HyperOptSearcher                           0.123467   \n",
       "ASHARandomSearch                           0.129550   \n",
       "ASHAHyperOptSearcher                       0.132154   \n",
       "ASHAOptunaTPESearcher                      0.134387   \n",
       "BOHBSearcher                               0.133705   \n",
       "ASHABlendSearchSearcher                    0.139847   \n",
       "HEBOSearcher                               0.138405   \n",
       "CFOSearcher                                0.136511   \n",
       "OptunaTPESearcher                          0.136818   \n",
       "RandomSearch                               0.145348   \n",
       "BlendSearchSearcher                        0.144333   \n",
       "AxSearcher                                 0.148944   \n",
       "\n",
       "                         best_result_normalized_30m  \n",
       "searcher                                             \n",
       "ASHACFOSearcher                            0.094568  \n",
       "ASHAHEBOSearcher                           0.104293  \n",
       "ASHASkOptSearcher                          0.109849  \n",
       "ASHAAxSearcher                             0.112722  \n",
       "SkOptSearcher                              0.116904  \n",
       "HyperOptSearcher                           0.120156  \n",
       "ASHARandomSearch                           0.125398  \n",
       "ASHAHyperOptSearcher                       0.128966  \n",
       "ASHAOptunaTPESearcher                      0.131431  \n",
       "BOHBSearcher                               0.131540  \n",
       "ASHABlendSearchSearcher                    0.134968  \n",
       "HEBOSearcher                               0.135769  \n",
       "CFOSearcher                                0.134966  \n",
       "OptunaTPESearcher                          0.136532  \n",
       "RandomSearch                               0.143362  \n",
       "BlendSearchSearcher                        0.144624  \n",
       "AxSearcher                                 0.149915  "
      ]
     },
     "execution_count": 59,
     "metadata": {},
     "output_type": "execute_result"
    }
   ],
   "source": [
    "std_agg = results.groupby([\"searcher\"]).std().sort_values(\"best_result_normalized\", ascending=True)\n",
    "std_agg.drop(cols_to_drop, axis=1)"
   ]
  },
  {
   "cell_type": "markdown",
   "id": "0d91cf31",
   "metadata": {},
   "source": [
    "For most searchers, ASHA helps to make results more consistent - which is interesting, considering that median results with ASHA were usually worse than mean results."
   ]
  },
  {
   "cell_type": "markdown",
   "id": "2cd32069",
   "metadata": {},
   "source": [
    "## Number of wins\n",
    "*Win is defined as having the best result for a model-dataset pair.*"
   ]
  },
  {
   "cell_type": "code",
   "execution_count": 60,
   "id": "af95b26b",
   "metadata": {},
   "outputs": [
    {
     "data": {
      "text/plain": [
       "best_result_normalized \n",
       "BOHBSearcher               11\n",
       "RandomSearch                8\n",
       "HyperOptSearcher            7\n",
       "ASHAHyperOptSearcher        7\n",
       "ASHARandomSearch            7\n",
       "ASHASkOptSearcher           6\n",
       "ASHAAxSearcher              4\n",
       "ASHAHEBOSearcher            4\n",
       "ASHAOptunaTPESearcher       4\n",
       "ASHABlendSearchSearcher     4\n",
       "OptunaTPESearcher           3\n",
       "SkOptSearcher               3\n",
       "CFOSearcher                 3\n",
       "HEBOSearcher                2\n",
       "ASHACFOSearcher             2\n",
       "AxSearcher                  2\n",
       "BlendSearchSearcher         1\n",
       "dtype: int64"
      ]
     },
     "execution_count": 60,
     "metadata": {},
     "output_type": "execute_result"
    }
   ],
   "source": [
    "winners = pd.DataFrame(results.groupby([\"concurrency\", \"problem\", \"dataset\"], sort=False)['best_result_normalized'].idxmax())\n",
    "winners[\"best_result_normalized\"] = winners[\"best_result_normalized\"].apply(lambda x: x[-1] if isinstance(x, tuple) else None)\n",
    "winners.value_counts()"
   ]
  },
  {
   "cell_type": "markdown",
   "id": "7d95bcd7",
   "metadata": {},
   "source": [
    "Contrary to the aggregate results, BOHB tops the leaderboard, followed by Random Search. HyperOpt still performs strongly, matching the aggregate results. For most searchers, ASHA variants have more wins.\n",
    "\n",
    "Given the discrepancy between the number of wins and the aggregate results, it is most likely that differences between the winners were small for most datasets, while being much higher for others."
   ]
  },
  {
   "cell_type": "code",
   "execution_count": 61,
   "id": "411742f9",
   "metadata": {},
   "outputs": [
    {
     "data": {
      "text/plain": [
       "best_result_normalized \n",
       "BOHBSearcher               8\n",
       "AxSearcher                 7\n",
       "ASHAHyperOptSearcher       7\n",
       "ASHAOptunaTPESearcher      7\n",
       "CFOSearcher                7\n",
       "ASHABlendSearchSearcher    7\n",
       "BlendSearchSearcher        5\n",
       "HEBOSearcher               5\n",
       "RandomSearch               4\n",
       "OptunaTPESearcher          4\n",
       "SkOptSearcher              3\n",
       "ASHASkOptSearcher          3\n",
       "ASHARandomSearch           3\n",
       "ASHACFOSearcher            3\n",
       "HyperOptSearcher           2\n",
       "ASHAAxSearcher             2\n",
       "ASHAHEBOSearcher           1\n",
       "dtype: int64"
      ]
     },
     "execution_count": 61,
     "metadata": {},
     "output_type": "execute_result"
    }
   ],
   "source": [
    "losers = pd.DataFrame(results.groupby([\"concurrency\", \"problem\", \"dataset\"], sort=False)['best_result_normalized'].idxmin())\n",
    "losers[\"best_result_normalized\"] = losers[\"best_result_normalized\"].apply(lambda x: x[-1] if isinstance(x, tuple) else None)\n",
    "losers.value_counts()"
   ]
  },
  {
   "cell_type": "markdown",
   "id": "47637e05",
   "metadata": {},
   "source": [
    "BOHB tops both the number of winners and losers, meaning it is highly inconsistent. HyperOpt without ASHA is more consistent than with."
   ]
  },
  {
   "cell_type": "markdown",
   "id": "8e855e72",
   "metadata": {},
   "source": [
    "## Average rank\n",
    "*Smaller is better*"
   ]
  },
  {
   "cell_type": "code",
   "execution_count": 62,
   "id": "878869dc",
   "metadata": {},
   "outputs": [
    {
     "name": "stderr",
     "output_type": "stream",
     "text": [
      "/var/folders/nh/h94f6ynd2j160g04rbzpp9fh0000gn/T/ipykernel_88496/2020717990.py:2: FutureWarning:\n",
      "\n",
      "Using the level keyword in DataFrame and Series aggregations is deprecated and will be removed in a future version. Use groupby instead. df.median(level=1) should use df.groupby(level=1).median().\n",
      "\n"
     ]
    },
    {
     "data": {
      "text/html": [
       "<div>\n",
       "<style scoped>\n",
       "    .dataframe tbody tr th:only-of-type {\n",
       "        vertical-align: middle;\n",
       "    }\n",
       "\n",
       "    .dataframe tbody tr th {\n",
       "        vertical-align: top;\n",
       "    }\n",
       "\n",
       "    .dataframe thead th {\n",
       "        text-align: right;\n",
       "    }\n",
       "</style>\n",
       "<table border=\"1\" class=\"dataframe\">\n",
       "  <thead>\n",
       "    <tr style=\"text-align: right;\">\n",
       "      <th></th>\n",
       "      <th>best_result</th>\n",
       "    </tr>\n",
       "    <tr>\n",
       "      <th>searcher</th>\n",
       "      <th></th>\n",
       "    </tr>\n",
       "  </thead>\n",
       "  <tbody>\n",
       "    <tr>\n",
       "      <th>ASHAHyperOptSearcher</th>\n",
       "      <td>7.910256</td>\n",
       "    </tr>\n",
       "    <tr>\n",
       "      <th>ASHASkOptSearcher</th>\n",
       "      <td>8.012821</td>\n",
       "    </tr>\n",
       "    <tr>\n",
       "      <th>HyperOptSearcher</th>\n",
       "      <td>8.461538</td>\n",
       "    </tr>\n",
       "    <tr>\n",
       "      <th>HEBOSearcher</th>\n",
       "      <td>8.474359</td>\n",
       "    </tr>\n",
       "    <tr>\n",
       "      <th>OptunaTPESearcher</th>\n",
       "      <td>8.794872</td>\n",
       "    </tr>\n",
       "    <tr>\n",
       "      <th>ASHAHEBOSearcher</th>\n",
       "      <td>8.794872</td>\n",
       "    </tr>\n",
       "    <tr>\n",
       "      <th>BOHBSearcher</th>\n",
       "      <td>8.794872</td>\n",
       "    </tr>\n",
       "    <tr>\n",
       "      <th>ASHARandomSearch</th>\n",
       "      <td>8.807692</td>\n",
       "    </tr>\n",
       "    <tr>\n",
       "      <th>RandomSearch</th>\n",
       "      <td>8.858974</td>\n",
       "    </tr>\n",
       "    <tr>\n",
       "      <th>ASHACFOSearcher</th>\n",
       "      <td>8.974359</td>\n",
       "    </tr>\n",
       "    <tr>\n",
       "      <th>BlendSearchSearcher</th>\n",
       "      <td>9.192308</td>\n",
       "    </tr>\n",
       "    <tr>\n",
       "      <th>ASHAAxSearcher</th>\n",
       "      <td>9.256410</td>\n",
       "    </tr>\n",
       "    <tr>\n",
       "      <th>SkOptSearcher</th>\n",
       "      <td>9.564103</td>\n",
       "    </tr>\n",
       "    <tr>\n",
       "      <th>CFOSearcher</th>\n",
       "      <td>9.602564</td>\n",
       "    </tr>\n",
       "    <tr>\n",
       "      <th>AxSearcher</th>\n",
       "      <td>9.641026</td>\n",
       "    </tr>\n",
       "    <tr>\n",
       "      <th>ASHABlendSearchSearcher</th>\n",
       "      <td>9.756410</td>\n",
       "    </tr>\n",
       "    <tr>\n",
       "      <th>ASHAOptunaTPESearcher</th>\n",
       "      <td>10.102564</td>\n",
       "    </tr>\n",
       "  </tbody>\n",
       "</table>\n",
       "</div>"
      ],
      "text/plain": [
       "                         best_result\n",
       "searcher                            \n",
       "ASHAHyperOptSearcher        7.910256\n",
       "ASHASkOptSearcher           8.012821\n",
       "HyperOptSearcher            8.461538\n",
       "HEBOSearcher                8.474359\n",
       "OptunaTPESearcher           8.794872\n",
       "ASHAHEBOSearcher            8.794872\n",
       "BOHBSearcher                8.794872\n",
       "ASHARandomSearch            8.807692\n",
       "RandomSearch                8.858974\n",
       "ASHACFOSearcher             8.974359\n",
       "BlendSearchSearcher         9.192308\n",
       "ASHAAxSearcher              9.256410\n",
       "SkOptSearcher               9.564103\n",
       "CFOSearcher                 9.602564\n",
       "AxSearcher                  9.641026\n",
       "ASHABlendSearchSearcher     9.756410\n",
       "ASHAOptunaTPESearcher      10.102564"
      ]
     },
     "execution_count": 62,
     "metadata": {},
     "output_type": "execute_result"
    }
   ],
   "source": [
    "ranks = pd.DataFrame(results.groupby([\"concurrency\", \"problem\", \"dataset\"], sort=False)[\"best_result\"].rank(ascending=False))\n",
    "avg_rank = ranks.mean(level=[0,3]).sort_values(by=\"best_result\").loc[8]\n",
    "avg_rank"
   ]
  },
  {
   "cell_type": "markdown",
   "id": "416d8050",
   "metadata": {},
   "source": [
    "The top and bottom of the average rank leaderboard is looking very similar to the top of the mean results leaderboard. Random Search is squarely in the middle. HEBO is performing the best out of GP-based searchers taking both ASHA and no ASHA into account. Ax, CFO and BlendSearch are underperforming. The difference between ASHA and no ASHA SkOpt is significant again, as has been the theme in previous leaderboards."
   ]
  },
  {
   "cell_type": "markdown",
   "id": "407ad794",
   "metadata": {},
   "source": [
    "## Plots\n",
    "\n",
    "### Violin plot"
   ]
  },
  {
   "cell_type": "code",
   "execution_count": 64,
   "id": "c082c8b1",
   "metadata": {},
   "outputs": [
    {
     "data": {
      "application/vnd.plotly.v1+json": {
       "config": {
        "plotlyServerURL": "https://plot.ly"
       },
       "data": [
        {
         "alignmentgroup": "True",
         "box": {
          "visible": true
         },
         "hovertemplate": "searcher=ASHAAxSearcher<br>best_result_normalized=%{y}<extra></extra>",
         "legendgroup": "ASHAAxSearcher",
         "marker": {
          "color": "#636efa"
         },
         "name": "ASHAAxSearcher",
         "offsetgroup": "ASHAAxSearcher",
         "orientation": "v",
         "points": "suspectedoutliers",
         "scalegroup": "True",
         "showlegend": true,
         "type": "violin",
         "x0": " ",
         "xaxis": "x",
         "y": [
          0.919878994761323,
          0.8984339243152503,
          0.9172902694826582,
          0.865376537073776,
          0.8723638907386633,
          0.751745262036426,
          0.8485322041195115,
          0.799373061173962,
          0.5569586446732414,
          0.8729108773793932,
          0.61784600659525,
          0.93639393069448,
          0.929006124058946,
          0.8626268684544062,
          0.7329084480465257,
          0.9414806285637214,
          0.7390682107125972,
          0.915933028290517,
          0.8526256464115205,
          0.7780802210421452,
          0.7694731805411908,
          0.9146594884127596,
          0.8943200506577068,
          0.7933677611585415,
          0.7603755682209865,
          0.9004052005043884,
          0.8963307116903337,
          0.9559369197966608,
          0.838551609939412,
          0.9120618681325142,
          0.6570403552744727,
          0.8563984932398343,
          0.846560426359103,
          0.7429153350364083,
          0.9557069764777016,
          0.7594122967618854,
          0.8028985765419367,
          0.921637202721703,
          0.9045182707016464,
          0.9840732,
          0.7913625383448964,
          0.916799193825944,
          0.9869717334789492,
          0.820548438545043,
          0.7452110867242278,
          0.8727737465422875,
          0.5897036961077963,
          0.5279796592609157,
          0.9714568143866614,
          0.9889313865646736,
          0.8813590404009286,
          0.6927919439312519,
          0.8913826478595538,
          0.9183731635224144,
          0.9178998471060612,
          0.7107436054586858,
          0.999602401284156,
          0.8736010113173999,
          0.7543120409746097,
          0.7215749885739146,
          0.9549456341551864,
          0.7873992443730291,
          0.8340412704563119,
          0.8624577774132134,
          0.8187154565748888,
          0.6937309015816807,
          0.9422305478561204,
          0.9215998822323442,
          0.9132728099074372,
          0.4609382140776395,
          0.9501547647643304,
          0.9229221061941568,
          0.7783159999999999,
          0.8798778388015819,
          0.9998388725947812,
          0.9828305533463828,
          0.8385662811565663,
          0.8370162131801911
         ],
         "y0": " ",
         "yaxis": "y"
        },
        {
         "alignmentgroup": "True",
         "box": {
          "visible": true
         },
         "hovertemplate": "searcher=ASHABlendSearchSearcher<br>best_result_normalized=%{y}<extra></extra>",
         "legendgroup": "ASHABlendSearchSearcher",
         "marker": {
          "color": "#EF553B"
         },
         "name": "ASHABlendSearchSearcher",
         "offsetgroup": "ASHABlendSearchSearcher",
         "orientation": "v",
         "points": "suspectedoutliers",
         "scalegroup": "True",
         "showlegend": true,
         "type": "violin",
         "x0": " ",
         "xaxis": "x",
         "y": [
          0.9779709906551592,
          0.7406220748189121,
          0.861853248522778,
          0.879540154640948,
          0.7367416145433882,
          0.9865295140664634,
          0.8379601827108427,
          0.5885027500608921,
          0.6628740869029591,
          0.8150443925723841,
          0.6658989979457801,
          0.9980560201345628,
          0.7058233935050678,
          0.9404309837390248,
          0.8044346948281257,
          0.7383385847393505,
          0.737945186703899,
          0.8222402801797996,
          0.9514270701770048,
          0.6427848108240123,
          0.6317880270541051,
          0.8461588589512595,
          0.885668009811326,
          0.7619876219441313,
          0.8622807287644244,
          0.905957819953389,
          0.6435255675962355,
          0.9959963828624908,
          0.9489813602946108,
          0.8950836477547535,
          0.5483762846123287,
          0.8784700204053478,
          0.6401822741767856,
          0.6103981727333089,
          0.9207500025285156,
          0.893449452824805,
          0.9824638112502374,
          0.923678599787845,
          0.991582626282112,
          0.9858008,
          0.5555168775496039,
          0.8836673212765657,
          0.7596095143233054,
          0.6052379655254058,
          0.9040221495757949,
          0.9728139729672268,
          0.5386756264840085,
          0.735621190142122,
          0.8367086291426394,
          0.5031066024067997,
          0.9784189360064662,
          0.8357573616943185,
          0.995179157239252,
          0.9097437547181052,
          0.8218767156162797,
          0.8324645234707161,
          0.858496289399929,
          0.8763129633616883,
          0.9282154318267866,
          0.9129956873010948,
          0.8561536574121041,
          0.7458456609166912,
          0.9049545875026422,
          0.8492799363669451,
          0.6139903212523941,
          0.8529405685789454,
          0.6857652966786306,
          0.9539949247270062,
          0.9932733548516736,
          0.628380990316688,
          0.9663698629074596,
          0.852864782112318,
          0.7538400000000001,
          0.8664545689188952,
          0.6731474095134388,
          0.9470127240154692,
          0.91510897037795,
          0.7164712061888366
         ],
         "y0": " ",
         "yaxis": "y"
        },
        {
         "alignmentgroup": "True",
         "box": {
          "visible": true
         },
         "hovertemplate": "searcher=ASHACFOSearcher<br>best_result_normalized=%{y}<extra></extra>",
         "legendgroup": "ASHACFOSearcher",
         "marker": {
          "color": "#00cc96"
         },
         "name": "ASHACFOSearcher",
         "offsetgroup": "ASHACFOSearcher",
         "orientation": "v",
         "points": "suspectedoutliers",
         "scalegroup": "True",
         "showlegend": true,
         "type": "violin",
         "x0": " ",
         "xaxis": "x",
         "y": [
          0.9335911368044896,
          0.9022605705446284,
          0.922829641875469,
          0.8329458859860862,
          0.6454304490784666,
          0.9308873243450828,
          0.7907562973198864,
          0.8993054070340737,
          0.8028026428072423,
          0.9177017776635834,
          0.6628831705188898,
          0.999995246554522,
          0.6554246806198212,
          0.9877189388282134,
          0.6892761575588114,
          0.9152361963156532,
          0.8662530219959405,
          0.9628065001819448,
          0.8579358890411282,
          0.8682549210999818,
          0.7459575692742225,
          0.9256252340613184,
          0.8212344715351195,
          0.8329944163203118,
          0.8195791766360622,
          0.9434303821052784,
          0.7327014669543527,
          0.8697702227296435,
          0.8176115015713133,
          0.8712462507632295,
          0.9166637026967284,
          0.9528614136667056,
          0.9761146948355792,
          0.7082623098000861,
          0.91515463414718,
          0.8204305370483884,
          0.877389694324194,
          0.886144901488474,
          0.9236862409971508,
          0.9474441333333332,
          0.7480755277407569,
          0.8826082136446273,
          0.9757206316912582,
          0.6656248452379914,
          0.8575647999999999,
          0.8419384114822974,
          0.8068073532023471,
          0.8158033673489372,
          0.6834025460285229,
          0.7499974294171489,
          0.8406810894090416,
          0.8000492339903197,
          0.9872896069195626,
          0.6776378605348912,
          0.9755312906183584,
          0.853074746232037,
          0.9922129899597398,
          0.9171899903045628,
          0.7524658035647788,
          0.9019744245199974,
          0.917964453778433,
          0.8638897091871742,
          0.772995580063052,
          0.8376738394699914,
          0.6741561377631441,
          0.7791339657765403,
          0.8136008875705493,
          0.8918907455655448,
          0.794279012037263,
          0.6494985810884529,
          0.8365881138881734,
          0.9354438769331296,
          0.8309132,
          0.8913540338985895,
          0.7405550189841987,
          0.9871047718366186,
          0.8717592045376636,
          0.8285838700454192
         ],
         "y0": " ",
         "yaxis": "y"
        },
        {
         "alignmentgroup": "True",
         "box": {
          "visible": true
         },
         "hovertemplate": "searcher=ASHAHEBOSearcher<br>best_result_normalized=%{y}<extra></extra>",
         "legendgroup": "ASHAHEBOSearcher",
         "marker": {
          "color": "#ab63fa"
         },
         "name": "ASHAHEBOSearcher",
         "offsetgroup": "ASHAHEBOSearcher",
         "orientation": "v",
         "points": "suspectedoutliers",
         "scalegroup": "True",
         "showlegend": true,
         "type": "violin",
         "x0": " ",
         "xaxis": "x",
         "y": [
          0.9504993433163212,
          0.9093870474438824,
          0.8923277558349506,
          0.980246800198874,
          0.8816824894669172,
          0.8238845902329865,
          0.8100060158902261,
          0.8076445524573236,
          0.5965694772198157,
          0.931693254307882,
          0.7256327274831037,
          0.889300480948283,
          0.9951979152998124,
          0.9577931642472488,
          0.9206194783249756,
          0.8258223363206852,
          0.7524832411538757,
          0.7693933344105502,
          0.8259046445151049,
          0.952259641177978,
          0.9310790653266604,
          0.7018735111791209,
          0.7800974454188078,
          0.7514522936152831,
          0.8303593615896571,
          0.9689453623146616,
          0.8331866688340224,
          0.9243784518851944,
          0.7914938986024387,
          0.9521302977183764,
          0.5212691304650263,
          0.8699055703145134,
          0.8884608538524343,
          0.844057252069625,
          0.9846637894395688,
          0.9476351397500016,
          0.7716824949894393,
          0.943016073754748,
          0.9333215202106856,
          0.6770381691464076,
          0.711909592638071,
          0.7993848958741125,
          0.7758884520793342,
          0.879892821429717,
          0.9904665910349438,
          0.8333235572730922,
          0.6217585101347182,
          0.7262871621437091,
          0.8310579834693002,
          0.6670356999408148,
          0.9474664791128066,
          0.711291298484562,
          0.7862911332877038,
          0.8389199406902574,
          0.9320565137692292,
          0.7128267349118746,
          0.8456205357802681,
          0.8625741362479417,
          0.9471387587474046,
          0.8164321958357617,
          0.7494885271242406,
          0.7709112644896134,
          0.8096166082153132,
          0.9208367875263572,
          0.9529281063057936,
          0.984937939181578,
          0.9996765204592364,
          0.870195973294329,
          0.9347944757704658,
          0.6319775003593952,
          0.881503232859124,
          0.8411478226950683,
          0.8993264117860337,
          0.993869363351952,
          0.8165030739528566,
          0.8845733620232458,
          0.9177113641346052,
          0.7276127947774214
         ],
         "y0": " ",
         "yaxis": "y"
        },
        {
         "alignmentgroup": "True",
         "box": {
          "visible": true
         },
         "hovertemplate": "searcher=ASHAHyperOptSearcher<br>best_result_normalized=%{y}<extra></extra>",
         "legendgroup": "ASHAHyperOptSearcher",
         "marker": {
          "color": "#FFA15A"
         },
         "name": "ASHAHyperOptSearcher",
         "offsetgroup": "ASHAHyperOptSearcher",
         "orientation": "v",
         "points": "suspectedoutliers",
         "scalegroup": "True",
         "showlegend": true,
         "type": "violin",
         "x0": " ",
         "xaxis": "x",
         "y": [
          0.9396464288977956,
          0.7136151975653736,
          0.921813595788648,
          0.8942532822497585,
          0.6759038060086578,
          0.8006387787399216,
          0.913078578192498,
          0.5531278903603764,
          0.9973008898363688,
          0.6229201248688278,
          0.8010998785025215,
          0.9075685031855074,
          0.7702181028372536,
          0.7889876945848061,
          0.9675451360049953,
          0.9279251058643356,
          0.8399307231101206,
          0.609970454126742,
          0.9753079293911712,
          0.4707450152911736,
          0.9105701182889868,
          0.8476018516167741,
          0.744190508645219,
          0.9497641307225076,
          0.7978315354632123,
          0.8655717859362152,
          0.8483575885172884,
          0.7858129817974572,
          0.952774141992021,
          0.8387993487519937,
          0.5023694675456686,
          0.9603449565243444,
          0.9550040255051808,
          0.8368815439487008,
          0.9884137768909852,
          0.9990976573061092,
          0.8774841899909557,
          0.8951687212213346,
          0.9569380866211672,
          0.8815553738773012,
          0.784917355022133,
          0.9067783387772748,
          0.8867328393114512,
          0.8512413833038935,
          0.6518449333333335,
          0.9069477280762994,
          0.6632403384912363,
          0.8320828501428714,
          0.8045891198204417,
          0.7070240423607341,
          0.9998823104534856,
          0.9407159920217892,
          0.8094322229978673,
          0.9214042423900344,
          0.995924464316631,
          0.7221199374634626,
          0.9546387406557888,
          0.9452690864202652,
          0.7563426666666667,
          0.9059269323458916,
          0.8847435346204103,
          0.7594568179642821,
          0.8371066681494911,
          0.9228565308648692,
          0.97644368252349,
          0.6584609287943705,
          0.8875794576977616,
          0.9972272728133874,
          0.9565492410185948,
          0.8972060710481925,
          0.9340552304117604,
          0.9573098918075968,
          0.8096197333333334,
          0.9810003455611144,
          0.478325185012509,
          0.9759969727852758,
          0.9569155438846736,
          0.9231241812749827
         ],
         "y0": " ",
         "yaxis": "y"
        },
        {
         "alignmentgroup": "True",
         "box": {
          "visible": true
         },
         "hovertemplate": "searcher=ASHAOptunaTPESearcher<br>best_result_normalized=%{y}<extra></extra>",
         "legendgroup": "ASHAOptunaTPESearcher",
         "marker": {
          "color": "#19d3f3"
         },
         "name": "ASHAOptunaTPESearcher",
         "offsetgroup": "ASHAOptunaTPESearcher",
         "orientation": "v",
         "points": "suspectedoutliers",
         "scalegroup": "True",
         "showlegend": true,
         "type": "violin",
         "x0": " ",
         "xaxis": "x",
         "y": [
          0.7388764679869065,
          0.7336143874442893,
          0.7764456033380561,
          0.6877538626789187,
          0.7300782007595913,
          0.8885646097515042,
          0.9268537389953684,
          0.7067260647379618,
          0.7990808468657495,
          0.9174939982049968,
          0.7539988228949092,
          0.9207198774206532,
          0.6987344031243419,
          0.9732325980917028,
          0.8747684310769267,
          0.8995495899217244,
          0.8153868737919915,
          0.8859333498626304,
          0.8532270400076968,
          0.7712424365385365,
          0.8075681248907637,
          0.8606766455792476,
          0.7200805816641429,
          0.7299282233287907,
          0.6294419802911367,
          0.8304846109806866,
          0.6631943150509428,
          0.932427285210444,
          0.8735688182489625,
          0.8093143281545873,
          0.4023646547761457,
          0.931563714254132,
          0.8600362233297444,
          0.702538977750759,
          0.9466854826049012,
          0.8993129552345263,
          0.9558547939400696,
          0.8158533382811121,
          0.8122093991141949,
          0.6821653430769152,
          0.8328486196026893,
          0.7588221180937923,
          0.9883799470058506,
          0.6632397892015404,
          0.9909408000000002,
          0.8899176283759244,
          0.6349073137062503,
          0.7698645171011241,
          0.8679372371169208,
          0.6661614582652293,
          0.6621767720065028,
          0.770827722528655,
          0.9572637997841864,
          0.973822080977882,
          0.950049312748168,
          0.6226396452448553,
          0.8432962088144667,
          0.8927879607530743,
          0.5631981082719003,
          0.5654275099532894,
          0.9998204358138733,
          0.9912408813305216,
          0.7663054015613927,
          0.9191619979661751,
          0.819044927211633,
          0.8196936660291904,
          0.9896314687613552,
          0.8232657597190175,
          0.7578872021251403,
          0.3990927796091297,
          0.9511287061389594,
          0.8428967548180902,
          0.8342663100562119,
          0.8988291687852822,
          0.9968619047805248,
          0.9807550115360782,
          0.9505384597652066,
          0.8328803901271797
         ],
         "y0": " ",
         "yaxis": "y"
        },
        {
         "alignmentgroup": "True",
         "box": {
          "visible": true
         },
         "hovertemplate": "searcher=ASHARandomSearch<br>best_result_normalized=%{y}<extra></extra>",
         "legendgroup": "ASHARandomSearch",
         "marker": {
          "color": "#FF6692"
         },
         "name": "ASHARandomSearch",
         "offsetgroup": "ASHARandomSearch",
         "orientation": "v",
         "points": "suspectedoutliers",
         "scalegroup": "True",
         "showlegend": true,
         "type": "violin",
         "x0": " ",
         "xaxis": "x",
         "y": [
          0.9905712448114296,
          0.7018068979446869,
          0.9996985612586616,
          0.992976492955651,
          0.8458182239123071,
          0.9831859963959472,
          0.9261101694152056,
          0.9533162863329554,
          0.699294712117962,
          0.9277964227170882,
          0.6657804077230113,
          0.9777927905041248,
          0.6884117019097769,
          0.8384249239647527,
          0.742996116768231,
          0.953634043069194,
          0.9999809736624152,
          0.6893127518726357,
          0.993229874531518,
          0.855059714193013,
          0.8497100927064373,
          0.7332595436187703,
          0.7785529405990155,
          0.7760260783015855,
          0.9779878054851796,
          0.9536220257030632,
          0.7150125345343072,
          0.87158943420338,
          0.8797027729635397,
          0.9940560568012128,
          0.6763162577628635,
          0.6943455902686887,
          0.954691864303532,
          0.9013073108625714,
          0.8773634765686804,
          0.9443157004124308,
          0.7644334368628695,
          0.8686375085953554,
          0.6728165368642313,
          0.9467777333333336,
          0.8176886945593478,
          0.7821030185561871,
          0.9525285994246888,
          0.8144801710275559,
          0.9051493624617754,
          0.9030663344405157,
          0.4408855417855501,
          0.7161665441689277,
          0.6062194039939421,
          0.6198117359446081,
          0.840428573279416,
          0.8727417689634258,
          0.9918164650238932,
          0.8657809835932149,
          0.6625350172291237,
          0.7972545950805147,
          0.9751635490779056,
          0.5973434951130664,
          0.8632120499743423,
          0.9118257195081536,
          0.8827224594508013,
          0.8084229467098539,
          0.6014588473720356,
          0.9096455348329988,
          0.8249235044323392,
          0.6926579060104839,
          0.9998370030272196,
          0.9473179945235772,
          0.8404729495652948,
          0.7282701577794234,
          0.7587996148641293,
          0.9018927415477368,
          0.8134907810718616,
          0.9708623540764124,
          0.7182129622393828,
          0.9858534177214252,
          0.9135472189890668,
          0.8883389685826811
         ],
         "y0": " ",
         "yaxis": "y"
        },
        {
         "alignmentgroup": "True",
         "box": {
          "visible": true
         },
         "hovertemplate": "searcher=ASHASkOptSearcher<br>best_result_normalized=%{y}<extra></extra>",
         "legendgroup": "ASHASkOptSearcher",
         "marker": {
          "color": "#B6E880"
         },
         "name": "ASHASkOptSearcher",
         "offsetgroup": "ASHASkOptSearcher",
         "orientation": "v",
         "points": "suspectedoutliers",
         "scalegroup": "True",
         "showlegend": true,
         "type": "violin",
         "x0": " ",
         "xaxis": "x",
         "y": [
          0.9211744708648696,
          0.9117018992887088,
          0.8036486465442217,
          0.9482204883011108,
          0.862460328043623,
          0.807542592653042,
          0.9057947481169256,
          0.4740101244198049,
          0.7624935806438408,
          0.8325540384764988,
          0.728095348963192,
          0.999882171609986,
          0.9088124205298236,
          0.9356810440325324,
          0.7367764818527517,
          0.8750933090497939,
          0.6366518141574333,
          0.9624922784586848,
          0.9935507397414736,
          0.8648107095522816,
          0.8484522452709072,
          0.8198200212115349,
          0.6156247275036868,
          0.8070845232852157,
          0.90384809487727,
          0.9180615781277274,
          0.7218735364035599,
          0.8289696085140186,
          0.985262349955752,
          0.9737756904586908,
          0.8918492729304637,
          0.9750597071182736,
          0.9874915954252634,
          0.850375774269953,
          0.7602981073656762,
          0.991973001564302,
          0.6376978569193245,
          0.7138442468163847,
          0.8983989078328705,
          0.9609555187034008,
          0.911150342287182,
          0.8849815432694582,
          0.6950400149550134,
          0.7073092356466791,
          0.9734024,
          0.8778685163129575,
          0.8227084500492964,
          0.7685017848409638,
          0.8963336947382832,
          0.6702435421488434,
          0.9644479944938744,
          0.8096817626728203,
          0.9536258162273542,
          0.9634655621801076,
          0.9731518893840998,
          0.8567560472526233,
          0.9634973154030088,
          0.9529279864905978,
          0.6387858991747791,
          0.9480644470610878,
          0.8070791623992203,
          0.93546889053222,
          0.8647880025747599,
          0.799831431381974,
          0.8089078358801879,
          0.7698712063540821,
          0.924911219873336,
          0.9986233986681096,
          0.9121812912402776,
          0.900724163210022,
          0.9114515725057336,
          0.8834367421479333,
          0.8517853555555553,
          0.8760795695738587,
          0.7183342744809215,
          0.9471171271496248,
          0.9825365013704106,
          0.8074832320409872
         ],
         "y0": " ",
         "yaxis": "y"
        },
        {
         "alignmentgroup": "True",
         "box": {
          "visible": true
         },
         "hovertemplate": "searcher=AxSearcher<br>best_result_normalized=%{y}<extra></extra>",
         "legendgroup": "AxSearcher",
         "marker": {
          "color": "#FF97FF"
         },
         "name": "AxSearcher",
         "offsetgroup": "AxSearcher",
         "orientation": "v",
         "points": "suspectedoutliers",
         "scalegroup": "True",
         "showlegend": true,
         "type": "violin",
         "x0": " ",
         "xaxis": "x",
         "y": [
          0.9527625871860916,
          0.5255150355785249,
          0.9198189484544012,
          0.9871441016434144,
          0.9057036398054996,
          0.8978034802131156,
          0.8496600273404789,
          0.4686241145063676,
          0.8042573369845248,
          0.8492761854066057,
          0.7437219920542096,
          0.8978497722128557,
          0.5761656983484085,
          0.952609032877606,
          0.9401170237660572,
          0.933771816532035,
          0.9300565204790212,
          0.6865930449393455,
          0.8082274614630636,
          0.9259310595963046,
          0.8222387271328663,
          0.8587863121887298,
          0.7798740256345976,
          0.7745302924433473,
          0.8336190764713859,
          0.7611247769527898,
          0.7618925463378915,
          0.9431760882985608,
          0.9278253783352371,
          0.8688234316830662,
          0.3461434712211231,
          0.8005739836772007,
          0.8070886711363184,
          0.7904383094612172,
          0.8491318845410644,
          0.9281787602596532,
          0.8739627369137503,
          0.891328109438463,
          0.8640582967306093,
          0.9845396,
          0.7329110531552655,
          0.9093539433124254,
          0.4503154412697072,
          0.764776786966545,
          0.9815587999999998,
          0.8295010109780304,
          0.4974383195783413,
          0.930310849424747,
          0.7480257638462047,
          0.5265214013976883,
          0.9998244912971912,
          0.5290646322025713,
          0.6795889122439461,
          0.7602628117015121,
          0.9794439013521208,
          0.6981784523189595,
          0.9313125163861988,
          0.7163111216779656,
          0.9098957333333332,
          0.9440426158544948,
          0.8213658162528592,
          0.5823053783396216,
          0.9092145071658152,
          0.7256401778072243,
          0.902602638739332,
          0.6972181977819023,
          0.9764392866327478,
          0.997988832773761,
          0.6098645623314729,
          0.5399734848351393,
          0.867993263663514,
          0.9279619966842496,
          0.7683725577990966,
          0.9043947952719756,
          1,
          0.9092015240821116,
          0.9638547169248216,
          0.8396203324860473
         ],
         "y0": " ",
         "yaxis": "y"
        },
        {
         "alignmentgroup": "True",
         "box": {
          "visible": true
         },
         "hovertemplate": "searcher=BOHBSearcher<br>best_result_normalized=%{y}<extra></extra>",
         "legendgroup": "BOHBSearcher",
         "marker": {
          "color": "#FECB52"
         },
         "name": "BOHBSearcher",
         "offsetgroup": "BOHBSearcher",
         "orientation": "v",
         "points": "suspectedoutliers",
         "scalegroup": "True",
         "showlegend": true,
         "type": "violin",
         "x0": " ",
         "xaxis": "x",
         "y": [
          0.9796977505113208,
          0.8114982904206339,
          0.8911157033008461,
          0.9692362632567108,
          0.7503527601780471,
          0.8274420651322091,
          0.9512149009403646,
          0.7676142388766932,
          0.5798236639281956,
          0.8767492487251193,
          0.6779224666481017,
          0.9493499184759696,
          0.9047903078396674,
          0.9950674756704024,
          0.8944104314790943,
          0.894605128628282,
          0.9753060175656112,
          0.9946171398683378,
          0.9332886559626192,
          0.9309394003482188,
          0.851636770834499,
          0.7806963689327375,
          0.9607231164273596,
          0.7005474310867766,
          0.9846030909239246,
          0.8815238294506188,
          0.7191441121056789,
          0.9998423347624708,
          0.7808934453297169,
          0.7547894735971621,
          0.4098914341091808,
          0.6266618313687927,
          0.876528841689279,
          0.5715851205585021,
          0.9611610601019216,
          0.9713205454228232,
          0.5230751728733999,
          0.9921427822938786,
          0.9010689597272592,
          0.8323262666666666,
          0.8234729923200425,
          0.7973562522476891,
          0.8117815370495798,
          0.9992452924501724,
          0.9423591959672638,
          0.8700145548830439,
          0.7599592612831861,
          0.7956245005050308,
          0.7905353967553848,
          0.7403762422348148,
          0.7594647764155326,
          0.7911558877973185,
          0.6963533413407653,
          0.6041285133114712,
          0.9779455390995696,
          0.7444679098436855,
          0.7885645405745709,
          0.8267148594885895,
          0.9488590666666668,
          0.7944358322765614,
          0.8430094465458614,
          0.7838572223738102,
          0.6490659939550901,
          0.8829776466402485,
          0.5631764535335794,
          0.6871158729783624,
          0.975783960341455,
          0.9991124268080724,
          0.9691660811666796,
          0.6172949396320738,
          0.8721093853424469,
          0.7314012400230752,
          0.875332697600664,
          0.994973694937864,
          0.8054498326703733,
          0.988432866308397,
          0.8799811647980688,
          0.9614811817150708
         ],
         "y0": " ",
         "yaxis": "y"
        },
        {
         "alignmentgroup": "True",
         "box": {
          "visible": true
         },
         "hovertemplate": "searcher=BlendSearchSearcher<br>best_result_normalized=%{y}<extra></extra>",
         "legendgroup": "BlendSearchSearcher",
         "marker": {
          "color": "#636efa"
         },
         "name": "BlendSearchSearcher",
         "offsetgroup": "BlendSearchSearcher",
         "orientation": "v",
         "points": "suspectedoutliers",
         "scalegroup": "True",
         "showlegend": true,
         "type": "violin",
         "x0": " ",
         "xaxis": "x",
         "y": [
          0.9561511655673268,
          0.6218325857666481,
          0.6796465168378306,
          0.9661101132615636,
          0.8440613772064268,
          0.9228695129599296,
          0.9489672106443822,
          0.9028277631672976,
          0.7020324312977512,
          0.8306888599146136,
          0.5090889260187506,
          0.9053775876362824,
          0.8834399972145578,
          0.9879157850836264,
          0.8759332893696915,
          0.9386732062522312,
          0.8375118688162352,
          0.9160217083693812,
          0.974570910096194,
          0.7638734748950604,
          0.9076928481646962,
          0.7241083509353442,
          0.6693453888377666,
          0.8150461704818808,
          0.8431852404861228,
          0.9036000072451298,
          0.7773003386816094,
          0.8858662556908725,
          0.9207767324302476,
          0.9934322769097688,
          0.0838205581647411,
          0.9309335097372194,
          0.9428568844718092,
          0.8118596977463381,
          0.9527529971773706,
          0.9821953029307612,
          0.8237264494595221,
          0.9913113282726383,
          0.6677015477384547,
          0.8708853333333333,
          0.7243055443055678,
          0.7888701667646788,
          0.9532996236489876,
          0.8238249826623624,
          0.8634235999999998,
          0.8676034149800047,
          0.7789210389380061,
          0.6409792709483771,
          0.9448916991427722,
          0.6493009598765839,
          0.8808418618379763,
          0.8802990698635306,
          0.9020864336312472,
          0.945850784718338,
          0.8075637213755416,
          0.6127286216346044,
          0.8968689204146925,
          0.593514392609163,
          0.8725734666666668,
          0.9881016147324536,
          0.6321732178679107,
          0.9466235598173276,
          0.8279044890376337,
          0.8759664757862432,
          0.860550493923916,
          0.6764682729398941,
          0.7667008291461715,
          0.9950860247604304,
          0.8356814148638015,
          0.7300996072319567,
          0.5689490547400894,
          0.9109934037048484,
          0.8562636000000001,
          0.9123865009963328,
          0.8920271578966577,
          0.9463277503787068,
          0.9471267410859464,
          0.915216749375723
         ],
         "y0": " ",
         "yaxis": "y"
        },
        {
         "alignmentgroup": "True",
         "box": {
          "visible": true
         },
         "hovertemplate": "searcher=CFOSearcher<br>best_result_normalized=%{y}<extra></extra>",
         "legendgroup": "CFOSearcher",
         "marker": {
          "color": "#EF553B"
         },
         "name": "CFOSearcher",
         "offsetgroup": "CFOSearcher",
         "orientation": "v",
         "points": "suspectedoutliers",
         "scalegroup": "True",
         "showlegend": true,
         "type": "violin",
         "x0": " ",
         "xaxis": "x",
         "y": [
          0.9833264784816332,
          0.7426594348630374,
          0.4688331744724534,
          0.7422647422835854,
          0.7580219849416139,
          0.9898890817816668,
          0.8878434165891941,
          0.4587424216702197,
          0.9403051416274656,
          0.7222931374739222,
          0.6998720976197847,
          0.7341274376954766,
          0.882733441572494,
          0.8916448309896019,
          0.9138989642117116,
          0.8749197594328885,
          0.7589841549612933,
          0.8380808045975409,
          0.8731812896041359,
          0.8997242402760753,
          0.9973176804894988,
          0.7220803801522223,
          0.8063372702690744,
          0.8746321966375477,
          0.8071366566188676,
          0.8931167873762288,
          0.6396958824959141,
          0.9769261096037444,
          0.9184375713969898,
          0.9440754691969871,
          0.6588992241556403,
          0.9490906286353216,
          0.8867627430620503,
          0.6914187251093803,
          0.990700388178249,
          0.9999999269899096,
          0.9925172664083108,
          0.8247034627503039,
          0.873107397140723,
          0.9754917573095616,
          0.7184120435144689,
          0.819820012957036,
          0.9095977877610674,
          0.6190845957103309,
          0.7948505715898516,
          0.5218470684295061,
          0.6314624196523052,
          0.6611757837890263,
          0.7509177831911497,
          0.50972450226406,
          0.8661333094647284,
          0.8319405082767868,
          0.9904591738626164,
          0.9580625770220242,
          0.6588531116174791,
          0.5679050487283633,
          0.9047919403802676,
          0.7860285595007971,
          0.909124,
          0.8701472666146159,
          0.9013376688915338,
          0.6990411717629583,
          0.7971843310015693,
          0.7449470048297328,
          0.8281295295665013,
          0.8538734584217188,
          0.984673214036534,
          0.975452151959782,
          0.9692403549511326,
          0.8918750941570336,
          0.8759710876511013,
          0.9581462599906696,
          0.6356784435079775,
          0.9581900196862004,
          0.8768854248786164,
          0.9719748959326232,
          0.7420881332960908,
          0.8622592843616207
         ],
         "y0": " ",
         "yaxis": "y"
        },
        {
         "alignmentgroup": "True",
         "box": {
          "visible": true
         },
         "hovertemplate": "searcher=HEBOSearcher<br>best_result_normalized=%{y}<extra></extra>",
         "legendgroup": "HEBOSearcher",
         "marker": {
          "color": "#00cc96"
         },
         "name": "HEBOSearcher",
         "offsetgroup": "HEBOSearcher",
         "orientation": "v",
         "points": "suspectedoutliers",
         "scalegroup": "True",
         "showlegend": true,
         "type": "violin",
         "x0": " ",
         "xaxis": "x",
         "y": [
          0.946330043544827,
          0.9103889598476068,
          0.8453614914204998,
          0.8673428422432536,
          0.9068083536402934,
          0.8433102941144441,
          0.8721723605182247,
          0.6770072930995844,
          0.7585882237018798,
          0.8394497029138474,
          0.736311016518699,
          0.9998946447439778,
          0.7449812394439173,
          0.9932809521346758,
          0.7704751871825714,
          0.9616069715220134,
          0.8286023045209475,
          0.922735816895328,
          0.4112504930543628,
          0.9099285842065808,
          0.9869027215079912,
          0.7956982524462675,
          0.6695888842015072,
          0.7753831103086218,
          0.7595992748235458,
          0.9416912450527796,
          0.7741993745695557,
          0.960775551657196,
          0.9982144153553404,
          0.9772512442067582,
          0.8121441166912481,
          0.8751392389084603,
          0.900834120661572,
          0.7939400413158207,
          0.9456534051002334,
          0.9995538687250544,
          0.9820684729731538,
          0.9082951337238502,
          0.8153698325478057,
          0.990264243039666,
          0.7783966258730044,
          0.8447208960206849,
          0.9995992567466484,
          0.7850561654128893,
          0.7580903113744278,
          0.907515896795926,
          0.4529711999999999,
          0.827059037239671,
          0.759363594584673,
          0.525923266702619,
          0.9549588778263473,
          0.7576945707607505,
          0.9958815292031532,
          0.7642928893641575,
          0.9130160198439908,
          0.7826183555857797,
          0.6013515115038405,
          0.4666550057579876,
          0.9065848,
          0.811467862122381,
          0.905987930699318,
          0.6222295172083775,
          0.8238357643068094,
          0.6926986846033363,
          0.8880686676488824,
          0.6722081168438357,
          0.9139654012054907,
          0.9904088126425088,
          0.9870490418881512,
          0.7757346856395042,
          0.8917464182453042,
          0.8682938725380897,
          0.6302242913280192,
          0.9918007222488672,
          0.9579335442254276,
          0.9221795805383316,
          0.937665562419793,
          0.9037809691954208
         ],
         "y0": " ",
         "yaxis": "y"
        },
        {
         "alignmentgroup": "True",
         "box": {
          "visible": true
         },
         "hovertemplate": "searcher=HyperOptSearcher<br>best_result_normalized=%{y}<extra></extra>",
         "legendgroup": "HyperOptSearcher",
         "marker": {
          "color": "#ab63fa"
         },
         "name": "HyperOptSearcher",
         "offsetgroup": "HyperOptSearcher",
         "orientation": "v",
         "points": "suspectedoutliers",
         "scalegroup": "True",
         "showlegend": true,
         "type": "violin",
         "x0": " ",
         "xaxis": "x",
         "y": [
          0.9970320995654368,
          0.762653386630536,
          0.8829793023924255,
          0.9101210330054288,
          0.8689777559061,
          0.9566518789695152,
          0.967291934324884,
          0.7475918746425952,
          0.531311977028255,
          0.8313516619659701,
          0.5655470406531989,
          0.9609992096453984,
          0.7101742456893717,
          0.950484084095074,
          0.9086396515854084,
          0.8525610054319269,
          0.8283519946258022,
          0.6165714389663167,
          0.89718163187856,
          0.8707543521132731,
          0.7934970842147123,
          0.8861765180847091,
          0.8501494152648302,
          0.7052014415055,
          0.8747470995811653,
          0.9089470927399514,
          0.7559654660150678,
          0.8635838396979633,
          0.9692780155325678,
          0.8339922398300832,
          0.8706026904302727,
          0.9990589401779544,
          0.995967500948366,
          0.6694278565095068,
          0.6862412238892258,
          0.9697649966814468,
          0.981183400814218,
          0.899907911450847,
          0.927827523163646,
          0.992472878924697,
          0.7446042535357776,
          0.91997413820447,
          0.9876629517772848,
          0.7181840648891623,
          0.9617599999999998,
          0.8975263556280925,
          0.9136843999999998,
          0.5796263945524942,
          0.8749364443974175,
          0.8851017410472117,
          0.9630115088325492,
          0.6880987341868611,
          0.9957315713070632,
          0.7559235385635548,
          0.8705654895171557,
          0.640934055459343,
          0.9189424442322078,
          0.9418266398067936,
          0.8187743376168694,
          0.868002337106939,
          0.8447642585985925,
          0.7005086853500228,
          0.7623304049527052,
          0.97381599784732,
          0.7904300061415593,
          0.7248233692037914,
          0.923383572326813,
          0.9974198519917638,
          0.6742433767199936,
          0.6207022625386451,
          0.8233289212750196,
          0.7752925142398506,
          0.9258393020506952,
          0.9869110804654048,
          0.9282052245685092,
          0.9838616595712656,
          0.7984277951655353,
          0.9580585182059206
         ],
         "y0": " ",
         "yaxis": "y"
        },
        {
         "alignmentgroup": "True",
         "box": {
          "visible": true
         },
         "hovertemplate": "searcher=OptunaTPESearcher<br>best_result_normalized=%{y}<extra></extra>",
         "legendgroup": "OptunaTPESearcher",
         "marker": {
          "color": "#FFA15A"
         },
         "name": "OptunaTPESearcher",
         "offsetgroup": "OptunaTPESearcher",
         "orientation": "v",
         "points": "suspectedoutliers",
         "scalegroup": "True",
         "showlegend": true,
         "type": "violin",
         "x0": " ",
         "xaxis": "x",
         "y": [
          0.981844230325384,
          0.7364080931494079,
          0.6510245703251126,
          0.7229585055768801,
          0.759336935932017,
          0.9398842786307016,
          0.8453030055347438,
          0.4726950442586443,
          0.7671638577532033,
          0.7398605812622634,
          0.7572454799255235,
          0.9643994978995653,
          0.7286574724992718,
          0.7864725164421662,
          0.9049124545848978,
          0.9847466703954052,
          0.9730529720780596,
          0.8621945256573232,
          0.9919064756192691,
          0.837801538426285,
          0.7461391987885008,
          0.8188405467669159,
          0.6970289331676395,
          0.820409236290744,
          0.985810045743519,
          0.8821610066015578,
          0.832824322493467,
          0.9472607013119422,
          0.531517852514576,
          0.8730116120724473,
          0.2082866100942221,
          0.7854409224050958,
          0.9605566731946495,
          0.7841291008034924,
          0.9820288000477572,
          0.9999999152156528,
          0.9170509323107248,
          0.9030085929485184,
          0.8692929725822222,
          0.9232565167155268,
          0.759300947651925,
          0.7813434006251442,
          0.7756439332337031,
          0.8915743497505071,
          0.9308299999999996,
          0.7451112560413371,
          0.80301542576288,
          0.8426065920169842,
          0.8931748343521092,
          0.8351907537679377,
          0.973251859209838,
          0.6305237442592923,
          0.7389481853687342,
          0.962205654004662,
          0.9161761473664676,
          0.6702405697364183,
          0.9298963336542382,
          0.9837329747321766,
          0.7715712,
          0.8012976613437953,
          0.8899409312426537,
          0.7348014505237094,
          0.9403668550333756,
          0.9419493552034316,
          0.7005189224493403,
          0.9011842256481972,
          0.9175685048503992,
          0.8324102474378775,
          0.8780986197516691,
          0.8114818066510159,
          0.9088917749040928,
          0.9592277160106396,
          0.9312943434821914,
          0.9260370463697936,
          0.9287421457246202,
          0.8027967662477894,
          0.484990908594439,
          0.9234167124655612
         ],
         "y0": " ",
         "yaxis": "y"
        },
        {
         "alignmentgroup": "True",
         "box": {
          "visible": true
         },
         "hovertemplate": "searcher=RandomSearch<br>best_result_normalized=%{y}<extra></extra>",
         "legendgroup": "RandomSearch",
         "marker": {
          "color": "#19d3f3"
         },
         "name": "RandomSearch",
         "offsetgroup": "RandomSearch",
         "orientation": "v",
         "points": "suspectedoutliers",
         "scalegroup": "True",
         "showlegend": true,
         "type": "violin",
         "x0": " ",
         "xaxis": "x",
         "y": [
          0.9800886017782972,
          0.7526970012378729,
          0.7169519577845628,
          0.976119056342992,
          0.9542766460031572,
          0.7906165921139694,
          0.9558858832634304,
          0.592585936308525,
          0.6764330993934435,
          0.9132168633288394,
          0.907185988360645,
          0.9334317994316766,
          0.8369093548929837,
          0.9700827345468388,
          0.9006777336270795,
          0.9204570098271544,
          0.7267130213760792,
          0.6722524820198271,
          0.8824011496944636,
          0.9578522698155212,
          0.9994432867012532,
          0.6520625708684299,
          0.7504192226024702,
          0.9253623138957532,
          0.8298704975151195,
          0.813151812670528,
          0.6557003878140079,
          0.8927608261235377,
          0.9189059327159168,
          0.7894690495449718,
          0.9523647371118006,
          0.7558141077724508,
          0.9253049774733224,
          0.6152932982112097,
          0.9907148712989806,
          0.9939725389835044,
          0.9648897635341516,
          0.9199905855139002,
          0.9050248084381,
          0.9291517333333332,
          0.807209413480308,
          0.6811022784521358,
          0.9863594322439349,
          0.7032248492745196,
          0.8175295590828924,
          0.9484268675993922,
          0.628858080452675,
          0.7767062722705752,
          0.9527059171689576,
          0.3612376113324121,
          0.9856439544963574,
          0.3894886192639484,
          0.8021532654398368,
          0.7129720111529787,
          0.8698715504181652,
          0.681719692461177,
          0.9407054393102672,
          0.9905273451858252,
          0.9029182666666666,
          0.9065206027325308,
          0.9435685632044786,
          0.6115225035534674,
          0.8659693957334375,
          0.7258964574135006,
          0.6790624629296711,
          0.7217323472326332,
          0.9912335570982388,
          0.8181338581587769,
          0.9671020603018377,
          0.4989874060001538,
          0.9432875130938422,
          0.9674388274197177,
          0.908608,
          0.9938629878271422,
          0.6858168534214762,
          0.8600310732044395,
          0.781069659607153,
          0.9085678607705536
         ],
         "y0": " ",
         "yaxis": "y"
        },
        {
         "alignmentgroup": "True",
         "box": {
          "visible": true
         },
         "hovertemplate": "searcher=SkOptSearcher<br>best_result_normalized=%{y}<extra></extra>",
         "legendgroup": "SkOptSearcher",
         "marker": {
          "color": "#FF6692"
         },
         "name": "SkOptSearcher",
         "offsetgroup": "SkOptSearcher",
         "orientation": "v",
         "points": "suspectedoutliers",
         "scalegroup": "True",
         "showlegend": true,
         "type": "violin",
         "x0": " ",
         "xaxis": "x",
         "y": [
          0.8399873664566209,
          0.7375857216599618,
          0.8896804923948736,
          0.8189164081098327,
          0.6480623614246874,
          0.7379107717134626,
          0.8920958142131127,
          0.6120878906578581,
          0.7968422655437131,
          0.8716395929659618,
          0.7877523369709373,
          0.9999382698954232,
          0.8542197703290856,
          0.9141342753563187,
          0.8695060517802361,
          0.9893190451262898,
          0.8463934663951931,
          0.9918211982181464,
          0.991969534628946,
          0.9047905717191232,
          0.7513254463041813,
          0.6869409829666671,
          0.7786153380629678,
          0.8443997545426699,
          0.8480664758840416,
          0.90743597831916,
          0.7060026016748308,
          0.9757250268720796,
          0.915596183174644,
          0.9928974866242952,
          0.3400274199442477,
          0.7072275743006761,
          0.8541688925608187,
          0.7043676137366733,
          0.7928242778629885,
          0.8163429118582028,
          0.90693571333528,
          0.8562150618325779,
          0.9065010748472684,
          0.9413958501889644,
          0.8112744236131992,
          0.9261126864311277,
          0.913909146808192,
          0.7860055457777255,
          0.9802609292181068,
          0.6543514858441172,
          0.6158901899082829,
          0.6703499588156027,
          0.9161080576681312,
          0.7152075420724108,
          0.7039292417910618,
          0.7650673573228405,
          0.9967891342786144,
          0.843108386502356,
          0.7496745489639052,
          0.7832654812802299,
          0.8721460414615049,
          0.8255497974770463,
          0.8675920116141048,
          0.815164055805412,
          0.7901811975347702,
          0.8669420104269635,
          0.7425246545056129,
          0.8470822346927062,
          0.9667493457113138,
          0.7942409198628395,
          0.8814938207015065,
          0.7725007136538777,
          0.9483464745841405,
          0.6211637439124847,
          0.9498167938342382,
          0.8472396337520317,
          0.8230733333333333,
          0.9700065318942666,
          0.8938519349805857,
          0.8725199053843693,
          0.8757165832678412,
          0.5751291180293683
         ],
         "y0": " ",
         "yaxis": "y"
        }
       ],
       "layout": {
        "legend": {
         "title": {
          "text": "searcher"
         },
         "tracegroupgap": 0
        },
        "margin": {
         "t": 60
        },
        "template": {
         "data": {
          "bar": [
           {
            "error_x": {
             "color": "#2a3f5f"
            },
            "error_y": {
             "color": "#2a3f5f"
            },
            "marker": {
             "line": {
              "color": "#E5ECF6",
              "width": 0.5
             },
             "pattern": {
              "fillmode": "overlay",
              "size": 10,
              "solidity": 0.2
             }
            },
            "type": "bar"
           }
          ],
          "barpolar": [
           {
            "marker": {
             "line": {
              "color": "#E5ECF6",
              "width": 0.5
             },
             "pattern": {
              "fillmode": "overlay",
              "size": 10,
              "solidity": 0.2
             }
            },
            "type": "barpolar"
           }
          ],
          "carpet": [
           {
            "aaxis": {
             "endlinecolor": "#2a3f5f",
             "gridcolor": "white",
             "linecolor": "white",
             "minorgridcolor": "white",
             "startlinecolor": "#2a3f5f"
            },
            "baxis": {
             "endlinecolor": "#2a3f5f",
             "gridcolor": "white",
             "linecolor": "white",
             "minorgridcolor": "white",
             "startlinecolor": "#2a3f5f"
            },
            "type": "carpet"
           }
          ],
          "choropleth": [
           {
            "colorbar": {
             "outlinewidth": 0,
             "ticks": ""
            },
            "type": "choropleth"
           }
          ],
          "contour": [
           {
            "colorbar": {
             "outlinewidth": 0,
             "ticks": ""
            },
            "colorscale": [
             [
              0,
              "#0d0887"
             ],
             [
              0.1111111111111111,
              "#46039f"
             ],
             [
              0.2222222222222222,
              "#7201a8"
             ],
             [
              0.3333333333333333,
              "#9c179e"
             ],
             [
              0.4444444444444444,
              "#bd3786"
             ],
             [
              0.5555555555555556,
              "#d8576b"
             ],
             [
              0.6666666666666666,
              "#ed7953"
             ],
             [
              0.7777777777777778,
              "#fb9f3a"
             ],
             [
              0.8888888888888888,
              "#fdca26"
             ],
             [
              1,
              "#f0f921"
             ]
            ],
            "type": "contour"
           }
          ],
          "contourcarpet": [
           {
            "colorbar": {
             "outlinewidth": 0,
             "ticks": ""
            },
            "type": "contourcarpet"
           }
          ],
          "heatmap": [
           {
            "colorbar": {
             "outlinewidth": 0,
             "ticks": ""
            },
            "colorscale": [
             [
              0,
              "#0d0887"
             ],
             [
              0.1111111111111111,
              "#46039f"
             ],
             [
              0.2222222222222222,
              "#7201a8"
             ],
             [
              0.3333333333333333,
              "#9c179e"
             ],
             [
              0.4444444444444444,
              "#bd3786"
             ],
             [
              0.5555555555555556,
              "#d8576b"
             ],
             [
              0.6666666666666666,
              "#ed7953"
             ],
             [
              0.7777777777777778,
              "#fb9f3a"
             ],
             [
              0.8888888888888888,
              "#fdca26"
             ],
             [
              1,
              "#f0f921"
             ]
            ],
            "type": "heatmap"
           }
          ],
          "heatmapgl": [
           {
            "colorbar": {
             "outlinewidth": 0,
             "ticks": ""
            },
            "colorscale": [
             [
              0,
              "#0d0887"
             ],
             [
              0.1111111111111111,
              "#46039f"
             ],
             [
              0.2222222222222222,
              "#7201a8"
             ],
             [
              0.3333333333333333,
              "#9c179e"
             ],
             [
              0.4444444444444444,
              "#bd3786"
             ],
             [
              0.5555555555555556,
              "#d8576b"
             ],
             [
              0.6666666666666666,
              "#ed7953"
             ],
             [
              0.7777777777777778,
              "#fb9f3a"
             ],
             [
              0.8888888888888888,
              "#fdca26"
             ],
             [
              1,
              "#f0f921"
             ]
            ],
            "type": "heatmapgl"
           }
          ],
          "histogram": [
           {
            "marker": {
             "pattern": {
              "fillmode": "overlay",
              "size": 10,
              "solidity": 0.2
             }
            },
            "type": "histogram"
           }
          ],
          "histogram2d": [
           {
            "colorbar": {
             "outlinewidth": 0,
             "ticks": ""
            },
            "colorscale": [
             [
              0,
              "#0d0887"
             ],
             [
              0.1111111111111111,
              "#46039f"
             ],
             [
              0.2222222222222222,
              "#7201a8"
             ],
             [
              0.3333333333333333,
              "#9c179e"
             ],
             [
              0.4444444444444444,
              "#bd3786"
             ],
             [
              0.5555555555555556,
              "#d8576b"
             ],
             [
              0.6666666666666666,
              "#ed7953"
             ],
             [
              0.7777777777777778,
              "#fb9f3a"
             ],
             [
              0.8888888888888888,
              "#fdca26"
             ],
             [
              1,
              "#f0f921"
             ]
            ],
            "type": "histogram2d"
           }
          ],
          "histogram2dcontour": [
           {
            "colorbar": {
             "outlinewidth": 0,
             "ticks": ""
            },
            "colorscale": [
             [
              0,
              "#0d0887"
             ],
             [
              0.1111111111111111,
              "#46039f"
             ],
             [
              0.2222222222222222,
              "#7201a8"
             ],
             [
              0.3333333333333333,
              "#9c179e"
             ],
             [
              0.4444444444444444,
              "#bd3786"
             ],
             [
              0.5555555555555556,
              "#d8576b"
             ],
             [
              0.6666666666666666,
              "#ed7953"
             ],
             [
              0.7777777777777778,
              "#fb9f3a"
             ],
             [
              0.8888888888888888,
              "#fdca26"
             ],
             [
              1,
              "#f0f921"
             ]
            ],
            "type": "histogram2dcontour"
           }
          ],
          "mesh3d": [
           {
            "colorbar": {
             "outlinewidth": 0,
             "ticks": ""
            },
            "type": "mesh3d"
           }
          ],
          "parcoords": [
           {
            "line": {
             "colorbar": {
              "outlinewidth": 0,
              "ticks": ""
             }
            },
            "type": "parcoords"
           }
          ],
          "pie": [
           {
            "automargin": true,
            "type": "pie"
           }
          ],
          "scatter": [
           {
            "marker": {
             "colorbar": {
              "outlinewidth": 0,
              "ticks": ""
             }
            },
            "type": "scatter"
           }
          ],
          "scatter3d": [
           {
            "line": {
             "colorbar": {
              "outlinewidth": 0,
              "ticks": ""
             }
            },
            "marker": {
             "colorbar": {
              "outlinewidth": 0,
              "ticks": ""
             }
            },
            "type": "scatter3d"
           }
          ],
          "scattercarpet": [
           {
            "marker": {
             "colorbar": {
              "outlinewidth": 0,
              "ticks": ""
             }
            },
            "type": "scattercarpet"
           }
          ],
          "scattergeo": [
           {
            "marker": {
             "colorbar": {
              "outlinewidth": 0,
              "ticks": ""
             }
            },
            "type": "scattergeo"
           }
          ],
          "scattergl": [
           {
            "marker": {
             "colorbar": {
              "outlinewidth": 0,
              "ticks": ""
             }
            },
            "type": "scattergl"
           }
          ],
          "scattermapbox": [
           {
            "marker": {
             "colorbar": {
              "outlinewidth": 0,
              "ticks": ""
             }
            },
            "type": "scattermapbox"
           }
          ],
          "scatterpolar": [
           {
            "marker": {
             "colorbar": {
              "outlinewidth": 0,
              "ticks": ""
             }
            },
            "type": "scatterpolar"
           }
          ],
          "scatterpolargl": [
           {
            "marker": {
             "colorbar": {
              "outlinewidth": 0,
              "ticks": ""
             }
            },
            "type": "scatterpolargl"
           }
          ],
          "scatterternary": [
           {
            "marker": {
             "colorbar": {
              "outlinewidth": 0,
              "ticks": ""
             }
            },
            "type": "scatterternary"
           }
          ],
          "surface": [
           {
            "colorbar": {
             "outlinewidth": 0,
             "ticks": ""
            },
            "colorscale": [
             [
              0,
              "#0d0887"
             ],
             [
              0.1111111111111111,
              "#46039f"
             ],
             [
              0.2222222222222222,
              "#7201a8"
             ],
             [
              0.3333333333333333,
              "#9c179e"
             ],
             [
              0.4444444444444444,
              "#bd3786"
             ],
             [
              0.5555555555555556,
              "#d8576b"
             ],
             [
              0.6666666666666666,
              "#ed7953"
             ],
             [
              0.7777777777777778,
              "#fb9f3a"
             ],
             [
              0.8888888888888888,
              "#fdca26"
             ],
             [
              1,
              "#f0f921"
             ]
            ],
            "type": "surface"
           }
          ],
          "table": [
           {
            "cells": {
             "fill": {
              "color": "#EBF0F8"
             },
             "line": {
              "color": "white"
             }
            },
            "header": {
             "fill": {
              "color": "#C8D4E3"
             },
             "line": {
              "color": "white"
             }
            },
            "type": "table"
           }
          ]
         },
         "layout": {
          "annotationdefaults": {
           "arrowcolor": "#2a3f5f",
           "arrowhead": 0,
           "arrowwidth": 1
          },
          "autotypenumbers": "strict",
          "coloraxis": {
           "colorbar": {
            "outlinewidth": 0,
            "ticks": ""
           }
          },
          "colorscale": {
           "diverging": [
            [
             0,
             "#8e0152"
            ],
            [
             0.1,
             "#c51b7d"
            ],
            [
             0.2,
             "#de77ae"
            ],
            [
             0.3,
             "#f1b6da"
            ],
            [
             0.4,
             "#fde0ef"
            ],
            [
             0.5,
             "#f7f7f7"
            ],
            [
             0.6,
             "#e6f5d0"
            ],
            [
             0.7,
             "#b8e186"
            ],
            [
             0.8,
             "#7fbc41"
            ],
            [
             0.9,
             "#4d9221"
            ],
            [
             1,
             "#276419"
            ]
           ],
           "sequential": [
            [
             0,
             "#0d0887"
            ],
            [
             0.1111111111111111,
             "#46039f"
            ],
            [
             0.2222222222222222,
             "#7201a8"
            ],
            [
             0.3333333333333333,
             "#9c179e"
            ],
            [
             0.4444444444444444,
             "#bd3786"
            ],
            [
             0.5555555555555556,
             "#d8576b"
            ],
            [
             0.6666666666666666,
             "#ed7953"
            ],
            [
             0.7777777777777778,
             "#fb9f3a"
            ],
            [
             0.8888888888888888,
             "#fdca26"
            ],
            [
             1,
             "#f0f921"
            ]
           ],
           "sequentialminus": [
            [
             0,
             "#0d0887"
            ],
            [
             0.1111111111111111,
             "#46039f"
            ],
            [
             0.2222222222222222,
             "#7201a8"
            ],
            [
             0.3333333333333333,
             "#9c179e"
            ],
            [
             0.4444444444444444,
             "#bd3786"
            ],
            [
             0.5555555555555556,
             "#d8576b"
            ],
            [
             0.6666666666666666,
             "#ed7953"
            ],
            [
             0.7777777777777778,
             "#fb9f3a"
            ],
            [
             0.8888888888888888,
             "#fdca26"
            ],
            [
             1,
             "#f0f921"
            ]
           ]
          },
          "colorway": [
           "#636efa",
           "#EF553B",
           "#00cc96",
           "#ab63fa",
           "#FFA15A",
           "#19d3f3",
           "#FF6692",
           "#B6E880",
           "#FF97FF",
           "#FECB52"
          ],
          "font": {
           "color": "#2a3f5f"
          },
          "geo": {
           "bgcolor": "white",
           "lakecolor": "white",
           "landcolor": "#E5ECF6",
           "showlakes": true,
           "showland": true,
           "subunitcolor": "white"
          },
          "hoverlabel": {
           "align": "left"
          },
          "hovermode": "closest",
          "mapbox": {
           "style": "light"
          },
          "paper_bgcolor": "white",
          "plot_bgcolor": "#E5ECF6",
          "polar": {
           "angularaxis": {
            "gridcolor": "white",
            "linecolor": "white",
            "ticks": ""
           },
           "bgcolor": "#E5ECF6",
           "radialaxis": {
            "gridcolor": "white",
            "linecolor": "white",
            "ticks": ""
           }
          },
          "scene": {
           "xaxis": {
            "backgroundcolor": "#E5ECF6",
            "gridcolor": "white",
            "gridwidth": 2,
            "linecolor": "white",
            "showbackground": true,
            "ticks": "",
            "zerolinecolor": "white"
           },
           "yaxis": {
            "backgroundcolor": "#E5ECF6",
            "gridcolor": "white",
            "gridwidth": 2,
            "linecolor": "white",
            "showbackground": true,
            "ticks": "",
            "zerolinecolor": "white"
           },
           "zaxis": {
            "backgroundcolor": "#E5ECF6",
            "gridcolor": "white",
            "gridwidth": 2,
            "linecolor": "white",
            "showbackground": true,
            "ticks": "",
            "zerolinecolor": "white"
           }
          },
          "shapedefaults": {
           "line": {
            "color": "#2a3f5f"
           }
          },
          "ternary": {
           "aaxis": {
            "gridcolor": "white",
            "linecolor": "white",
            "ticks": ""
           },
           "baxis": {
            "gridcolor": "white",
            "linecolor": "white",
            "ticks": ""
           },
           "bgcolor": "#E5ECF6",
           "caxis": {
            "gridcolor": "white",
            "linecolor": "white",
            "ticks": ""
           }
          },
          "title": {
           "x": 0.05
          },
          "xaxis": {
           "automargin": true,
           "gridcolor": "white",
           "linecolor": "white",
           "ticks": "",
           "title": {
            "standoff": 15
           },
           "zerolinecolor": "white",
           "zerolinewidth": 2
          },
          "yaxis": {
           "automargin": true,
           "gridcolor": "white",
           "linecolor": "white",
           "ticks": "",
           "title": {
            "standoff": 15
           },
           "zerolinecolor": "white",
           "zerolinewidth": 2
          }
         }
        },
        "violinmode": "group",
        "xaxis": {
         "anchor": "y",
         "domain": [
          0,
          1
         ]
        },
        "yaxis": {
         "anchor": "x",
         "domain": [
          0,
          1
         ],
         "title": {
          "text": "best_result_normalized"
         }
        }
       }
      }
     },
     "metadata": {},
     "output_type": "display_data"
    }
   ],
   "source": [
    "df = results.loc[8].reset_index()\n",
    "df[\"searcher\"] = df[\"searcher\"].astype(\"category\")\n",
    "df[\"searcher\"].cat.set_categories = df[\"searcher\"].cat.set_categories(list(avg_rank.index))\n",
    "df.sort_values([\"searcher\"])\n",
    "\n",
    "px.violin(df, y=\"best_result_normalized\", color=\"searcher\", box=True, points=\"suspectedoutliers\", category_orders={\"searcher\":sorted(median_agg.index)}).show()"
   ]
  },
  {
   "cell_type": "markdown",
   "id": "0af84138",
   "metadata": {},
   "source": [
    "### Average cumulative maximum score over time\n",
    "*Each step is one minute*"
   ]
  },
  {
   "cell_type": "code",
   "execution_count": 65,
   "id": "b114d9ec",
   "metadata": {},
   "outputs": [
    {
     "data": {
      "application/vnd.plotly.v1+json": {
       "config": {
        "plotlyServerURL": "https://plot.ly"
       },
       "data": [
        {
         "hovertemplate": "variable=ASHAHEBOSearcher<br>index=%{x}<br>value=%{y}<extra></extra>",
         "legendgroup": "ASHAHEBOSearcher",
         "line": {
          "color": "#636efa",
          "dash": "solid"
         },
         "marker": {
          "symbol": "circle"
         },
         "mode": "lines+markers",
         "name": "ASHAHEBOSearcher",
         "showlegend": true,
         "type": "scattergl",
         "x": [
          0,
          1,
          2,
          3,
          4,
          5,
          6,
          7,
          8,
          9,
          10,
          11,
          12,
          13,
          14,
          15,
          16,
          17,
          18,
          19,
          20,
          21,
          22,
          23,
          24,
          25,
          26,
          27,
          28,
          29,
          30,
          31,
          32,
          33,
          34,
          35,
          36,
          37,
          38,
          39,
          40,
          41,
          42,
          43,
          44,
          45,
          46,
          47,
          48,
          49,
          50,
          51,
          52,
          53,
          54,
          55,
          56,
          57,
          58,
          59
         ],
         "xaxis": "x",
         "y": [
          0.6605160133491415,
          0.7645108756206033,
          0.7930933561028332,
          0.8071432816125971,
          0.8188171727624179,
          0.8216056872734165,
          0.8244480772087444,
          0.8271295001026417,
          0.8292708816211558,
          0.830410975291787,
          0.8327678766564535,
          0.8344555179019716,
          0.835550188068177,
          0.8363384817220294,
          0.8371491544036154,
          0.8375462637952695,
          0.8379905709058693,
          0.8381825427050531,
          0.8384596871576836,
          0.8388489951904987,
          0.8392704791670393,
          0.8398313591641295,
          0.8399199512342934,
          0.8401082153941067,
          0.8405891868868164,
          0.8406893199297557,
          0.8411128397797847,
          0.8411677398494601,
          0.8412816677387425,
          0.8415246190055189,
          0.8418021069417853,
          0.8420742787696783,
          0.8422239178858321,
          0.8422811236217009,
          0.8423735990510614,
          0.84277646572577,
          0.8430367955994112,
          0.8431200254006368,
          0.8431292079798849,
          0.8432118537958357,
          0.8433376692787049,
          0.8433666308514107,
          0.8435265054977116,
          0.8436266195616658,
          0.8436350290890757,
          0.8438004666535427,
          0.8440278306939241,
          0.8440309756797768,
          0.8440642974552873,
          0.844390147658374,
          0.8444579746127869,
          0.8445101586378505,
          0.8446250452128279,
          0.8446674618763935,
          0.8446967668008295,
          0.8447278437174345,
          0.8447427945641198,
          0.8448592666632933,
          0.8453275265569693,
          0.8454673115546051
         ],
         "yaxis": "y"
        },
        {
         "hovertemplate": "variable=ASHACFOSearcher<br>index=%{x}<br>value=%{y}<extra></extra>",
         "legendgroup": "ASHACFOSearcher",
         "line": {
          "color": "#EF553B",
          "dash": "solid"
         },
         "marker": {
          "symbol": "circle"
         },
         "mode": "lines+markers",
         "name": "ASHACFOSearcher",
         "showlegend": true,
         "type": "scattergl",
         "x": [
          0,
          1,
          2,
          3,
          4,
          5,
          6,
          7,
          8,
          9,
          10,
          11,
          12,
          13,
          14,
          15,
          16,
          17,
          18,
          19,
          20,
          21,
          22,
          23,
          24,
          25,
          26,
          27,
          28,
          29,
          30,
          31,
          32,
          33,
          34,
          35,
          36,
          37,
          38,
          39,
          40,
          41,
          42,
          43,
          44,
          45,
          46,
          47,
          48,
          49,
          50,
          51,
          52,
          53,
          54,
          55,
          56,
          57,
          58,
          59
         ],
         "xaxis": "x",
         "y": [
          0.577816177634939,
          0.7394123747633279,
          0.7824769659521223,
          0.7982496061630446,
          0.8064066207271284,
          0.8110616434568788,
          0.8154959421015201,
          0.8190765587464289,
          0.8207249869828049,
          0.8227146426189104,
          0.8241749852178164,
          0.8269227845071753,
          0.8278046147692032,
          0.829167315794405,
          0.8297706320089175,
          0.8306387819454725,
          0.831616765443956,
          0.8321852636761333,
          0.8327496305638145,
          0.833263047818813,
          0.8336852447964617,
          0.8344064550056486,
          0.8352568630475161,
          0.8356013729263746,
          0.8364685850904449,
          0.8366492809616066,
          0.8368013428105516,
          0.8370185184434793,
          0.837650177635712,
          0.83836301358492,
          0.8390864216452844,
          0.8392236979472717,
          0.839365390562328,
          0.8394958429539155,
          0.8395687185981959,
          0.8396508664068266,
          0.839779714165287,
          0.8400341931301535,
          0.8401578293522186,
          0.8402014122519784,
          0.8404378835108698,
          0.8405435179900501,
          0.8406308693360715,
          0.8406680137710703,
          0.8407611528215302,
          0.8409524616445103,
          0.8411177583690812,
          0.8412430013179459,
          0.8412854346208577,
          0.8413261694239812,
          0.8413532580595819,
          0.8415425147975528,
          0.8417776594748049,
          0.8421937147367139,
          0.8424433303617275,
          0.8425018037111913,
          0.8426722256721627,
          0.8432186835135287,
          0.8443670935544936,
          0.8447389660549853
         ],
         "yaxis": "y"
        },
        {
         "hovertemplate": "variable=ASHAAxSearcher<br>index=%{x}<br>value=%{y}<extra></extra>",
         "legendgroup": "ASHAAxSearcher",
         "line": {
          "color": "#00cc96",
          "dash": "solid"
         },
         "marker": {
          "symbol": "circle"
         },
         "mode": "lines+markers",
         "name": "ASHAAxSearcher",
         "showlegend": true,
         "type": "scattergl",
         "x": [
          0,
          1,
          2,
          3,
          4,
          5,
          6,
          7,
          8,
          9,
          10,
          11,
          12,
          13,
          14,
          15,
          16,
          17,
          18,
          19,
          20,
          21,
          22,
          23,
          24,
          25,
          26,
          27,
          28,
          29,
          30,
          31,
          32,
          33,
          34,
          35,
          36,
          37,
          38,
          39,
          40,
          41,
          42,
          43,
          44,
          45,
          46,
          47,
          48,
          49,
          50,
          51,
          52,
          53,
          54,
          55,
          56,
          57,
          58,
          59
         ],
         "xaxis": "x",
         "y": [
          0.6002114902191059,
          0.7545513665738739,
          0.7927523080839552,
          0.8032568161215242,
          0.8067903516784961,
          0.8110310268415284,
          0.8130196613755202,
          0.8154098807203535,
          0.8177028148382359,
          0.8201951781661453,
          0.8219227574361707,
          0.8236774822204077,
          0.8249843246433665,
          0.8265400635596447,
          0.8281552238776683,
          0.8285040982436485,
          0.8291546982451009,
          0.8297489477926775,
          0.8316590667642528,
          0.8324688069537124,
          0.8328153010903703,
          0.8330982361258655,
          0.8332875934959427,
          0.8335073586137811,
          0.833821822463623,
          0.8339793589106289,
          0.8343900682276182,
          0.8345040034366449,
          0.8347820532490375,
          0.8350809819405761,
          0.8353029398283528,
          0.8355939478485606,
          0.8356615859250918,
          0.8357362628795698,
          0.8358034756806344,
          0.835852748435842,
          0.8360473447478485,
          0.8362840125464533,
          0.836412162573103,
          0.8364864201378609,
          0.8365359124309122,
          0.8368496778284642,
          0.8370822364103959,
          0.8372290465354753,
          0.8373728543737409,
          0.8374006445614242,
          0.837853043617754,
          0.837942052748174,
          0.8380725794129972,
          0.8381001946977654,
          0.8382075657733221,
          0.8382899238038823,
          0.8383604903413385,
          0.8384111669238663,
          0.8384157418339027,
          0.8384698212135799,
          0.8384863114564151,
          0.838748983835445,
          0.8389713769941475,
          0.8391585019460093
         ],
         "yaxis": "y"
        },
        {
         "hovertemplate": "variable=BOHBSearcher<br>index=%{x}<br>value=%{y}<extra></extra>",
         "legendgroup": "BOHBSearcher",
         "line": {
          "color": "#ab63fa",
          "dash": "solid"
         },
         "marker": {
          "symbol": "circle"
         },
         "mode": "lines+markers",
         "name": "BOHBSearcher",
         "showlegend": true,
         "type": "scattergl",
         "x": [
          0,
          1,
          2,
          3,
          4,
          5,
          6,
          7,
          8,
          9,
          10,
          11,
          12,
          13,
          14,
          15,
          16,
          17,
          18,
          19,
          20,
          21,
          22,
          23,
          24,
          25,
          26,
          27,
          28,
          29,
          30,
          31,
          32,
          33,
          34,
          35,
          36,
          37,
          38,
          39,
          40,
          41,
          42,
          43,
          44,
          45,
          46,
          47,
          48,
          49,
          50,
          51,
          52,
          53,
          54,
          55,
          56,
          57,
          58,
          59
         ],
         "xaxis": "x",
         "y": [
          0.6247635101958319,
          0.7528148593131417,
          0.7828637365342227,
          0.7945710948764433,
          0.7999098262105119,
          0.8046061650954225,
          0.8072272253832596,
          0.8095745334430171,
          0.8113908854800491,
          0.8131945197887543,
          0.8159130566048077,
          0.816278359873389,
          0.8168943958557767,
          0.8176781700617276,
          0.8185058695363467,
          0.8193182004527246,
          0.8202831822394597,
          0.8205882025076245,
          0.8210955985291428,
          0.8217380783674527,
          0.821903161605218,
          0.8225347669180755,
          0.8231875639951498,
          0.8240287674899931,
          0.824316393201417,
          0.8245810413974404,
          0.8247973654618405,
          0.8249333193259417,
          0.8250758059791011,
          0.8252115942517978,
          0.8257404675942455,
          0.8263074367704101,
          0.8266357462455999,
          0.826987569627708,
          0.8270883041332031,
          0.8271988697731869,
          0.8272621937859697,
          0.8275027858194133,
          0.8276238695106202,
          0.827772449791543,
          0.8277846273388821,
          0.8279869916686048,
          0.8281544616017255,
          0.828245209419228,
          0.8282605777829234,
          0.8283144375584075,
          0.8283231093308969,
          0.8283794185136153,
          0.828909098251151,
          0.8289115090651478,
          0.8289221565484146,
          0.8289400893346822,
          0.829350648310856,
          0.8294045190568095,
          0.829443892843284,
          0.8294632623506657,
          0.8294814935935225,
          0.8294933796590966,
          0.8295923380016054,
          0.829671519702034
         ],
         "yaxis": "y"
        },
        {
         "hovertemplate": "variable=ASHABlendSearchSearcher<br>index=%{x}<br>value=%{y}<extra></extra>",
         "legendgroup": "ASHABlendSearchSearcher",
         "line": {
          "color": "#FFA15A",
          "dash": "solid"
         },
         "marker": {
          "symbol": "circle"
         },
         "mode": "lines+markers",
         "name": "ASHABlendSearchSearcher",
         "showlegend": true,
         "type": "scattergl",
         "x": [
          0,
          1,
          2,
          3,
          4,
          5,
          6,
          7,
          8,
          9,
          10,
          11,
          12,
          13,
          14,
          15,
          16,
          17,
          18,
          19,
          20,
          21,
          22,
          23,
          24,
          25,
          26,
          27,
          28,
          29,
          30,
          31,
          32,
          33,
          34,
          35,
          36,
          37,
          38,
          39,
          40,
          41,
          42,
          43,
          44,
          45,
          46,
          47,
          48,
          49,
          50,
          51,
          52,
          53,
          54,
          55,
          56,
          57,
          58,
          59
         ],
         "xaxis": "x",
         "y": [
          0.5915897211279049,
          0.7271634639315926,
          0.766810424772699,
          0.7762784791384261,
          0.7830653190698782,
          0.788237876571059,
          0.7914310605490342,
          0.794444977074914,
          0.7973300471826615,
          0.7999596897889039,
          0.8017837713493783,
          0.8031166330828858,
          0.8039386892589776,
          0.804958930660747,
          0.8063687571463803,
          0.807034383375144,
          0.8073487548983485,
          0.8076437193445898,
          0.8081867280509275,
          0.8086251435306135,
          0.8089943271423328,
          0.8092677247060438,
          0.8095196786526297,
          0.810133087471056,
          0.8103655712948902,
          0.8107993647974012,
          0.8111442325604045,
          0.8113431194247495,
          0.8117941598404896,
          0.8119739686896937,
          0.8120101438043495,
          0.8121364823237345,
          0.8123736006306655,
          0.8129189576267416,
          0.8129797034474971,
          0.813167392869414,
          0.8134153587562447,
          0.81359337774649,
          0.8136998351896816,
          0.8137966634346411,
          0.8139100346046773,
          0.8144643828921583,
          0.8145802664543763,
          0.8147001375645849,
          0.8147603930657785,
          0.8149649897275268,
          0.8149660321099552,
          0.8150054309843461,
          0.8150420909027373,
          0.8151158595697563,
          0.8155366076142676,
          0.8156195209153098,
          0.8156736349356822,
          0.8158287827896806,
          0.8161309092788562,
          0.8162095885995249,
          0.8162798699166548,
          0.8166221000841837,
          0.8168612285333069,
          0.8174733022676803
         ],
         "yaxis": "y"
        },
        {
         "hovertemplate": "variable=HEBOSearcher<br>index=%{x}<br>value=%{y}<extra></extra>",
         "legendgroup": "HEBOSearcher",
         "line": {
          "color": "#19d3f3",
          "dash": "solid"
         },
         "marker": {
          "symbol": "circle"
         },
         "mode": "lines+markers",
         "name": "HEBOSearcher",
         "showlegend": true,
         "type": "scattergl",
         "x": [
          0,
          1,
          2,
          3,
          4,
          5,
          6,
          7,
          8,
          9,
          10,
          11,
          12,
          13,
          14,
          15,
          16,
          17,
          18,
          19,
          20,
          21,
          22,
          23,
          24,
          25,
          26,
          27,
          28,
          29,
          30,
          31,
          32,
          33,
          34,
          35,
          36,
          37,
          38,
          39,
          40,
          41,
          42,
          43,
          44,
          45,
          46,
          47,
          48,
          49,
          50,
          51,
          52,
          53,
          54,
          55,
          56,
          57,
          58,
          59
         ],
         "xaxis": "x",
         "y": [
          0.5861517730682049,
          0.7743814918823748,
          0.8022176498101511,
          0.8131688230473961,
          0.8188945897277864,
          0.8209268681192001,
          0.8217941666268357,
          0.8233724708984628,
          0.824629420711729,
          0.8256603725853846,
          0.8262596809865456,
          0.8268191554626109,
          0.8281406368845798,
          0.8291261949677212,
          0.829865894534626,
          0.8302720357047766,
          0.830496039120872,
          0.8312199186602792,
          0.8314496136290939,
          0.8315833873618016,
          0.8318206585697332,
          0.832000352429851,
          0.8323483785534599,
          0.8329054285406542,
          0.8331077959095652,
          0.8333299543184979,
          0.833471689705231,
          0.8335989543911074,
          0.8337881489785354,
          0.8338606662086525,
          0.8339165255919762,
          0.8339781129836671,
          0.8340948265350767,
          0.8343089119644745,
          0.8344049010574587,
          0.8345608384059086,
          0.8347211280780933,
          0.8348881231592146,
          0.8352243860131888,
          0.8354183576773055,
          0.8355090813412315,
          0.8355685152687707,
          0.8356452497344216,
          0.835697149690106,
          0.8357265593184777,
          0.8358547003356518,
          0.83645964556601,
          0.8365385313625561,
          0.8365805208731508,
          0.8366738080700978,
          0.836731864014854,
          0.8368256197120022,
          0.8369755612772225,
          0.8370630003293685,
          0.8371158296279242,
          0.837168604087619,
          0.837359757654883,
          0.8376032747669491,
          0.8378020938338724,
          0.8379540981192111
         ],
         "yaxis": "y"
        },
        {
         "hovertemplate": "variable=ASHAHyperOptSearcher<br>index=%{x}<br>value=%{y}<extra></extra>",
         "legendgroup": "ASHAHyperOptSearcher",
         "line": {
          "color": "#FF6692",
          "dash": "solid"
         },
         "marker": {
          "symbol": "circle"
         },
         "mode": "lines+markers",
         "name": "ASHAHyperOptSearcher",
         "showlegend": true,
         "type": "scattergl",
         "x": [
          0,
          1,
          2,
          3,
          4,
          5,
          6,
          7,
          8,
          9,
          10,
          11,
          12,
          13,
          14,
          15,
          16,
          17,
          18,
          19,
          20,
          21,
          22,
          23,
          24,
          25,
          26,
          27,
          28,
          29,
          30,
          31,
          32,
          33,
          34,
          35,
          36,
          37,
          38,
          39,
          40,
          41,
          42,
          43,
          44,
          45,
          46,
          47,
          48,
          49,
          50,
          51,
          52,
          53,
          54,
          55,
          56,
          57,
          58,
          59
         ],
         "xaxis": "x",
         "y": [
          0.6231039210830759,
          0.7749866312055236,
          0.8050421872636213,
          0.8141404514778539,
          0.8219731189445588,
          0.8246995706468909,
          0.8283307542471059,
          0.8303805904258942,
          0.8318212452210867,
          0.8331866286365013,
          0.8341576981290635,
          0.8348694551891296,
          0.8354980670680936,
          0.8364223418246277,
          0.8374221491227838,
          0.8379786418860201,
          0.8388534574457075,
          0.839253039390096,
          0.8395030163042827,
          0.8402971825000073,
          0.8406268387307216,
          0.841212977283417,
          0.8418328837144785,
          0.8421166263482224,
          0.8426396944374887,
          0.8430021807289588,
          0.8432078160744308,
          0.8433689473935844,
          0.8435226926291398,
          0.843698816381871,
          0.8442717033779579,
          0.8444612256586485,
          0.8445005476319187,
          0.8445544534083154,
          0.8445594096753486,
          0.8446036389918575,
          0.8447709554323862,
          0.8450060768984097,
          0.84504620660109,
          0.8451430910002781,
          0.8451630896343283,
          0.8453175206958515,
          0.8453650523386149,
          0.8455096774431592,
          0.845591179864684,
          0.8456373170306015,
          0.8457261784679343,
          0.8457966268483516,
          0.8458419287675621,
          0.8458936383840147,
          0.8461454663533111,
          0.8462375970574941,
          0.8463446181428461,
          0.8463963976010026,
          0.8464432371390019,
          0.8466965296917649,
          0.8469945206659244,
          0.8472798324515706,
          0.8477652016201287,
          0.848240950271711
         ],
         "yaxis": "y"
        },
        {
         "hovertemplate": "variable=HyperOptSearcher<br>index=%{x}<br>value=%{y}<extra></extra>",
         "legendgroup": "HyperOptSearcher",
         "line": {
          "color": "#B6E880",
          "dash": "solid"
         },
         "marker": {
          "symbol": "circle"
         },
         "mode": "lines+markers",
         "name": "HyperOptSearcher",
         "showlegend": true,
         "type": "scattergl",
         "x": [
          0,
          1,
          2,
          3,
          4,
          5,
          6,
          7,
          8,
          9,
          10,
          11,
          12,
          13,
          14,
          15,
          16,
          17,
          18,
          19,
          20,
          21,
          22,
          23,
          24,
          25,
          26,
          27,
          28,
          29,
          30,
          31,
          32,
          33,
          34,
          35,
          36,
          37,
          38,
          39,
          40,
          41,
          42,
          43,
          44,
          45,
          46,
          47,
          48,
          49,
          50,
          51,
          52,
          53,
          54,
          55,
          56,
          57,
          58,
          59
         ],
         "xaxis": "x",
         "y": [
          0.6624426018539705,
          0.7816122642319391,
          0.808472510072353,
          0.8165939215901594,
          0.8234115731344004,
          0.8281180765199587,
          0.8302457691598795,
          0.8317123647481401,
          0.8327302864988549,
          0.83421734428481,
          0.835334526742365,
          0.8368172892533439,
          0.8375888879436137,
          0.8382022268297558,
          0.8384798305680579,
          0.8388113850510736,
          0.8395745507261606,
          0.8397292094526976,
          0.8400387523277565,
          0.8401776781066258,
          0.8403610659011204,
          0.8406666640815316,
          0.8409609801540171,
          0.8413083487787083,
          0.8414679635423409,
          0.8417130864024839,
          0.8420413533645743,
          0.8420878732977465,
          0.8421617545134596,
          0.8422561983405144,
          0.8423874744412846,
          0.8425155191995436,
          0.842622172602694,
          0.8427115013673581,
          0.8428250514454185,
          0.8430041043055414,
          0.8430665331613728,
          0.8432204514754046,
          0.8432720322898302,
          0.8434550226480277,
          0.843525197030966,
          0.8437189817853928,
          0.8438035381881266,
          0.8438532576668815,
          0.8438811329234911,
          0.8439174092409193,
          0.8440079939774685,
          0.8440627420116583,
          0.8441034893403927,
          0.8441244507006219,
          0.844205241863803,
          0.8442430070726562,
          0.8443825180376963,
          0.8444391072850921,
          0.8447262712812901,
          0.8448493038606819,
          0.8449830622419325,
          0.8450320252024772,
          0.8452608092854927,
          0.8453455563279288
         ],
         "yaxis": "y"
        },
        {
         "hovertemplate": "variable=OptunaTPESearcher<br>index=%{x}<br>value=%{y}<extra></extra>",
         "legendgroup": "OptunaTPESearcher",
         "line": {
          "color": "#FF97FF",
          "dash": "solid"
         },
         "marker": {
          "symbol": "circle"
         },
         "mode": "lines+markers",
         "name": "OptunaTPESearcher",
         "showlegend": true,
         "type": "scattergl",
         "x": [
          0,
          1,
          2,
          3,
          4,
          5,
          6,
          7,
          8,
          9,
          10,
          11,
          12,
          13,
          14,
          15,
          16,
          17,
          18,
          19,
          20,
          21,
          22,
          23,
          24,
          25,
          26,
          27,
          28,
          29,
          30,
          31,
          32,
          33,
          34,
          35,
          36,
          37,
          38,
          39,
          40,
          41,
          42,
          43,
          44,
          45,
          46,
          47,
          48,
          49,
          50,
          51,
          52,
          53,
          54,
          55,
          56,
          57,
          58,
          59
         ],
         "xaxis": "x",
         "y": [
          0.5735018988783445,
          0.7614368487242823,
          0.7864102093317179,
          0.7980834985172262,
          0.804227389727434,
          0.8082489365256409,
          0.8104383659105279,
          0.8125856400969822,
          0.8141086388503892,
          0.8156404830937153,
          0.8165829565631001,
          0.8179076520083282,
          0.81866299935927,
          0.820203369497043,
          0.821286903048232,
          0.8218751528583319,
          0.8224234950206927,
          0.8227967494388243,
          0.8229828567725475,
          0.8231782653170274,
          0.8239465477417992,
          0.8240950477728379,
          0.824737533639538,
          0.8249949921330942,
          0.8252162073115444,
          0.8254781460483379,
          0.8259132295364527,
          0.8259993612256524,
          0.8263080244681069,
          0.8264171686036316,
          0.8265868302010901,
          0.8267879126102475,
          0.8268364049979995,
          0.8269637714508274,
          0.8270618905498477,
          0.8273371302804325,
          0.8275147790088518,
          0.8276216746720161,
          0.8277951924326713,
          0.8278310402165692,
          0.8278683577435666,
          0.8279991195611753,
          0.8280343630866919,
          0.8284331221314598,
          0.8284773836289377,
          0.8285042927968982,
          0.8285320381960004,
          0.8285476159934241,
          0.8286319117843931,
          0.8286591932544292,
          0.8292594927188659,
          0.8293086195042545,
          0.8293633650019462,
          0.8295845283893485,
          0.829657076579971,
          0.829802438333736,
          0.8298466454015294,
          0.8299517384934924,
          0.8300031364666202,
          0.830384769030785
         ],
         "yaxis": "y"
        },
        {
         "hovertemplate": "variable=SkOptSearcher<br>index=%{x}<br>value=%{y}<extra></extra>",
         "legendgroup": "SkOptSearcher",
         "line": {
          "color": "#FECB52",
          "dash": "solid"
         },
         "marker": {
          "symbol": "circle"
         },
         "mode": "lines+markers",
         "name": "SkOptSearcher",
         "showlegend": true,
         "type": "scattergl",
         "x": [
          0,
          1,
          2,
          3,
          4,
          5,
          6,
          7,
          8,
          9,
          10,
          11,
          12,
          13,
          14,
          15,
          16,
          17,
          18,
          19,
          20,
          21,
          22,
          23,
          24,
          25,
          26,
          27,
          28,
          29,
          30,
          31,
          32,
          33,
          34,
          35,
          36,
          37,
          38,
          39,
          40,
          41,
          42,
          43,
          44,
          45,
          46,
          47,
          48,
          49,
          50,
          51,
          52,
          53,
          54,
          55,
          56,
          57,
          58,
          59
         ],
         "xaxis": "x",
         "y": [
          0.6376087111364572,
          0.7556133129774943,
          0.7796658733973078,
          0.7899393412664553,
          0.7941220200557362,
          0.7983725925025081,
          0.8056995217653479,
          0.8082656812626922,
          0.809425622873055,
          0.8110451730709091,
          0.8122822041552384,
          0.813747747046387,
          0.8148374748418431,
          0.8153646165352596,
          0.815830216136317,
          0.816409211964559,
          0.8170071345605592,
          0.8178925910915366,
          0.8182041478356045,
          0.8185265628740183,
          0.8187789125570705,
          0.8194830617887656,
          0.8195731379695816,
          0.819740877660478,
          0.8204960784430355,
          0.8206622411547462,
          0.8209877335730742,
          0.8211778039350643,
          0.8212562304699028,
          0.8216381801427596,
          0.8218668500133013,
          0.8222325582707741,
          0.8223806934838935,
          0.8225209185547445,
          0.8226244679460493,
          0.8227248244130679,
          0.8228182393655052,
          0.8230063289199387,
          0.8230374579905624,
          0.8231733421679095,
          0.8232026999562693,
          0.8232769447557213,
          0.8235653347947259,
          0.8236573973249425,
          0.8236954728029927,
          0.8237435303545394,
          0.8238360685920613,
          0.8238770050091827,
          0.8239951750722023,
          0.8240480206230757,
          0.8240683094956576,
          0.824108010716349,
          0.8242455893070539,
          0.8242680468645511,
          0.8246381030388755,
          0.824674572475921,
          0.8247641846268549,
          0.8248231122448568,
          0.8248769519966975,
          0.8249883919582092
         ],
         "yaxis": "y"
        },
        {
         "hovertemplate": "variable=AxSearcher<br>index=%{x}<br>value=%{y}<extra></extra>",
         "legendgroup": "AxSearcher",
         "line": {
          "color": "#636efa",
          "dash": "solid"
         },
         "marker": {
          "symbol": "circle"
         },
         "mode": "lines+markers",
         "name": "AxSearcher",
         "showlegend": true,
         "type": "scattergl",
         "x": [
          0,
          1,
          2,
          3,
          4,
          5,
          6,
          7,
          8,
          9,
          10,
          11,
          12,
          13,
          14,
          15,
          16,
          17,
          18,
          19,
          20,
          21,
          22,
          23,
          24,
          25,
          26,
          27,
          28,
          29,
          30,
          31,
          32,
          33,
          34,
          35,
          36,
          37,
          38,
          39,
          40,
          41,
          42,
          43,
          44,
          45,
          46,
          47,
          48,
          49,
          50,
          51,
          52,
          53,
          54,
          55,
          56,
          57,
          58,
          59
         ],
         "xaxis": "x",
         "y": [
          0.6104383312685194,
          0.7484911167145131,
          0.775390879022838,
          0.7834093250377273,
          0.7888667948698415,
          0.7935704818725305,
          0.7964926844778935,
          0.7974808414552932,
          0.8001333059905033,
          0.8014359847053292,
          0.8024594456319664,
          0.8029446893976495,
          0.8034809894038677,
          0.8044618517590825,
          0.8048774727225668,
          0.8054947338466591,
          0.8059315116993784,
          0.8062685292287458,
          0.8066970783517503,
          0.8076282678456136,
          0.808039534697642,
          0.8085119993271187,
          0.8087177930165875,
          0.808960200839673,
          0.8093360349162728,
          0.8096126851205298,
          0.8099117336703093,
          0.8101301183730907,
          0.810340881520095,
          0.8103953416872186,
          0.8105764005563457,
          0.8108556967291437,
          0.8109770634809718,
          0.8111366296156906,
          0.8111940823927969,
          0.811303762880997,
          0.8113556530767836,
          0.8117516716761718,
          0.8118034235467063,
          0.8118130808530306,
          0.8119173924812081,
          0.8120309050060323,
          0.8121462274460842,
          0.8122032002429187,
          0.8122212676261523,
          0.8122796366756295,
          0.8126848833983973,
          0.8126959959966357,
          0.8127155417148841,
          0.812751984287532,
          0.8128268682365631,
          0.8128830920101082,
          0.8129052002308415,
          0.8130275092565471,
          0.8132140725158468,
          0.8132478778914642,
          0.8136085912974272,
          0.8136607873950222,
          0.8137141724450302,
          0.8138203265414831
         ],
         "yaxis": "y"
        },
        {
         "hovertemplate": "variable=BlendSearchSearcher<br>index=%{x}<br>value=%{y}<extra></extra>",
         "legendgroup": "BlendSearchSearcher",
         "line": {
          "color": "#EF553B",
          "dash": "solid"
         },
         "marker": {
          "symbol": "circle"
         },
         "mode": "lines+markers",
         "name": "BlendSearchSearcher",
         "showlegend": true,
         "type": "scattergl",
         "x": [
          0,
          1,
          2,
          3,
          4,
          5,
          6,
          7,
          8,
          9,
          10,
          11,
          12,
          13,
          14,
          15,
          16,
          17,
          18,
          19,
          20,
          21,
          22,
          23,
          24,
          25,
          26,
          27,
          28,
          29,
          30,
          31,
          32,
          33,
          34,
          35,
          36,
          37,
          38,
          39,
          40,
          41,
          42,
          43,
          44,
          45,
          46,
          47,
          48,
          49,
          50,
          51,
          52,
          53,
          54,
          55,
          56,
          57,
          58,
          59
         ],
         "xaxis": "x",
         "y": [
          0.6235795546656989,
          0.7572582541976809,
          0.787014680116013,
          0.7977240325411911,
          0.8039995678049477,
          0.8084067353140555,
          0.8107524677620039,
          0.8139249248140014,
          0.8161220922571345,
          0.8178055687398531,
          0.8203396492884669,
          0.821646447362211,
          0.8225731045493719,
          0.8234580245662558,
          0.824071330911774,
          0.8245259233350734,
          0.8251445450679852,
          0.8255634563118205,
          0.8258773303743302,
          0.826268863768224,
          0.8264766124995345,
          0.8266119723256395,
          0.8269576484155058,
          0.8275270599500169,
          0.8280871469953722,
          0.8282069055206162,
          0.828331740852306,
          0.8284426992160262,
          0.828526367728268,
          0.8287510272986163,
          0.8291972052013209,
          0.8294649770486628,
          0.8295927070369863,
          0.8297014685274481,
          0.8297644929046627,
          0.8298663808056364,
          0.8299624157752714,
          0.8300680167148471,
          0.8303598741866528,
          0.8304650086871859,
          0.8305929191502421,
          0.830616255452444,
          0.8307924681007721,
          0.8309458442075868,
          0.83102476381912,
          0.8310877420342695,
          0.8311047357763927,
          0.8311598894508715,
          0.8312245333252569,
          0.8312765478928613,
          0.831296112035542,
          0.83151274407276,
          0.8317874149482533,
          0.8317947015497856,
          0.8318182532007027,
          0.8318435465436401,
          0.831905740289968,
          0.8319154472154516,
          0.8320247636623402,
          0.8320637896691725
         ],
         "yaxis": "y"
        },
        {
         "hovertemplate": "variable=CFOSearcher<br>index=%{x}<br>value=%{y}<extra></extra>",
         "legendgroup": "CFOSearcher",
         "line": {
          "color": "#00cc96",
          "dash": "solid"
         },
         "marker": {
          "symbol": "circle"
         },
         "mode": "lines+markers",
         "name": "CFOSearcher",
         "showlegend": true,
         "type": "scattergl",
         "x": [
          0,
          1,
          2,
          3,
          4,
          5,
          6,
          7,
          8,
          9,
          10,
          11,
          12,
          13,
          14,
          15,
          16,
          17,
          18,
          19,
          20,
          21,
          22,
          23,
          24,
          25,
          26,
          27,
          28,
          29,
          30,
          31,
          32,
          33,
          34,
          35,
          36,
          37,
          38,
          39,
          40,
          41,
          42,
          43,
          44,
          45,
          46,
          47,
          48,
          49,
          50,
          51,
          52,
          53,
          54,
          55,
          56,
          57,
          58,
          59
         ],
         "xaxis": "x",
         "y": [
          0.5788850247087136,
          0.7401031528786461,
          0.7759544633001951,
          0.7882991211351362,
          0.7950703223783473,
          0.7997782380249913,
          0.8029514376976861,
          0.8049572171954865,
          0.8067064567185904,
          0.8100010706748499,
          0.8110238962581487,
          0.8118720805095583,
          0.8123975153494111,
          0.8129667656612196,
          0.8137246389509484,
          0.8146141076553661,
          0.815241939104232,
          0.8156683813337708,
          0.8163967046353222,
          0.8169454004290676,
          0.8175045112322165,
          0.8177205652811212,
          0.8179503025603545,
          0.8181164025135194,
          0.8184606294374784,
          0.8186628336588535,
          0.8190009242625522,
          0.819077564978535,
          0.819150857369129,
          0.8192743767613674,
          0.8193890129847637,
          0.8194757783797444,
          0.8195043125374254,
          0.8195684221192311,
          0.8197847330154359,
          0.8201666764560362,
          0.8202781133633982,
          0.8204657823591196,
          0.82061103699262,
          0.820641838853693,
          0.8208870613759961,
          0.8209971453230964,
          0.8210096054796452,
          0.8215174970844226,
          0.8215701577070841,
          0.8217664896228375,
          0.8217849401925434,
          0.8217899079021224,
          0.8218034018665032,
          0.8218247714979983,
          0.8219237029606236,
          0.8219538004301757,
          0.8221217360714764,
          0.822155545731188,
          0.8221966634975124,
          0.822811619037025,
          0.8228718887740293,
          0.8230062584698428,
          0.8235865992558132,
          0.8237347466696022
         ],
         "yaxis": "y"
        },
        {
         "hovertemplate": "variable=RandomSearch<br>index=%{x}<br>value=%{y}<extra></extra>",
         "legendgroup": "RandomSearch",
         "line": {
          "color": "#ab63fa",
          "dash": "solid"
         },
         "marker": {
          "symbol": "circle"
         },
         "mode": "lines+markers",
         "name": "RandomSearch",
         "showlegend": true,
         "type": "scattergl",
         "x": [
          0,
          1,
          2,
          3,
          4,
          5,
          6,
          7,
          8,
          9,
          10,
          11,
          12,
          13,
          14,
          15,
          16,
          17,
          18,
          19,
          20,
          21,
          22,
          23,
          24,
          25,
          26,
          27,
          28,
          29,
          30,
          31,
          32,
          33,
          34,
          35,
          36,
          37,
          38,
          39,
          40,
          41,
          42,
          43,
          44,
          45,
          46,
          47,
          48,
          49,
          50,
          51,
          52,
          53,
          54,
          55,
          56,
          57,
          58,
          59
         ],
         "xaxis": "x",
         "y": [
          0.6278353575960989,
          0.7678514299290704,
          0.7942263313156919,
          0.8021157034822505,
          0.8076633486214367,
          0.8112219783232099,
          0.8130343093663498,
          0.815208238990244,
          0.8166610399212964,
          0.8176510230989298,
          0.8187723047957793,
          0.8194035871383737,
          0.8200683547490255,
          0.8207319534139974,
          0.8213667199295701,
          0.8218085568776448,
          0.8223062967490494,
          0.8230966731048165,
          0.8232831579014819,
          0.8234995776021815,
          0.8237258345470463,
          0.8238609996029379,
          0.8244542239999053,
          0.8245895789192691,
          0.8246615273867279,
          0.8248183922023044,
          0.8249582758502816,
          0.8252203909636382,
          0.8253295103102912,
          0.8255113270429315,
          0.8256347099393275,
          0.8257742939241591,
          0.8258732146877185,
          0.8259185047260578,
          0.8260501086504407,
          0.8260864153165695,
          0.82621227827667,
          0.8262389693109682,
          0.8267796365154898,
          0.826820260950272,
          0.8268514346618249,
          0.8269841259833282,
          0.8270547830464866,
          0.8272486943770225,
          0.8273543634174982,
          0.8275308567783212,
          0.8276259970204916,
          0.8277421728383665,
          0.8278723539726297,
          0.8279510995981293,
          0.827971861423703,
          0.8280407385402921,
          0.8282030857595758,
          0.8283358809358994,
          0.8285553782481042,
          0.8286677059632397,
          0.8287434916949677,
          0.8288264438194012,
          0.8289151633825379,
          0.8293804102581473
         ],
         "yaxis": "y"
        },
        {
         "hovertemplate": "variable=ASHAOptunaTPESearcher<br>index=%{x}<br>value=%{y}<extra></extra>",
         "legendgroup": "ASHAOptunaTPESearcher",
         "line": {
          "color": "#FFA15A",
          "dash": "solid"
         },
         "marker": {
          "symbol": "circle"
         },
         "mode": "lines+markers",
         "name": "ASHAOptunaTPESearcher",
         "showlegend": true,
         "type": "scattergl",
         "x": [
          0,
          1,
          2,
          3,
          4,
          5,
          6,
          7,
          8,
          9,
          10,
          11,
          12,
          13,
          14,
          15,
          16,
          17,
          18,
          19,
          20,
          21,
          22,
          23,
          24,
          25,
          26,
          27,
          28,
          29,
          30,
          31,
          32,
          33,
          34,
          35,
          36,
          37,
          38,
          39,
          40,
          41,
          42,
          43,
          44,
          45,
          46,
          47,
          48,
          49,
          50,
          51,
          52,
          53,
          54,
          55,
          56,
          57,
          58,
          59
         ],
         "xaxis": "x",
         "y": [
          0.6280928929075587,
          0.7433967852475432,
          0.7678086163197586,
          0.7767521366415958,
          0.784424106305836,
          0.7891562474605687,
          0.7914427501310314,
          0.7946762749856128,
          0.7987161539166261,
          0.8005820114619906,
          0.8023534359328762,
          0.8036578907334494,
          0.8041085782256043,
          0.8046382236530133,
          0.8049216293398397,
          0.8062310204479594,
          0.8064819021946401,
          0.8069926805437305,
          0.8072663923423797,
          0.8074423875717432,
          0.8076032860686018,
          0.8079607804510598,
          0.8081318034041132,
          0.8082868376500675,
          0.808487923625989,
          0.8087448861173064,
          0.809022437776293,
          0.809361310494442,
          0.8097402230023087,
          0.809886366314659,
          0.8102032236051594,
          0.8103397892375689,
          0.8103745317774859,
          0.8104555198724128,
          0.8112780818178736,
          0.8113249941571113,
          0.8121634205051357,
          0.8122573638205424,
          0.8123367641609451,
          0.8123710437539932,
          0.8124206512671207,
          0.8124986066728563,
          0.8126525439504254,
          0.8128519673220278,
          0.8129300200972078,
          0.8129441684795863,
          0.8130938156156882,
          0.813197787277574,
          0.8133961017469242,
          0.8135454928395154,
          0.813599532394217,
          0.8136037500098406,
          0.8136137383651952,
          0.8136905760112993,
          0.8140807743023994,
          0.8143063640354534,
          0.8143231735635194,
          0.8144976230425399,
          0.8147275898387183,
          0.8149233914946042
         ],
         "yaxis": "y"
        },
        {
         "hovertemplate": "variable=ASHARandomSearch<br>index=%{x}<br>value=%{y}<extra></extra>",
         "legendgroup": "ASHARandomSearch",
         "line": {
          "color": "#19d3f3",
          "dash": "solid"
         },
         "marker": {
          "symbol": "circle"
         },
         "mode": "lines+markers",
         "name": "ASHARandomSearch",
         "showlegend": true,
         "type": "scattergl",
         "x": [
          0,
          1,
          2,
          3,
          4,
          5,
          6,
          7,
          8,
          9,
          10,
          11,
          12,
          13,
          14,
          15,
          16,
          17,
          18,
          19,
          20,
          21,
          22,
          23,
          24,
          25,
          26,
          27,
          28,
          29,
          30,
          31,
          32,
          33,
          34,
          35,
          36,
          37,
          38,
          39,
          40,
          41,
          42,
          43,
          44,
          45,
          46,
          47,
          48,
          49,
          50,
          51,
          52,
          53,
          54,
          55,
          56,
          57,
          58,
          59
         ],
         "xaxis": "x",
         "y": [
          0.5987871303197404,
          0.7569054814579693,
          0.7894358074210519,
          0.7986751381058439,
          0.8058911809547867,
          0.8110723849588094,
          0.8143623869108942,
          0.8175463233058795,
          0.819388526485265,
          0.82086936836806,
          0.8221512479136753,
          0.8228246116933826,
          0.8235836591209654,
          0.8244255776465265,
          0.8251256703170794,
          0.8255034337384386,
          0.8256642536877663,
          0.826124136123918,
          0.8266800949060066,
          0.8271013640363931,
          0.8286933044895812,
          0.828972174831051,
          0.8294020167109364,
          0.8301648816869823,
          0.8308557507547468,
          0.8311282826412052,
          0.8312132084543497,
          0.8314745311191317,
          0.8316283715094194,
          0.8318016401720292,
          0.8318814540766094,
          0.8322951538554737,
          0.832476276257472,
          0.8325260167922298,
          0.8327379895200332,
          0.8328293453309658,
          0.8328550954311875,
          0.8328994366829987,
          0.8330111765853135,
          0.8330896513860516,
          0.8331821383344714,
          0.833264459820833,
          0.8332867565518813,
          0.8336969488346885,
          0.8338277920681263,
          0.8339000371976235,
          0.8341817239157383,
          0.834280270044939,
          0.8343974807802358,
          0.8344469812266765,
          0.8345502716083202,
          0.8345808598898059,
          0.8347133769190065,
          0.8349640872699743,
          0.8352563528820129,
          0.8354754730677078,
          0.8356196643878903,
          0.8360545840124693,
          0.8362502312918862,
          0.8363543748989758
         ],
         "yaxis": "y"
        },
        {
         "hovertemplate": "variable=ASHASkOptSearcher<br>index=%{x}<br>value=%{y}<extra></extra>",
         "legendgroup": "ASHASkOptSearcher",
         "line": {
          "color": "#FF6692",
          "dash": "solid"
         },
         "marker": {
          "symbol": "circle"
         },
         "mode": "lines+markers",
         "name": "ASHASkOptSearcher",
         "showlegend": true,
         "type": "scattergl",
         "x": [
          0,
          1,
          2,
          3,
          4,
          5,
          6,
          7,
          8,
          9,
          10,
          11,
          12,
          13,
          14,
          15,
          16,
          17,
          18,
          19,
          20,
          21,
          22,
          23,
          24,
          25,
          26,
          27,
          28,
          29,
          30,
          31,
          32,
          33,
          34,
          35,
          36,
          37,
          38,
          39,
          40,
          41,
          42,
          43,
          44,
          45,
          46,
          47,
          48,
          49,
          50,
          51,
          52,
          53,
          54,
          55,
          56,
          57,
          58,
          59
         ],
         "xaxis": "x",
         "y": [
          0.62285620026945,
          0.7780914148070537,
          0.8059826220261679,
          0.8188817185385172,
          0.8261208100663051,
          0.8286362951521797,
          0.8327562900868116,
          0.8355682615081618,
          0.8381473724039963,
          0.8396368792401863,
          0.8406666000921399,
          0.8419965618135244,
          0.8430334378475834,
          0.8437567850488952,
          0.8444590305722405,
          0.8452911612486061,
          0.8456178710427701,
          0.8462035335007912,
          0.8479353889186287,
          0.8484011032107153,
          0.8485605017271051,
          0.8486598034628737,
          0.8490039708284458,
          0.8501076112402951,
          0.850447096460654,
          0.8505934650116057,
          0.8507952834506837,
          0.8510202058809804,
          0.8513221229787823,
          0.8514035374140563,
          0.8516287397761068,
          0.8517378784725954,
          0.8518528610537082,
          0.8520534896592,
          0.8521082975654054,
          0.852228204007262,
          0.8523342983713725,
          0.8524644554575687,
          0.8525271977454003,
          0.8525539875067432,
          0.8527363434935764,
          0.8530101988748967,
          0.8531237409574556,
          0.8531754134743743,
          0.8536034824519346,
          0.8537057852191818,
          0.8537945356812376,
          0.85388866922567,
          0.85395097168451,
          0.8540235769717647,
          0.8541675680942581,
          0.8545775722948749,
          0.8546243969015235,
          0.8548165109755981,
          0.8549741919964493,
          0.8549791226707165,
          0.8552008251601863,
          0.8553059743682652,
          0.8553825113435082,
          0.855737602548265
         ],
         "yaxis": "y"
        }
       ],
       "layout": {
        "legend": {
         "title": {
          "text": "variable"
         },
         "tracegroupgap": 0
        },
        "margin": {
         "t": 60
        },
        "template": {
         "data": {
          "bar": [
           {
            "error_x": {
             "color": "#2a3f5f"
            },
            "error_y": {
             "color": "#2a3f5f"
            },
            "marker": {
             "line": {
              "color": "#E5ECF6",
              "width": 0.5
             },
             "pattern": {
              "fillmode": "overlay",
              "size": 10,
              "solidity": 0.2
             }
            },
            "type": "bar"
           }
          ],
          "barpolar": [
           {
            "marker": {
             "line": {
              "color": "#E5ECF6",
              "width": 0.5
             },
             "pattern": {
              "fillmode": "overlay",
              "size": 10,
              "solidity": 0.2
             }
            },
            "type": "barpolar"
           }
          ],
          "carpet": [
           {
            "aaxis": {
             "endlinecolor": "#2a3f5f",
             "gridcolor": "white",
             "linecolor": "white",
             "minorgridcolor": "white",
             "startlinecolor": "#2a3f5f"
            },
            "baxis": {
             "endlinecolor": "#2a3f5f",
             "gridcolor": "white",
             "linecolor": "white",
             "minorgridcolor": "white",
             "startlinecolor": "#2a3f5f"
            },
            "type": "carpet"
           }
          ],
          "choropleth": [
           {
            "colorbar": {
             "outlinewidth": 0,
             "ticks": ""
            },
            "type": "choropleth"
           }
          ],
          "contour": [
           {
            "colorbar": {
             "outlinewidth": 0,
             "ticks": ""
            },
            "colorscale": [
             [
              0,
              "#0d0887"
             ],
             [
              0.1111111111111111,
              "#46039f"
             ],
             [
              0.2222222222222222,
              "#7201a8"
             ],
             [
              0.3333333333333333,
              "#9c179e"
             ],
             [
              0.4444444444444444,
              "#bd3786"
             ],
             [
              0.5555555555555556,
              "#d8576b"
             ],
             [
              0.6666666666666666,
              "#ed7953"
             ],
             [
              0.7777777777777778,
              "#fb9f3a"
             ],
             [
              0.8888888888888888,
              "#fdca26"
             ],
             [
              1,
              "#f0f921"
             ]
            ],
            "type": "contour"
           }
          ],
          "contourcarpet": [
           {
            "colorbar": {
             "outlinewidth": 0,
             "ticks": ""
            },
            "type": "contourcarpet"
           }
          ],
          "heatmap": [
           {
            "colorbar": {
             "outlinewidth": 0,
             "ticks": ""
            },
            "colorscale": [
             [
              0,
              "#0d0887"
             ],
             [
              0.1111111111111111,
              "#46039f"
             ],
             [
              0.2222222222222222,
              "#7201a8"
             ],
             [
              0.3333333333333333,
              "#9c179e"
             ],
             [
              0.4444444444444444,
              "#bd3786"
             ],
             [
              0.5555555555555556,
              "#d8576b"
             ],
             [
              0.6666666666666666,
              "#ed7953"
             ],
             [
              0.7777777777777778,
              "#fb9f3a"
             ],
             [
              0.8888888888888888,
              "#fdca26"
             ],
             [
              1,
              "#f0f921"
             ]
            ],
            "type": "heatmap"
           }
          ],
          "heatmapgl": [
           {
            "colorbar": {
             "outlinewidth": 0,
             "ticks": ""
            },
            "colorscale": [
             [
              0,
              "#0d0887"
             ],
             [
              0.1111111111111111,
              "#46039f"
             ],
             [
              0.2222222222222222,
              "#7201a8"
             ],
             [
              0.3333333333333333,
              "#9c179e"
             ],
             [
              0.4444444444444444,
              "#bd3786"
             ],
             [
              0.5555555555555556,
              "#d8576b"
             ],
             [
              0.6666666666666666,
              "#ed7953"
             ],
             [
              0.7777777777777778,
              "#fb9f3a"
             ],
             [
              0.8888888888888888,
              "#fdca26"
             ],
             [
              1,
              "#f0f921"
             ]
            ],
            "type": "heatmapgl"
           }
          ],
          "histogram": [
           {
            "marker": {
             "pattern": {
              "fillmode": "overlay",
              "size": 10,
              "solidity": 0.2
             }
            },
            "type": "histogram"
           }
          ],
          "histogram2d": [
           {
            "colorbar": {
             "outlinewidth": 0,
             "ticks": ""
            },
            "colorscale": [
             [
              0,
              "#0d0887"
             ],
             [
              0.1111111111111111,
              "#46039f"
             ],
             [
              0.2222222222222222,
              "#7201a8"
             ],
             [
              0.3333333333333333,
              "#9c179e"
             ],
             [
              0.4444444444444444,
              "#bd3786"
             ],
             [
              0.5555555555555556,
              "#d8576b"
             ],
             [
              0.6666666666666666,
              "#ed7953"
             ],
             [
              0.7777777777777778,
              "#fb9f3a"
             ],
             [
              0.8888888888888888,
              "#fdca26"
             ],
             [
              1,
              "#f0f921"
             ]
            ],
            "type": "histogram2d"
           }
          ],
          "histogram2dcontour": [
           {
            "colorbar": {
             "outlinewidth": 0,
             "ticks": ""
            },
            "colorscale": [
             [
              0,
              "#0d0887"
             ],
             [
              0.1111111111111111,
              "#46039f"
             ],
             [
              0.2222222222222222,
              "#7201a8"
             ],
             [
              0.3333333333333333,
              "#9c179e"
             ],
             [
              0.4444444444444444,
              "#bd3786"
             ],
             [
              0.5555555555555556,
              "#d8576b"
             ],
             [
              0.6666666666666666,
              "#ed7953"
             ],
             [
              0.7777777777777778,
              "#fb9f3a"
             ],
             [
              0.8888888888888888,
              "#fdca26"
             ],
             [
              1,
              "#f0f921"
             ]
            ],
            "type": "histogram2dcontour"
           }
          ],
          "mesh3d": [
           {
            "colorbar": {
             "outlinewidth": 0,
             "ticks": ""
            },
            "type": "mesh3d"
           }
          ],
          "parcoords": [
           {
            "line": {
             "colorbar": {
              "outlinewidth": 0,
              "ticks": ""
             }
            },
            "type": "parcoords"
           }
          ],
          "pie": [
           {
            "automargin": true,
            "type": "pie"
           }
          ],
          "scatter": [
           {
            "marker": {
             "colorbar": {
              "outlinewidth": 0,
              "ticks": ""
             }
            },
            "type": "scatter"
           }
          ],
          "scatter3d": [
           {
            "line": {
             "colorbar": {
              "outlinewidth": 0,
              "ticks": ""
             }
            },
            "marker": {
             "colorbar": {
              "outlinewidth": 0,
              "ticks": ""
             }
            },
            "type": "scatter3d"
           }
          ],
          "scattercarpet": [
           {
            "marker": {
             "colorbar": {
              "outlinewidth": 0,
              "ticks": ""
             }
            },
            "type": "scattercarpet"
           }
          ],
          "scattergeo": [
           {
            "marker": {
             "colorbar": {
              "outlinewidth": 0,
              "ticks": ""
             }
            },
            "type": "scattergeo"
           }
          ],
          "scattergl": [
           {
            "marker": {
             "colorbar": {
              "outlinewidth": 0,
              "ticks": ""
             }
            },
            "type": "scattergl"
           }
          ],
          "scattermapbox": [
           {
            "marker": {
             "colorbar": {
              "outlinewidth": 0,
              "ticks": ""
             }
            },
            "type": "scattermapbox"
           }
          ],
          "scatterpolar": [
           {
            "marker": {
             "colorbar": {
              "outlinewidth": 0,
              "ticks": ""
             }
            },
            "type": "scatterpolar"
           }
          ],
          "scatterpolargl": [
           {
            "marker": {
             "colorbar": {
              "outlinewidth": 0,
              "ticks": ""
             }
            },
            "type": "scatterpolargl"
           }
          ],
          "scatterternary": [
           {
            "marker": {
             "colorbar": {
              "outlinewidth": 0,
              "ticks": ""
             }
            },
            "type": "scatterternary"
           }
          ],
          "surface": [
           {
            "colorbar": {
             "outlinewidth": 0,
             "ticks": ""
            },
            "colorscale": [
             [
              0,
              "#0d0887"
             ],
             [
              0.1111111111111111,
              "#46039f"
             ],
             [
              0.2222222222222222,
              "#7201a8"
             ],
             [
              0.3333333333333333,
              "#9c179e"
             ],
             [
              0.4444444444444444,
              "#bd3786"
             ],
             [
              0.5555555555555556,
              "#d8576b"
             ],
             [
              0.6666666666666666,
              "#ed7953"
             ],
             [
              0.7777777777777778,
              "#fb9f3a"
             ],
             [
              0.8888888888888888,
              "#fdca26"
             ],
             [
              1,
              "#f0f921"
             ]
            ],
            "type": "surface"
           }
          ],
          "table": [
           {
            "cells": {
             "fill": {
              "color": "#EBF0F8"
             },
             "line": {
              "color": "white"
             }
            },
            "header": {
             "fill": {
              "color": "#C8D4E3"
             },
             "line": {
              "color": "white"
             }
            },
            "type": "table"
           }
          ]
         },
         "layout": {
          "annotationdefaults": {
           "arrowcolor": "#2a3f5f",
           "arrowhead": 0,
           "arrowwidth": 1
          },
          "autotypenumbers": "strict",
          "coloraxis": {
           "colorbar": {
            "outlinewidth": 0,
            "ticks": ""
           }
          },
          "colorscale": {
           "diverging": [
            [
             0,
             "#8e0152"
            ],
            [
             0.1,
             "#c51b7d"
            ],
            [
             0.2,
             "#de77ae"
            ],
            [
             0.3,
             "#f1b6da"
            ],
            [
             0.4,
             "#fde0ef"
            ],
            [
             0.5,
             "#f7f7f7"
            ],
            [
             0.6,
             "#e6f5d0"
            ],
            [
             0.7,
             "#b8e186"
            ],
            [
             0.8,
             "#7fbc41"
            ],
            [
             0.9,
             "#4d9221"
            ],
            [
             1,
             "#276419"
            ]
           ],
           "sequential": [
            [
             0,
             "#0d0887"
            ],
            [
             0.1111111111111111,
             "#46039f"
            ],
            [
             0.2222222222222222,
             "#7201a8"
            ],
            [
             0.3333333333333333,
             "#9c179e"
            ],
            [
             0.4444444444444444,
             "#bd3786"
            ],
            [
             0.5555555555555556,
             "#d8576b"
            ],
            [
             0.6666666666666666,
             "#ed7953"
            ],
            [
             0.7777777777777778,
             "#fb9f3a"
            ],
            [
             0.8888888888888888,
             "#fdca26"
            ],
            [
             1,
             "#f0f921"
            ]
           ],
           "sequentialminus": [
            [
             0,
             "#0d0887"
            ],
            [
             0.1111111111111111,
             "#46039f"
            ],
            [
             0.2222222222222222,
             "#7201a8"
            ],
            [
             0.3333333333333333,
             "#9c179e"
            ],
            [
             0.4444444444444444,
             "#bd3786"
            ],
            [
             0.5555555555555556,
             "#d8576b"
            ],
            [
             0.6666666666666666,
             "#ed7953"
            ],
            [
             0.7777777777777778,
             "#fb9f3a"
            ],
            [
             0.8888888888888888,
             "#fdca26"
            ],
            [
             1,
             "#f0f921"
            ]
           ]
          },
          "colorway": [
           "#636efa",
           "#EF553B",
           "#00cc96",
           "#ab63fa",
           "#FFA15A",
           "#19d3f3",
           "#FF6692",
           "#B6E880",
           "#FF97FF",
           "#FECB52"
          ],
          "font": {
           "color": "#2a3f5f"
          },
          "geo": {
           "bgcolor": "white",
           "lakecolor": "white",
           "landcolor": "#E5ECF6",
           "showlakes": true,
           "showland": true,
           "subunitcolor": "white"
          },
          "hoverlabel": {
           "align": "left"
          },
          "hovermode": "closest",
          "mapbox": {
           "style": "light"
          },
          "paper_bgcolor": "white",
          "plot_bgcolor": "#E5ECF6",
          "polar": {
           "angularaxis": {
            "gridcolor": "white",
            "linecolor": "white",
            "ticks": ""
           },
           "bgcolor": "#E5ECF6",
           "radialaxis": {
            "gridcolor": "white",
            "linecolor": "white",
            "ticks": ""
           }
          },
          "scene": {
           "xaxis": {
            "backgroundcolor": "#E5ECF6",
            "gridcolor": "white",
            "gridwidth": 2,
            "linecolor": "white",
            "showbackground": true,
            "ticks": "",
            "zerolinecolor": "white"
           },
           "yaxis": {
            "backgroundcolor": "#E5ECF6",
            "gridcolor": "white",
            "gridwidth": 2,
            "linecolor": "white",
            "showbackground": true,
            "ticks": "",
            "zerolinecolor": "white"
           },
           "zaxis": {
            "backgroundcolor": "#E5ECF6",
            "gridcolor": "white",
            "gridwidth": 2,
            "linecolor": "white",
            "showbackground": true,
            "ticks": "",
            "zerolinecolor": "white"
           }
          },
          "shapedefaults": {
           "line": {
            "color": "#2a3f5f"
           }
          },
          "ternary": {
           "aaxis": {
            "gridcolor": "white",
            "linecolor": "white",
            "ticks": ""
           },
           "baxis": {
            "gridcolor": "white",
            "linecolor": "white",
            "ticks": ""
           },
           "bgcolor": "#E5ECF6",
           "caxis": {
            "gridcolor": "white",
            "linecolor": "white",
            "ticks": ""
           }
          },
          "title": {
           "x": 0.05
          },
          "xaxis": {
           "automargin": true,
           "gridcolor": "white",
           "linecolor": "white",
           "ticks": "",
           "title": {
            "standoff": 15
           },
           "zerolinecolor": "white",
           "zerolinewidth": 2
          },
          "yaxis": {
           "automargin": true,
           "gridcolor": "white",
           "linecolor": "white",
           "ticks": "",
           "title": {
            "standoff": 15
           },
           "zerolinecolor": "white",
           "zerolinewidth": 2
          }
         }
        },
        "xaxis": {
         "anchor": "y",
         "domain": [
          0,
          1
         ],
         "title": {
          "text": "index"
         }
        },
        "yaxis": {
         "anchor": "x",
         "domain": [
          0,
          1
         ],
         "title": {
          "text": "value"
         }
        }
       }
      }
     },
     "metadata": {},
     "output_type": "display_data"
    }
   ],
   "source": [
    "px.line(cummax_searcher_mean).update_traces(mode='lines+markers').show()"
   ]
  },
  {
   "cell_type": "markdown",
   "id": "703dfcc0",
   "metadata": {},
   "source": [
    "### Median cumulative maximum score over time\n",
    "*Each step is one minute*"
   ]
  },
  {
   "cell_type": "code",
   "execution_count": 66,
   "id": "766e77fd",
   "metadata": {},
   "outputs": [
    {
     "data": {
      "application/vnd.plotly.v1+json": {
       "config": {
        "plotlyServerURL": "https://plot.ly"
       },
       "data": [
        {
         "hovertemplate": "variable=ASHAHEBOSearcher<br>index=%{x}<br>value=%{y}<extra></extra>",
         "legendgroup": "ASHAHEBOSearcher",
         "line": {
          "color": "#636efa",
          "dash": "solid"
         },
         "marker": {
          "symbol": "circle"
         },
         "mode": "lines+markers",
         "name": "ASHAHEBOSearcher",
         "showlegend": true,
         "type": "scattergl",
         "x": [
          0,
          1,
          2,
          3,
          4,
          5,
          6,
          7,
          8,
          9,
          10,
          11,
          12,
          13,
          14,
          15,
          16,
          17,
          18,
          19,
          20,
          21,
          22,
          23,
          24,
          25,
          26,
          27,
          28,
          29,
          30,
          31,
          32,
          33,
          34,
          35,
          36,
          37,
          38,
          39,
          40,
          41,
          42,
          43,
          44,
          45,
          46,
          47,
          48,
          49,
          50,
          51,
          52,
          53,
          54,
          55,
          56,
          57,
          58,
          59
         ],
         "xaxis": "x",
         "y": [
          0.698855515907167,
          0.808793759337871,
          0.8487474730419832,
          0.8634686701326968,
          0.877822997169462,
          0.8794138470043673,
          0.8798746867001925,
          0.8832517280451743,
          0.8837649641265801,
          0.8837649641265801,
          0.8840420076319351,
          0.8845743300369091,
          0.8856088669812362,
          0.8874681104179775,
          0.8874681104179775,
          0.8874681104179775,
          0.8874681104179775,
          0.8876378937869166,
          0.8877694796295605,
          0.8877694796295605,
          0.8877694796295605,
          0.8877694796295605,
          0.8882074000662129,
          0.8890929293851835,
          0.8900623347284851,
          0.8900623347284851,
          0.8900623347284851,
          0.8900623347284851,
          0.8901243753764729,
          0.8901243753764729,
          0.8901243753764729,
          0.8901243753764729,
          0.8901243753764729,
          0.8901243753764729,
          0.8901243753764729,
          0.8910270182932934,
          0.8913270586054821,
          0.8913270586054821,
          0.8913270586054821,
          0.8913270586054821,
          0.8913270586054821,
          0.8913270586054821,
          0.8913270586054821,
          0.8913270586054821,
          0.8913270586054821,
          0.8913270586054821,
          0.891327329702917,
          0.891327329702917,
          0.891327329702917,
          0.891327329702917,
          0.891327329702917,
          0.891327329702917,
          0.891327329702917,
          0.891327329702917,
          0.891327329702917,
          0.891327329702917,
          0.891327329702917,
          0.891327329702917,
          0.8927310964034758,
          0.8927310964034758
         ],
         "yaxis": "y"
        },
        {
         "hovertemplate": "variable=ASHACFOSearcher<br>index=%{x}<br>value=%{y}<extra></extra>",
         "legendgroup": "ASHACFOSearcher",
         "line": {
          "color": "#EF553B",
          "dash": "solid"
         },
         "marker": {
          "symbol": "circle"
         },
         "mode": "lines+markers",
         "name": "ASHACFOSearcher",
         "showlegend": true,
         "type": "scattergl",
         "x": [
          0,
          1,
          2,
          3,
          4,
          5,
          6,
          7,
          8,
          9,
          10,
          11,
          12,
          13,
          14,
          15,
          16,
          17,
          18,
          19,
          20,
          21,
          22,
          23,
          24,
          25,
          26,
          27,
          28,
          29,
          30,
          31,
          32,
          33,
          34,
          35,
          36,
          37,
          38,
          39,
          40,
          41,
          42,
          43,
          44,
          45,
          46,
          47,
          48,
          49,
          50,
          51,
          52,
          53,
          54,
          55,
          56,
          57,
          58,
          59
         ],
         "xaxis": "x",
         "y": [
          0.664951067376822,
          0.7731050365749538,
          0.8191909598798848,
          0.8363584331867568,
          0.8439676767004267,
          0.8514392337851642,
          0.8542203929723211,
          0.8583543346055784,
          0.8612248794462256,
          0.8678414635761458,
          0.8691495674349178,
          0.8724350278197628,
          0.8728902203588387,
          0.8760735953745942,
          0.8762650409482649,
          0.8775424601839199,
          0.8785370682984542,
          0.8785370682984542,
          0.8785370682984542,
          0.8785370682984542,
          0.8799432267751732,
          0.8799432267751732,
          0.8802985686901569,
          0.8802985686901569,
          0.8810478765299383,
          0.8810478765299383,
          0.8810478765299383,
          0.8810478765299383,
          0.8826242990775817,
          0.8836406964952754,
          0.8836406964952754,
          0.8836406964952754,
          0.8836406964952754,
          0.8836406964952754,
          0.8836406964952754,
          0.8836406964952754,
          0.8836406964952754,
          0.8836406964952754,
          0.8836406964952754,
          0.8836406964952754,
          0.8836406964952754,
          0.884123517498526,
          0.884123517498526,
          0.884123517498526,
          0.884123517498526,
          0.884123517498526,
          0.884123517498526,
          0.884123517498526,
          0.884123517498526,
          0.884123517498526,
          0.884123517498526,
          0.884123517498526,
          0.884123517498526,
          0.884561917073194,
          0.884561917073194,
          0.884561917073194,
          0.884561917073194,
          0.8878447627067458,
          0.8883695795064372,
          0.8883695795064372
         ],
         "yaxis": "y"
        },
        {
         "hovertemplate": "variable=ASHAAxSearcher<br>index=%{x}<br>value=%{y}<extra></extra>",
         "legendgroup": "ASHAAxSearcher",
         "line": {
          "color": "#00cc96",
          "dash": "solid"
         },
         "marker": {
          "symbol": "circle"
         },
         "mode": "lines+markers",
         "name": "ASHAAxSearcher",
         "showlegend": true,
         "type": "scattergl",
         "x": [
          0,
          1,
          2,
          3,
          4,
          5,
          6,
          7,
          8,
          9,
          10,
          11,
          12,
          13,
          14,
          15,
          16,
          17,
          18,
          19,
          20,
          21,
          22,
          23,
          24,
          25,
          26,
          27,
          28,
          29,
          30,
          31,
          32,
          33,
          34,
          35,
          36,
          37,
          38,
          39,
          40,
          41,
          42,
          43,
          44,
          45,
          46,
          47,
          48,
          49,
          50,
          51,
          52,
          53,
          54,
          55,
          56,
          57,
          58,
          59
         ],
         "xaxis": "x",
         "y": [
          0.649852343293081,
          0.7850792145131,
          0.8476946030963148,
          0.8603752421548277,
          0.8615018271619779,
          0.8633171229036933,
          0.8652162158939569,
          0.8727405280048693,
          0.876574615714715,
          0.8779171401580899,
          0.8788826484267491,
          0.8827543305746224,
          0.8827543305746224,
          0.8840684482293673,
          0.8840684482293673,
          0.8840684482293673,
          0.8840684482293673,
          0.8888853265934099,
          0.8904261523406707,
          0.8904261523406707,
          0.8904261523406707,
          0.8904261523406707,
          0.8904261523406707,
          0.8920447179156897,
          0.8920447179156897,
          0.8920447179156897,
          0.8928025054043568,
          0.8928025054043568,
          0.8928025054043568,
          0.8928025054043568,
          0.8928025054043568,
          0.8928025054043568,
          0.8928025054043568,
          0.8934827091982606,
          0.8935277739241477,
          0.8935277739241477,
          0.8935277739241477,
          0.8935277739241477,
          0.8935277739241477,
          0.8935277739241477,
          0.8935277739241477,
          0.8935277739241477,
          0.8935277739241477,
          0.8939901563055809,
          0.8939901563055809,
          0.8939901563055809,
          0.8939901563055809,
          0.8939901563055809,
          0.8939901563055809,
          0.8939901563055809,
          0.8939901563055809,
          0.8939901563055809,
          0.8939901563055809,
          0.8939901563055809,
          0.8945800678329331,
          0.8945800678329331,
          0.8945800678329331,
          0.8945800678329331,
          0.8945800678329331,
          0.8945800678329331
         ],
         "yaxis": "y"
        },
        {
         "hovertemplate": "variable=BOHBSearcher<br>index=%{x}<br>value=%{y}<extra></extra>",
         "legendgroup": "BOHBSearcher",
         "line": {
          "color": "#ab63fa",
          "dash": "solid"
         },
         "marker": {
          "symbol": "circle"
         },
         "mode": "lines+markers",
         "name": "BOHBSearcher",
         "showlegend": true,
         "type": "scattergl",
         "x": [
          0,
          1,
          2,
          3,
          4,
          5,
          6,
          7,
          8,
          9,
          10,
          11,
          12,
          13,
          14,
          15,
          16,
          17,
          18,
          19,
          20,
          21,
          22,
          23,
          24,
          25,
          26,
          27,
          28,
          29,
          30,
          31,
          32,
          33,
          34,
          35,
          36,
          37,
          38,
          39,
          40,
          41,
          42,
          43,
          44,
          45,
          46,
          47,
          48,
          49,
          50,
          51,
          52,
          53,
          54,
          55,
          56,
          57,
          58,
          59
         ],
         "xaxis": "x",
         "y": [
          0.6673240599459589,
          0.7774936620438786,
          0.8326493804527315,
          0.8482068670453389,
          0.8563630308964433,
          0.8673797540454834,
          0.8696695637084841,
          0.8705570202314667,
          0.8755772126561032,
          0.8755772126561032,
          0.8768097908294838,
          0.8768097908294838,
          0.8768097908294838,
          0.8768097908294838,
          0.8771151505085639,
          0.8780096909787126,
          0.8789089536990329,
          0.8793355002664032,
          0.8796178158299424,
          0.8796178158299424,
          0.8801207572821848,
          0.8801207572821848,
          0.8801207572821848,
          0.8811936189030276,
          0.8811936189030276,
          0.8811936189030276,
          0.8814619632866272,
          0.8814619632866272,
          0.8814619632866272,
          0.882893728528367,
          0.8862679666689569,
          0.8890111899396029,
          0.8890111899396029,
          0.8890111899396029,
          0.8890111899396029,
          0.8890111899396029,
          0.8890111899396029,
          0.8890111899396029,
          0.8890111899396029,
          0.8890111899396029,
          0.8890111899396029,
          0.8901903169319512,
          0.8901903169319512,
          0.8901903169319512,
          0.8901903169319512,
          0.8901903169319512,
          0.8901903169319512,
          0.8901903169319512,
          0.8910160347924493,
          0.8910160347924493,
          0.8910160347924493,
          0.8910160347924493,
          0.8910160347924493,
          0.8910160347924493,
          0.8910160347924493,
          0.8910160347924493,
          0.8910160347924493,
          0.8910160347924493,
          0.8915610217093748,
          0.8915610217093748
         ],
         "yaxis": "y"
        },
        {
         "hovertemplate": "variable=ASHABlendSearchSearcher<br>index=%{x}<br>value=%{y}<extra></extra>",
         "legendgroup": "ASHABlendSearchSearcher",
         "line": {
          "color": "#FFA15A",
          "dash": "solid"
         },
         "marker": {
          "symbol": "circle"
         },
         "mode": "lines+markers",
         "name": "ASHABlendSearchSearcher",
         "showlegend": true,
         "type": "scattergl",
         "x": [
          0,
          1,
          2,
          3,
          4,
          5,
          6,
          7,
          8,
          9,
          10,
          11,
          12,
          13,
          14,
          15,
          16,
          17,
          18,
          19,
          20,
          21,
          22,
          23,
          24,
          25,
          26,
          27,
          28,
          29,
          30,
          31,
          32,
          33,
          34,
          35,
          36,
          37,
          38,
          39,
          40,
          41,
          42,
          43,
          44,
          45,
          46,
          47,
          48,
          49,
          50,
          51,
          52,
          53,
          54,
          55,
          56,
          57,
          58,
          59
         ],
         "xaxis": "x",
         "y": [
          0.6320341184296917,
          0.775321711206788,
          0.8194205044922,
          0.845872185302507,
          0.8510070056761343,
          0.8552446203611634,
          0.8585753419677918,
          0.8610579605334969,
          0.8630853011785231,
          0.8649961080270545,
          0.8649961080270545,
          0.8655290234346118,
          0.8655290234346118,
          0.8655290234346118,
          0.8690156428194044,
          0.8690156428194044,
          0.8690156428194044,
          0.8690156428194044,
          0.8690156428194044,
          0.8690156428194044,
          0.8690156428194044,
          0.8690156428194044,
          0.8690156428194044,
          0.8690156428194044,
          0.8690156428194044,
          0.8690156428194044,
          0.8726525346775392,
          0.8726525346775392,
          0.8726525346775392,
          0.8726525346775392,
          0.8726525346775392,
          0.8726525346775392,
          0.8728023859848604,
          0.8763824347749118,
          0.8763824347749118,
          0.8763824347749118,
          0.8763824347749118,
          0.8765562369477582,
          0.8765562369477582,
          0.8765562369477582,
          0.8765562369477582,
          0.8794235048152353,
          0.8794235048152353,
          0.8794235048152353,
          0.8794235048152353,
          0.8794235048152353,
          0.8794235048152353,
          0.8794235048152353,
          0.8794235048152353,
          0.8794235048152353,
          0.8802751946208489,
          0.8802751946208489,
          0.8802751946208489,
          0.8802751946208489,
          0.8802751946208489,
          0.8802751946208489,
          0.8802751946208489,
          0.8802751946208489,
          0.8802751946208489,
          0.8825264669054276
         ],
         "yaxis": "y"
        },
        {
         "hovertemplate": "variable=HEBOSearcher<br>index=%{x}<br>value=%{y}<extra></extra>",
         "legendgroup": "HEBOSearcher",
         "line": {
          "color": "#19d3f3",
          "dash": "solid"
         },
         "marker": {
          "symbol": "circle"
         },
         "mode": "lines+markers",
         "name": "HEBOSearcher",
         "showlegend": true,
         "type": "scattergl",
         "x": [
          0,
          1,
          2,
          3,
          4,
          5,
          6,
          7,
          8,
          9,
          10,
          11,
          12,
          13,
          14,
          15,
          16,
          17,
          18,
          19,
          20,
          21,
          22,
          23,
          24,
          25,
          26,
          27,
          28,
          29,
          30,
          31,
          32,
          33,
          34,
          35,
          36,
          37,
          38,
          39,
          40,
          41,
          42,
          43,
          44,
          45,
          46,
          47,
          48,
          49,
          50,
          51,
          52,
          53,
          54,
          55,
          56,
          57,
          58,
          59
         ],
         "xaxis": "x",
         "y": [
          0.6254948152910613,
          0.8410329761016466,
          0.8616798555525843,
          0.8704835227663257,
          0.8759212970957793,
          0.8765831542712312,
          0.8765831542712312,
          0.8765831542712312,
          0.8776655948043911,
          0.8776655948043911,
          0.88005149969081,
          0.88005149969081,
          0.88005149969081,
          0.8856497437561126,
          0.8856497437561126,
          0.8856497437561126,
          0.8856497437561126,
          0.8856497437561126,
          0.8856497437561126,
          0.8857563328001739,
          0.8857563328001739,
          0.8858265187183934,
          0.8858265187183934,
          0.8873626091263292,
          0.8873626091263292,
          0.8873626091263292,
          0.8873626091263292,
          0.8873626091263292,
          0.8873626091263292,
          0.8873626091263292,
          0.8873626091263292,
          0.8873626091263292,
          0.8873626091263292,
          0.8873626091263292,
          0.8873626091263292,
          0.8873626091263292,
          0.8873626091263292,
          0.8880199496998551,
          0.8880199496998551,
          0.8880199496998551,
          0.8881118239305412,
          0.8881118239305412,
          0.8881118239305412,
          0.8881118239305412,
          0.8881118239305412,
          0.8881118239305412,
          0.8904031164328845,
          0.8904031164328845,
          0.8904031164328845,
          0.8904031164328845,
          0.8904031164328845,
          0.8904031164328845,
          0.8904031164328845,
          0.8920400009687213,
          0.8920400009687213,
          0.8920400009687213,
          0.8920400009687213,
          0.8920400009687213,
          0.8920400009687213,
          0.8922962964837218
         ],
         "yaxis": "y"
        },
        {
         "hovertemplate": "variable=ASHAHyperOptSearcher<br>index=%{x}<br>value=%{y}<extra></extra>",
         "legendgroup": "ASHAHyperOptSearcher",
         "line": {
          "color": "#FF6692",
          "dash": "solid"
         },
         "marker": {
          "symbol": "circle"
         },
         "mode": "lines+markers",
         "name": "ASHAHyperOptSearcher",
         "showlegend": true,
         "type": "scattergl",
         "x": [
          0,
          1,
          2,
          3,
          4,
          5,
          6,
          7,
          8,
          9,
          10,
          11,
          12,
          13,
          14,
          15,
          16,
          17,
          18,
          19,
          20,
          21,
          22,
          23,
          24,
          25,
          26,
          27,
          28,
          29,
          30,
          31,
          32,
          33,
          34,
          35,
          36,
          37,
          38,
          39,
          40,
          41,
          42,
          43,
          44,
          45,
          46,
          47,
          48,
          49,
          50,
          51,
          52,
          53,
          54,
          55,
          56,
          57,
          58,
          59
         ],
         "xaxis": "x",
         "y": [
          0.6955253034357058,
          0.8344643186821747,
          0.859428011671193,
          0.8660410257082966,
          0.8705851916980316,
          0.8761560792589469,
          0.8780607024297172,
          0.8813441260022591,
          0.881577489217475,
          0.8854761458079494,
          0.8860020513335108,
          0.8860020513335108,
          0.8869944572445274,
          0.8882204023314153,
          0.8887495113576488,
          0.8887495113576488,
          0.8921227898154345,
          0.8921227898154345,
          0.893144098964191,
          0.893144098964191,
          0.893144098964191,
          0.893144098964191,
          0.8941166989344318,
          0.8941166989344318,
          0.8941166989344318,
          0.8941166989344318,
          0.8941166989344318,
          0.8960644945457183,
          0.8960644945457183,
          0.8960644945457183,
          0.8960644945457183,
          0.8960644945457183,
          0.8960644945457183,
          0.8971337618226065,
          0.8971337618226065,
          0.8971337618226065,
          0.8971337618226065,
          0.8971337618226065,
          0.8971337618226065,
          0.8971337618226065,
          0.8971337618226065,
          0.8971337618226065,
          0.8971337618226065,
          0.8971337618226065,
          0.8971337618226065,
          0.8971337618226065,
          0.8971337618226065,
          0.8971337618226065,
          0.8971337618226065,
          0.8971337618226065,
          0.8971337618226065,
          0.8971337618226065,
          0.8971337618226065,
          0.8971337618226065,
          0.8971337618226065,
          0.8971337618226065,
          0.8971337618226065,
          0.8971337618226065,
          0.8995158650108802,
          0.905482998047446
         ],
         "yaxis": "y"
        },
        {
         "hovertemplate": "variable=HyperOptSearcher<br>index=%{x}<br>value=%{y}<extra></extra>",
         "legendgroup": "HyperOptSearcher",
         "line": {
          "color": "#B6E880",
          "dash": "solid"
         },
         "marker": {
          "symbol": "circle"
         },
         "mode": "lines+markers",
         "name": "HyperOptSearcher",
         "showlegend": true,
         "type": "scattergl",
         "x": [
          0,
          1,
          2,
          3,
          4,
          5,
          6,
          7,
          8,
          9,
          10,
          11,
          12,
          13,
          14,
          15,
          16,
          17,
          18,
          19,
          20,
          21,
          22,
          23,
          24,
          25,
          26,
          27,
          28,
          29,
          30,
          31,
          32,
          33,
          34,
          35,
          36,
          37,
          38,
          39,
          40,
          41,
          42,
          43,
          44,
          45,
          46,
          47,
          48,
          49,
          50,
          51,
          52,
          53,
          54,
          55,
          56,
          57,
          58,
          59
         ],
         "xaxis": "x",
         "y": [
          0.7040172337602347,
          0.8346179965885724,
          0.8633868615180317,
          0.8742933837945793,
          0.8758617623957969,
          0.881097714905112,
          0.8814816306042941,
          0.8830914674775379,
          0.8849502315395855,
          0.8867120327138696,
          0.8867120327138696,
          0.886839074283518,
          0.886839074283518,
          0.8874523862067132,
          0.888692438349773,
          0.888692438349773,
          0.888692438349773,
          0.888692438349773,
          0.888692438349773,
          0.888692438349773,
          0.8894789435007642,
          0.8894789435007642,
          0.8901977548711147,
          0.8901977548711147,
          0.8901977548711147,
          0.8901977548711147,
          0.8901977548711147,
          0.8907401223017788,
          0.8907401223017788,
          0.8907405217719218,
          0.8909632496239765,
          0.8909921879618874,
          0.8915019118641032,
          0.8918414614854859,
          0.8918414614854859,
          0.8918414614854859,
          0.8918414614854859,
          0.8918414614854859,
          0.8918414614854859,
          0.8918414614854859,
          0.8918414614854859,
          0.8918414614854859,
          0.8918414614854859,
          0.8918414614854859,
          0.8918414614854859,
          0.8918414614854859,
          0.8918414614854859,
          0.8918414614854859,
          0.8918426598959142,
          0.8918426598959142,
          0.8918426598959142,
          0.8918426598959142,
          0.8918426598959142,
          0.8922817580049083,
          0.8922817580049083,
          0.8922817580049083,
          0.8922817580049083,
          0.8922817580049083,
          0.8922817580049083,
          0.8922817580049083
         ],
         "yaxis": "y"
        },
        {
         "hovertemplate": "variable=OptunaTPESearcher<br>index=%{x}<br>value=%{y}<extra></extra>",
         "legendgroup": "OptunaTPESearcher",
         "line": {
          "color": "#FF97FF",
          "dash": "solid"
         },
         "marker": {
          "symbol": "circle"
         },
         "mode": "lines+markers",
         "name": "OptunaTPESearcher",
         "showlegend": true,
         "type": "scattergl",
         "x": [
          0,
          1,
          2,
          3,
          4,
          5,
          6,
          7,
          8,
          9,
          10,
          11,
          12,
          13,
          14,
          15,
          16,
          17,
          18,
          19,
          20,
          21,
          22,
          23,
          24,
          25,
          26,
          27,
          28,
          29,
          30,
          31,
          32,
          33,
          34,
          35,
          36,
          37,
          38,
          39,
          40,
          41,
          42,
          43,
          44,
          45,
          46,
          47,
          48,
          49,
          50,
          51,
          52,
          53,
          54,
          55,
          56,
          57,
          58,
          59
         ],
         "xaxis": "x",
         "y": [
          0.6136320407050824,
          0.8033028016401899,
          0.8520492979088206,
          0.8651803771854901,
          0.8679503980747033,
          0.8778781811428528,
          0.8784056205667998,
          0.8797727286673585,
          0.8827086432098017,
          0.886429507473265,
          0.8869188446652749,
          0.8876815567623482,
          0.8876815567623482,
          0.8885270104033393,
          0.8896701050585663,
          0.8896701050585663,
          0.8896701050585663,
          0.8896701050585663,
          0.8896701050585663,
          0.8904068790127968,
          0.8904068790127968,
          0.8904068790127968,
          0.8904068790127968,
          0.890781848859157,
          0.890781848859157,
          0.890781848859157,
          0.890781848859157,
          0.890781848859157,
          0.890781848859157,
          0.8913759132842982,
          0.8913759132842982,
          0.8913759132842982,
          0.8913759132842982,
          0.8917897686184395,
          0.8917897686184395,
          0.8922719823167811,
          0.8922719823167811,
          0.8922719823167811,
          0.8922719823167811,
          0.8922719823167811,
          0.8922719823167811,
          0.8929896253768221,
          0.8929896253768221,
          0.8937711047346887,
          0.8937711047346887,
          0.8937711047346887,
          0.8937711047346887,
          0.8937711047346887,
          0.8937711047346887,
          0.8937711047346887,
          0.8948566652903558,
          0.8948566652903558,
          0.8948566652903558,
          0.8948566652903558,
          0.8948566652903558,
          0.8948566652903558,
          0.8948566652903558,
          0.8948566652903558,
          0.8948566652903558,
          0.8948566652903558
         ],
         "yaxis": "y"
        },
        {
         "hovertemplate": "variable=SkOptSearcher<br>index=%{x}<br>value=%{y}<extra></extra>",
         "legendgroup": "SkOptSearcher",
         "line": {
          "color": "#FECB52",
          "dash": "solid"
         },
         "marker": {
          "symbol": "circle"
         },
         "mode": "lines+markers",
         "name": "SkOptSearcher",
         "showlegend": true,
         "type": "scattergl",
         "x": [
          0,
          1,
          2,
          3,
          4,
          5,
          6,
          7,
          8,
          9,
          10,
          11,
          12,
          13,
          14,
          15,
          16,
          17,
          18,
          19,
          20,
          21,
          22,
          23,
          24,
          25,
          26,
          27,
          28,
          29,
          30,
          31,
          32,
          33,
          34,
          35,
          36,
          37,
          38,
          39,
          40,
          41,
          42,
          43,
          44,
          45,
          46,
          47,
          48,
          49,
          50,
          51,
          52,
          53,
          54,
          55,
          56,
          57,
          58,
          59
         ],
         "xaxis": "x",
         "y": [
          0.6923036947718723,
          0.7835240445308275,
          0.8173410853089006,
          0.8338572941595488,
          0.8475198460409069,
          0.8492046511997838,
          0.8587042621134066,
          0.8646648265023087,
          0.8646648265023087,
          0.8682229583868049,
          0.8687455441726795,
          0.8708570991529087,
          0.8708570991529087,
          0.8708570991529087,
          0.8708570991529087,
          0.871096536399047,
          0.871096536399047,
          0.871096536399047,
          0.871096536399047,
          0.8715355770509761,
          0.8720534077097353,
          0.8722750277414492,
          0.8722750277414492,
          0.8722750277414492,
          0.8728216540904239,
          0.8731733337137753,
          0.8731733337137753,
          0.8731733337137753,
          0.8731733337137753,
          0.8731733337137753,
          0.8738368741448553,
          0.8742571969908628,
          0.8742571969908628,
          0.8742571969908628,
          0.8743089077343885,
          0.8743089077343885,
          0.8743089077343885,
          0.8743089077343885,
          0.8743089077343885,
          0.8743089077343885,
          0.8743089077343885,
          0.8743089077343885,
          0.8743089077343885,
          0.8743089077343885,
          0.8748636787035274,
          0.8748636787035274,
          0.8748636787035274,
          0.8748636787035274,
          0.8748636787035274,
          0.8748636787035274,
          0.8749413937465764,
          0.8749413937465764,
          0.8749413937465764,
          0.8749413937465764,
          0.8749413937465764,
          0.8749413937465764,
          0.8749413937465764,
          0.8749413937465764,
          0.8749413937465764,
          0.8750718896320725
         ],
         "yaxis": "y"
        },
        {
         "hovertemplate": "variable=AxSearcher<br>index=%{x}<br>value=%{y}<extra></extra>",
         "legendgroup": "AxSearcher",
         "line": {
          "color": "#636efa",
          "dash": "solid"
         },
         "marker": {
          "symbol": "circle"
         },
         "mode": "lines+markers",
         "name": "AxSearcher",
         "showlegend": true,
         "type": "scattergl",
         "x": [
          0,
          1,
          2,
          3,
          4,
          5,
          6,
          7,
          8,
          9,
          10,
          11,
          12,
          13,
          14,
          15,
          16,
          17,
          18,
          19,
          20,
          21,
          22,
          23,
          24,
          25,
          26,
          27,
          28,
          29,
          30,
          31,
          32,
          33,
          34,
          35,
          36,
          37,
          38,
          39,
          40,
          41,
          42,
          43,
          44,
          45,
          46,
          47,
          48,
          49,
          50,
          51,
          52,
          53,
          54,
          55,
          56,
          57,
          58,
          59
         ],
         "xaxis": "x",
         "y": [
          0.6746030171445536,
          0.8113601274211302,
          0.8471582097905759,
          0.8573039428068681,
          0.8602725084947663,
          0.8619034814936516,
          0.8677477396056699,
          0.8706195663113238,
          0.8712264819779456,
          0.8712264819779456,
          0.8712264819779456,
          0.8712264819779456,
          0.8715114209476682,
          0.8720811155385333,
          0.8720811155385333,
          0.8729578576643369,
          0.8729578576643369,
          0.8729578576643369,
          0.8729578576643369,
          0.8729578576643369,
          0.8730156819998605,
          0.8740232623828046,
          0.8753264356079198,
          0.8766359603036706,
          0.8767363774832218,
          0.8783289195731288,
          0.8786756245062046,
          0.8786756245062046,
          0.8786756245062046,
          0.8791324180583234,
          0.8791324180583234,
          0.8801638897583751,
          0.8804219052299038,
          0.8806243087844152,
          0.8806243087844152,
          0.8806243087844152,
          0.8809705465199765,
          0.8809705465199765,
          0.8809705465199765,
          0.8809705465199765,
          0.8809705465199765,
          0.8809705465199765,
          0.8821049147890936,
          0.8821049147890936,
          0.8821049147890936,
          0.8821049147890936,
          0.8821049147890936,
          0.8821049147890936,
          0.8825810552608108,
          0.8825810552608108,
          0.8825810552608108,
          0.8825810552608108,
          0.8825810552608108,
          0.8825810552608108,
          0.8825810552608108,
          0.8825810552608108,
          0.8825810552608108,
          0.8825810552608108,
          0.8825810552608108,
          0.8825810552608108
         ],
         "yaxis": "y"
        },
        {
         "hovertemplate": "variable=BlendSearchSearcher<br>index=%{x}<br>value=%{y}<extra></extra>",
         "legendgroup": "BlendSearchSearcher",
         "line": {
          "color": "#EF553B",
          "dash": "solid"
         },
         "marker": {
          "symbol": "circle"
         },
         "mode": "lines+markers",
         "name": "BlendSearchSearcher",
         "showlegend": true,
         "type": "scattergl",
         "x": [
          0,
          1,
          2,
          3,
          4,
          5,
          6,
          7,
          8,
          9,
          10,
          11,
          12,
          13,
          14,
          15,
          16,
          17,
          18,
          19,
          20,
          21,
          22,
          23,
          24,
          25,
          26,
          27,
          28,
          29,
          30,
          31,
          32,
          33,
          34,
          35,
          36,
          37,
          38,
          39,
          40,
          41,
          42,
          43,
          44,
          45,
          46,
          47,
          48,
          49,
          50,
          51,
          52,
          53,
          54,
          55,
          56,
          57,
          58,
          59
         ],
         "xaxis": "x",
         "y": [
          0.6871153439007835,
          0.7928858060196324,
          0.8388618095331233,
          0.8523439197850903,
          0.8652927805747843,
          0.8679860999125582,
          0.8702240212617989,
          0.8715929375316759,
          0.871668611333948,
          0.8722188278343677,
          0.8729380559623212,
          0.8740056280048711,
          0.8742386187381118,
          0.8743470391422774,
          0.8749586213587006,
          0.8749586213587006,
          0.8753235853091247,
          0.8753235853091247,
          0.8757856189434682,
          0.8757856189434682,
          0.8757856189434682,
          0.8757856189434682,
          0.8776268782349387,
          0.8785994419286385,
          0.8791154720584161,
          0.8812235347992221,
          0.8812235347992221,
          0.8812235347992221,
          0.8829812713993886,
          0.8829812713993886,
          0.8832378504016415,
          0.8836029229000637,
          0.8843652602172256,
          0.8843652602172256,
          0.8843652602172256,
          0.8843652602172256,
          0.8843652602172256,
          0.8843652602172256,
          0.8843652602172256,
          0.8843652602172256,
          0.8843652602172256,
          0.8843652602172256,
          0.8843652602172256,
          0.8843652602172256,
          0.8843652602172256,
          0.8843652602172256,
          0.8843652602172256,
          0.8844486028251599,
          0.8844486028251599,
          0.8844486028251599,
          0.8844486028251599,
          0.8844486028251599,
          0.8844486028251599,
          0.8844486028251599,
          0.8844486028251599,
          0.8844486028251599,
          0.8844486028251599,
          0.8844486028251599,
          0.8857097730994266,
          0.8857097730994266
         ],
         "yaxis": "y"
        },
        {
         "hovertemplate": "variable=CFOSearcher<br>index=%{x}<br>value=%{y}<extra></extra>",
         "legendgroup": "CFOSearcher",
         "line": {
          "color": "#00cc96",
          "dash": "solid"
         },
         "marker": {
          "symbol": "circle"
         },
         "mode": "lines+markers",
         "name": "CFOSearcher",
         "showlegend": true,
         "type": "scattergl",
         "x": [
          0,
          1,
          2,
          3,
          4,
          5,
          6,
          7,
          8,
          9,
          10,
          11,
          12,
          13,
          14,
          15,
          16,
          17,
          18,
          19,
          20,
          21,
          22,
          23,
          24,
          25,
          26,
          27,
          28,
          29,
          30,
          31,
          32,
          33,
          34,
          35,
          36,
          37,
          38,
          39,
          40,
          41,
          42,
          43,
          44,
          45,
          46,
          47,
          48,
          49,
          50,
          51,
          52,
          53,
          54,
          55,
          56,
          57,
          58,
          59
         ],
         "xaxis": "x",
         "y": [
          0.6382137075388203,
          0.7912519366776722,
          0.8372295626344478,
          0.8490396232541781,
          0.8572480356790717,
          0.8657539460571746,
          0.8663413515142941,
          0.8680208943954039,
          0.869542109743474,
          0.869542109743474,
          0.8701403150878116,
          0.8704666629183002,
          0.8704666629183002,
          0.8724902675882166,
          0.8740385494895573,
          0.8740385494895573,
          0.8740385494895573,
          0.8741332420667575,
          0.8742810383919035,
          0.8742810383919035,
          0.8742810383919035,
          0.8742810383919035,
          0.8753074486705325,
          0.8753074486705325,
          0.8763078240399753,
          0.8763078240399753,
          0.8763078240399753,
          0.8763078240399753,
          0.8763078240399753,
          0.8763078240399753,
          0.8763078240399753,
          0.8763078240399753,
          0.8763078240399753,
          0.8763078240399753,
          0.8763078240399753,
          0.8763078240399753,
          0.8763078240399753,
          0.8763078240399753,
          0.8763078240399753,
          0.8767862970614276,
          0.8769595585819709,
          0.8769595585819709,
          0.8769595585819709,
          0.8769595585819709,
          0.8769595585819709,
          0.8769595585819709,
          0.8769595585819709,
          0.8769595585819709,
          0.8769595585819709,
          0.8769595585819709,
          0.8778794140222461,
          0.8778794140222461,
          0.8778794140222461,
          0.8778794140222461,
          0.8778794140222461,
          0.8793060075871548,
          0.8800249026822216,
          0.8800249026822216,
          0.8807767125388686,
          0.8807767125388686
         ],
         "yaxis": "y"
        },
        {
         "hovertemplate": "variable=RandomSearch<br>index=%{x}<br>value=%{y}<extra></extra>",
         "legendgroup": "RandomSearch",
         "line": {
          "color": "#ab63fa",
          "dash": "solid"
         },
         "marker": {
          "symbol": "circle"
         },
         "mode": "lines+markers",
         "name": "RandomSearch",
         "showlegend": true,
         "type": "scattergl",
         "x": [
          0,
          1,
          2,
          3,
          4,
          5,
          6,
          7,
          8,
          9,
          10,
          11,
          12,
          13,
          14,
          15,
          16,
          17,
          18,
          19,
          20,
          21,
          22,
          23,
          24,
          25,
          26,
          27,
          28,
          29,
          30,
          31,
          32,
          33,
          34,
          35,
          36,
          37,
          38,
          39,
          40,
          41,
          42,
          43,
          44,
          45,
          46,
          47,
          48,
          49,
          50,
          51,
          52,
          53,
          54,
          55,
          56,
          57,
          58,
          59
         ],
         "xaxis": "x",
         "y": [
          0.6793752000000002,
          0.8075146349619055,
          0.8563342279834657,
          0.8636638067430666,
          0.8688856490977813,
          0.8712450380127404,
          0.871646287350982,
          0.871646287350982,
          0.8771173300718538,
          0.8809938246122027,
          0.8861828036694498,
          0.8861828036694498,
          0.8868233543572406,
          0.8868233543572406,
          0.8883492934971058,
          0.8883492934971058,
          0.8883492934971058,
          0.8883492934971058,
          0.8883492934971058,
          0.8883492934971058,
          0.8888677950881384,
          0.8893508958463062,
          0.8902066720064852,
          0.8902066720064852,
          0.8902066720064852,
          0.8905409356337122,
          0.8905409356337122,
          0.8905409356337122,
          0.8905409356337122,
          0.8905409356337122,
          0.8908128258677692,
          0.8908128258677692,
          0.8908128258677692,
          0.8908128258677692,
          0.8908128258677692,
          0.8908128258677692,
          0.8908128258677692,
          0.8908128258677692,
          0.8908128258677692,
          0.8912108058157453,
          0.8912108058157453,
          0.8912108058157453,
          0.8912108058157453,
          0.8912108058157453,
          0.8956605417402175,
          0.8956605417402175,
          0.8956605417402175,
          0.8956605417402175,
          0.8956605417402175,
          0.8956605417402175,
          0.8956605417402175,
          0.8956605417402175,
          0.8956605417402175,
          0.8956605417402175,
          0.8985989223687232,
          0.8985989223687232,
          0.8985989223687232,
          0.8985989223687232,
          0.8989948272651013,
          0.903424260548469
         ],
         "yaxis": "y"
        },
        {
         "hovertemplate": "variable=ASHAOptunaTPESearcher<br>index=%{x}<br>value=%{y}<extra></extra>",
         "legendgroup": "ASHAOptunaTPESearcher",
         "line": {
          "color": "#FFA15A",
          "dash": "solid"
         },
         "marker": {
          "symbol": "circle"
         },
         "mode": "lines+markers",
         "name": "ASHAOptunaTPESearcher",
         "showlegend": true,
         "type": "scattergl",
         "x": [
          0,
          1,
          2,
          3,
          4,
          5,
          6,
          7,
          8,
          9,
          10,
          11,
          12,
          13,
          14,
          15,
          16,
          17,
          18,
          19,
          20,
          21,
          22,
          23,
          24,
          25,
          26,
          27,
          28,
          29,
          30,
          31,
          32,
          33,
          34,
          35,
          36,
          37,
          38,
          39,
          40,
          41,
          42,
          43,
          44,
          45,
          46,
          47,
          48,
          49,
          50,
          51,
          52,
          53,
          54,
          55,
          56,
          57,
          58,
          59
         ],
         "xaxis": "x",
         "y": [
          0.6788837223677808,
          0.7829890340845187,
          0.8220352455497191,
          0.8356098600275407,
          0.855667969763515,
          0.8577197485503205,
          0.8585347822333422,
          0.8644794534489089,
          0.8662971942242826,
          0.8662971942242826,
          0.8695320838068692,
          0.8695320838068692,
          0.8695320838068692,
          0.8695320838068692,
          0.8695320838068692,
          0.8708668625980224,
          0.8708668625980224,
          0.8711744197814305,
          0.8712581833731179,
          0.8712581833731179,
          0.8712581833731179,
          0.8712581833731179,
          0.8712581833731179,
          0.8712581833731179,
          0.872034010031733,
          0.872034010031733,
          0.872034010031733,
          0.8727092833113284,
          0.8750377287663856,
          0.8754883472106297,
          0.8764433971533181,
          0.8764433971533181,
          0.8764433971533181,
          0.8764433971533181,
          0.8774997006959259,
          0.8774997006959259,
          0.8798770295676609,
          0.8798770295676609,
          0.8798770295676609,
          0.8798770295676609,
          0.8798770295676609,
          0.8798770295676609,
          0.8798770295676609,
          0.8798770295676609,
          0.8798770295676609,
          0.8798770295676609,
          0.8798770295676609,
          0.8798770295676609,
          0.8803870526904407,
          0.8803870526904407,
          0.8803870526904407,
          0.8803870526904407,
          0.8803870526904407,
          0.8803870526904407,
          0.8803870526904407,
          0.8803870526904407,
          0.8803870526904407,
          0.8803870526904407,
          0.8803870526904407,
          0.8803870526904407
         ],
         "yaxis": "y"
        },
        {
         "hovertemplate": "variable=ASHARandomSearch<br>index=%{x}<br>value=%{y}<extra></extra>",
         "legendgroup": "ASHARandomSearch",
         "line": {
          "color": "#19d3f3",
          "dash": "solid"
         },
         "marker": {
          "symbol": "circle"
         },
         "mode": "lines+markers",
         "name": "ASHARandomSearch",
         "showlegend": true,
         "type": "scattergl",
         "x": [
          0,
          1,
          2,
          3,
          4,
          5,
          6,
          7,
          8,
          9,
          10,
          11,
          12,
          13,
          14,
          15,
          16,
          17,
          18,
          19,
          20,
          21,
          22,
          23,
          24,
          25,
          26,
          27,
          28,
          29,
          30,
          31,
          32,
          33,
          34,
          35,
          36,
          37,
          38,
          39,
          40,
          41,
          42,
          43,
          44,
          45,
          46,
          47,
          48,
          49,
          50,
          51,
          52,
          53,
          54,
          55,
          56,
          57,
          58,
          59
         ],
         "xaxis": "x",
         "y": [
          0.6392812893192339,
          0.8058433385266801,
          0.8518202364208971,
          0.8599319722229817,
          0.8728078928735168,
          0.8730950600813474,
          0.8736571999999998,
          0.8778059924731082,
          0.8883948308865464,
          0.8883948308865464,
          0.8883948308865464,
          0.8883948308865464,
          0.8900644987814647,
          0.8968514014668145,
          0.8968514014668145,
          0.8968514014668145,
          0.8968514014668145,
          0.8968514014668145,
          0.8968514014668145,
          0.8968514014668145,
          0.8968514014668145,
          0.8968514014668145,
          0.8968514014668145,
          0.8968514014668145,
          0.8968514014668145,
          0.8968514014668145,
          0.8968514014668145,
          0.8968514014668145,
          0.8968514014668145,
          0.8968514014668145,
          0.8968514014668145,
          0.8968514014668145,
          0.8968514014668145,
          0.8968514014668145,
          0.8968514014668145,
          0.8968514014668145,
          0.8968514014668145,
          0.8968514014668145,
          0.8968514014668145,
          0.8968514014668145,
          0.8968514014668145,
          0.8968514014668145,
          0.8968514014668145,
          0.9004936672682871,
          0.9004936672682871,
          0.9004936672682871,
          0.9004936672682871,
          0.9004936672682871,
          0.9004936672682871,
          0.9004936672682871,
          0.9004936672682871,
          0.9004936672682871,
          0.9004936672682871,
          0.9004936672682871,
          0.9004936672682871,
          0.9004936672682871,
          0.9004936672682871,
          0.9004936672682871,
          0.9004936672682871,
          0.9004936672682871
         ],
         "yaxis": "y"
        },
        {
         "hovertemplate": "variable=ASHASkOptSearcher<br>index=%{x}<br>value=%{y}<extra></extra>",
         "legendgroup": "ASHASkOptSearcher",
         "line": {
          "color": "#FF6692",
          "dash": "solid"
         },
         "marker": {
          "symbol": "circle"
         },
         "mode": "lines+markers",
         "name": "ASHASkOptSearcher",
         "showlegend": true,
         "type": "scattergl",
         "x": [
          0,
          1,
          2,
          3,
          4,
          5,
          6,
          7,
          8,
          9,
          10,
          11,
          12,
          13,
          14,
          15,
          16,
          17,
          18,
          19,
          20,
          21,
          22,
          23,
          24,
          25,
          26,
          27,
          28,
          29,
          30,
          31,
          32,
          33,
          34,
          35,
          36,
          37,
          38,
          39,
          40,
          41,
          42,
          43,
          44,
          45,
          46,
          47,
          48,
          49,
          50,
          51,
          52,
          53,
          54,
          55,
          56,
          57,
          58,
          59
         ],
         "xaxis": "x",
         "y": [
          0.6520175925216548,
          0.8255753231476618,
          0.8559695219318542,
          0.8686940186069532,
          0.8770582590899147,
          0.8787031774065228,
          0.88406391722361,
          0.8855665606418084,
          0.8859793835462657,
          0.8877707713569725,
          0.8877707713569725,
          0.8877707713569725,
          0.8877707713569725,
          0.8878851692761232,
          0.8878851692761232,
          0.8878851692761232,
          0.8885808190051088,
          0.8885808190051088,
          0.8888730911218716,
          0.8893092001100655,
          0.8893092001100655,
          0.8893092001100655,
          0.8893092001100655,
          0.8893092001100655,
          0.8893092001100655,
          0.8893092001100655,
          0.8893092001100655,
          0.8893092001100655,
          0.8893092001100655,
          0.8893092001100655,
          0.8905716320831678,
          0.8905716320831678,
          0.8905716320831678,
          0.8905716320831678,
          0.8905716320831678,
          0.8905716320831678,
          0.8905716320831678,
          0.8905716320831678,
          0.8905716320831678,
          0.8905716320831678,
          0.8905716320831678,
          0.8905716320831678,
          0.8905716320831678,
          0.8905716320831678,
          0.8905716320831678,
          0.8905716320831678,
          0.8905716320831678,
          0.8905716320831678,
          0.8905716320831678,
          0.8921359060071921,
          0.8921359060071921,
          0.8921359060071921,
          0.8921359060071921,
          0.8921359060071921,
          0.8921359060071921,
          0.8921359060071921,
          0.8921359060071921,
          0.8922872007288656,
          0.8922872007288656,
          0.8922872007288656
         ],
         "yaxis": "y"
        }
       ],
       "layout": {
        "legend": {
         "title": {
          "text": "variable"
         },
         "tracegroupgap": 0
        },
        "margin": {
         "t": 60
        },
        "template": {
         "data": {
          "bar": [
           {
            "error_x": {
             "color": "#2a3f5f"
            },
            "error_y": {
             "color": "#2a3f5f"
            },
            "marker": {
             "line": {
              "color": "#E5ECF6",
              "width": 0.5
             },
             "pattern": {
              "fillmode": "overlay",
              "size": 10,
              "solidity": 0.2
             }
            },
            "type": "bar"
           }
          ],
          "barpolar": [
           {
            "marker": {
             "line": {
              "color": "#E5ECF6",
              "width": 0.5
             },
             "pattern": {
              "fillmode": "overlay",
              "size": 10,
              "solidity": 0.2
             }
            },
            "type": "barpolar"
           }
          ],
          "carpet": [
           {
            "aaxis": {
             "endlinecolor": "#2a3f5f",
             "gridcolor": "white",
             "linecolor": "white",
             "minorgridcolor": "white",
             "startlinecolor": "#2a3f5f"
            },
            "baxis": {
             "endlinecolor": "#2a3f5f",
             "gridcolor": "white",
             "linecolor": "white",
             "minorgridcolor": "white",
             "startlinecolor": "#2a3f5f"
            },
            "type": "carpet"
           }
          ],
          "choropleth": [
           {
            "colorbar": {
             "outlinewidth": 0,
             "ticks": ""
            },
            "type": "choropleth"
           }
          ],
          "contour": [
           {
            "colorbar": {
             "outlinewidth": 0,
             "ticks": ""
            },
            "colorscale": [
             [
              0,
              "#0d0887"
             ],
             [
              0.1111111111111111,
              "#46039f"
             ],
             [
              0.2222222222222222,
              "#7201a8"
             ],
             [
              0.3333333333333333,
              "#9c179e"
             ],
             [
              0.4444444444444444,
              "#bd3786"
             ],
             [
              0.5555555555555556,
              "#d8576b"
             ],
             [
              0.6666666666666666,
              "#ed7953"
             ],
             [
              0.7777777777777778,
              "#fb9f3a"
             ],
             [
              0.8888888888888888,
              "#fdca26"
             ],
             [
              1,
              "#f0f921"
             ]
            ],
            "type": "contour"
           }
          ],
          "contourcarpet": [
           {
            "colorbar": {
             "outlinewidth": 0,
             "ticks": ""
            },
            "type": "contourcarpet"
           }
          ],
          "heatmap": [
           {
            "colorbar": {
             "outlinewidth": 0,
             "ticks": ""
            },
            "colorscale": [
             [
              0,
              "#0d0887"
             ],
             [
              0.1111111111111111,
              "#46039f"
             ],
             [
              0.2222222222222222,
              "#7201a8"
             ],
             [
              0.3333333333333333,
              "#9c179e"
             ],
             [
              0.4444444444444444,
              "#bd3786"
             ],
             [
              0.5555555555555556,
              "#d8576b"
             ],
             [
              0.6666666666666666,
              "#ed7953"
             ],
             [
              0.7777777777777778,
              "#fb9f3a"
             ],
             [
              0.8888888888888888,
              "#fdca26"
             ],
             [
              1,
              "#f0f921"
             ]
            ],
            "type": "heatmap"
           }
          ],
          "heatmapgl": [
           {
            "colorbar": {
             "outlinewidth": 0,
             "ticks": ""
            },
            "colorscale": [
             [
              0,
              "#0d0887"
             ],
             [
              0.1111111111111111,
              "#46039f"
             ],
             [
              0.2222222222222222,
              "#7201a8"
             ],
             [
              0.3333333333333333,
              "#9c179e"
             ],
             [
              0.4444444444444444,
              "#bd3786"
             ],
             [
              0.5555555555555556,
              "#d8576b"
             ],
             [
              0.6666666666666666,
              "#ed7953"
             ],
             [
              0.7777777777777778,
              "#fb9f3a"
             ],
             [
              0.8888888888888888,
              "#fdca26"
             ],
             [
              1,
              "#f0f921"
             ]
            ],
            "type": "heatmapgl"
           }
          ],
          "histogram": [
           {
            "marker": {
             "pattern": {
              "fillmode": "overlay",
              "size": 10,
              "solidity": 0.2
             }
            },
            "type": "histogram"
           }
          ],
          "histogram2d": [
           {
            "colorbar": {
             "outlinewidth": 0,
             "ticks": ""
            },
            "colorscale": [
             [
              0,
              "#0d0887"
             ],
             [
              0.1111111111111111,
              "#46039f"
             ],
             [
              0.2222222222222222,
              "#7201a8"
             ],
             [
              0.3333333333333333,
              "#9c179e"
             ],
             [
              0.4444444444444444,
              "#bd3786"
             ],
             [
              0.5555555555555556,
              "#d8576b"
             ],
             [
              0.6666666666666666,
              "#ed7953"
             ],
             [
              0.7777777777777778,
              "#fb9f3a"
             ],
             [
              0.8888888888888888,
              "#fdca26"
             ],
             [
              1,
              "#f0f921"
             ]
            ],
            "type": "histogram2d"
           }
          ],
          "histogram2dcontour": [
           {
            "colorbar": {
             "outlinewidth": 0,
             "ticks": ""
            },
            "colorscale": [
             [
              0,
              "#0d0887"
             ],
             [
              0.1111111111111111,
              "#46039f"
             ],
             [
              0.2222222222222222,
              "#7201a8"
             ],
             [
              0.3333333333333333,
              "#9c179e"
             ],
             [
              0.4444444444444444,
              "#bd3786"
             ],
             [
              0.5555555555555556,
              "#d8576b"
             ],
             [
              0.6666666666666666,
              "#ed7953"
             ],
             [
              0.7777777777777778,
              "#fb9f3a"
             ],
             [
              0.8888888888888888,
              "#fdca26"
             ],
             [
              1,
              "#f0f921"
             ]
            ],
            "type": "histogram2dcontour"
           }
          ],
          "mesh3d": [
           {
            "colorbar": {
             "outlinewidth": 0,
             "ticks": ""
            },
            "type": "mesh3d"
           }
          ],
          "parcoords": [
           {
            "line": {
             "colorbar": {
              "outlinewidth": 0,
              "ticks": ""
             }
            },
            "type": "parcoords"
           }
          ],
          "pie": [
           {
            "automargin": true,
            "type": "pie"
           }
          ],
          "scatter": [
           {
            "marker": {
             "colorbar": {
              "outlinewidth": 0,
              "ticks": ""
             }
            },
            "type": "scatter"
           }
          ],
          "scatter3d": [
           {
            "line": {
             "colorbar": {
              "outlinewidth": 0,
              "ticks": ""
             }
            },
            "marker": {
             "colorbar": {
              "outlinewidth": 0,
              "ticks": ""
             }
            },
            "type": "scatter3d"
           }
          ],
          "scattercarpet": [
           {
            "marker": {
             "colorbar": {
              "outlinewidth": 0,
              "ticks": ""
             }
            },
            "type": "scattercarpet"
           }
          ],
          "scattergeo": [
           {
            "marker": {
             "colorbar": {
              "outlinewidth": 0,
              "ticks": ""
             }
            },
            "type": "scattergeo"
           }
          ],
          "scattergl": [
           {
            "marker": {
             "colorbar": {
              "outlinewidth": 0,
              "ticks": ""
             }
            },
            "type": "scattergl"
           }
          ],
          "scattermapbox": [
           {
            "marker": {
             "colorbar": {
              "outlinewidth": 0,
              "ticks": ""
             }
            },
            "type": "scattermapbox"
           }
          ],
          "scatterpolar": [
           {
            "marker": {
             "colorbar": {
              "outlinewidth": 0,
              "ticks": ""
             }
            },
            "type": "scatterpolar"
           }
          ],
          "scatterpolargl": [
           {
            "marker": {
             "colorbar": {
              "outlinewidth": 0,
              "ticks": ""
             }
            },
            "type": "scatterpolargl"
           }
          ],
          "scatterternary": [
           {
            "marker": {
             "colorbar": {
              "outlinewidth": 0,
              "ticks": ""
             }
            },
            "type": "scatterternary"
           }
          ],
          "surface": [
           {
            "colorbar": {
             "outlinewidth": 0,
             "ticks": ""
            },
            "colorscale": [
             [
              0,
              "#0d0887"
             ],
             [
              0.1111111111111111,
              "#46039f"
             ],
             [
              0.2222222222222222,
              "#7201a8"
             ],
             [
              0.3333333333333333,
              "#9c179e"
             ],
             [
              0.4444444444444444,
              "#bd3786"
             ],
             [
              0.5555555555555556,
              "#d8576b"
             ],
             [
              0.6666666666666666,
              "#ed7953"
             ],
             [
              0.7777777777777778,
              "#fb9f3a"
             ],
             [
              0.8888888888888888,
              "#fdca26"
             ],
             [
              1,
              "#f0f921"
             ]
            ],
            "type": "surface"
           }
          ],
          "table": [
           {
            "cells": {
             "fill": {
              "color": "#EBF0F8"
             },
             "line": {
              "color": "white"
             }
            },
            "header": {
             "fill": {
              "color": "#C8D4E3"
             },
             "line": {
              "color": "white"
             }
            },
            "type": "table"
           }
          ]
         },
         "layout": {
          "annotationdefaults": {
           "arrowcolor": "#2a3f5f",
           "arrowhead": 0,
           "arrowwidth": 1
          },
          "autotypenumbers": "strict",
          "coloraxis": {
           "colorbar": {
            "outlinewidth": 0,
            "ticks": ""
           }
          },
          "colorscale": {
           "diverging": [
            [
             0,
             "#8e0152"
            ],
            [
             0.1,
             "#c51b7d"
            ],
            [
             0.2,
             "#de77ae"
            ],
            [
             0.3,
             "#f1b6da"
            ],
            [
             0.4,
             "#fde0ef"
            ],
            [
             0.5,
             "#f7f7f7"
            ],
            [
             0.6,
             "#e6f5d0"
            ],
            [
             0.7,
             "#b8e186"
            ],
            [
             0.8,
             "#7fbc41"
            ],
            [
             0.9,
             "#4d9221"
            ],
            [
             1,
             "#276419"
            ]
           ],
           "sequential": [
            [
             0,
             "#0d0887"
            ],
            [
             0.1111111111111111,
             "#46039f"
            ],
            [
             0.2222222222222222,
             "#7201a8"
            ],
            [
             0.3333333333333333,
             "#9c179e"
            ],
            [
             0.4444444444444444,
             "#bd3786"
            ],
            [
             0.5555555555555556,
             "#d8576b"
            ],
            [
             0.6666666666666666,
             "#ed7953"
            ],
            [
             0.7777777777777778,
             "#fb9f3a"
            ],
            [
             0.8888888888888888,
             "#fdca26"
            ],
            [
             1,
             "#f0f921"
            ]
           ],
           "sequentialminus": [
            [
             0,
             "#0d0887"
            ],
            [
             0.1111111111111111,
             "#46039f"
            ],
            [
             0.2222222222222222,
             "#7201a8"
            ],
            [
             0.3333333333333333,
             "#9c179e"
            ],
            [
             0.4444444444444444,
             "#bd3786"
            ],
            [
             0.5555555555555556,
             "#d8576b"
            ],
            [
             0.6666666666666666,
             "#ed7953"
            ],
            [
             0.7777777777777778,
             "#fb9f3a"
            ],
            [
             0.8888888888888888,
             "#fdca26"
            ],
            [
             1,
             "#f0f921"
            ]
           ]
          },
          "colorway": [
           "#636efa",
           "#EF553B",
           "#00cc96",
           "#ab63fa",
           "#FFA15A",
           "#19d3f3",
           "#FF6692",
           "#B6E880",
           "#FF97FF",
           "#FECB52"
          ],
          "font": {
           "color": "#2a3f5f"
          },
          "geo": {
           "bgcolor": "white",
           "lakecolor": "white",
           "landcolor": "#E5ECF6",
           "showlakes": true,
           "showland": true,
           "subunitcolor": "white"
          },
          "hoverlabel": {
           "align": "left"
          },
          "hovermode": "closest",
          "mapbox": {
           "style": "light"
          },
          "paper_bgcolor": "white",
          "plot_bgcolor": "#E5ECF6",
          "polar": {
           "angularaxis": {
            "gridcolor": "white",
            "linecolor": "white",
            "ticks": ""
           },
           "bgcolor": "#E5ECF6",
           "radialaxis": {
            "gridcolor": "white",
            "linecolor": "white",
            "ticks": ""
           }
          },
          "scene": {
           "xaxis": {
            "backgroundcolor": "#E5ECF6",
            "gridcolor": "white",
            "gridwidth": 2,
            "linecolor": "white",
            "showbackground": true,
            "ticks": "",
            "zerolinecolor": "white"
           },
           "yaxis": {
            "backgroundcolor": "#E5ECF6",
            "gridcolor": "white",
            "gridwidth": 2,
            "linecolor": "white",
            "showbackground": true,
            "ticks": "",
            "zerolinecolor": "white"
           },
           "zaxis": {
            "backgroundcolor": "#E5ECF6",
            "gridcolor": "white",
            "gridwidth": 2,
            "linecolor": "white",
            "showbackground": true,
            "ticks": "",
            "zerolinecolor": "white"
           }
          },
          "shapedefaults": {
           "line": {
            "color": "#2a3f5f"
           }
          },
          "ternary": {
           "aaxis": {
            "gridcolor": "white",
            "linecolor": "white",
            "ticks": ""
           },
           "baxis": {
            "gridcolor": "white",
            "linecolor": "white",
            "ticks": ""
           },
           "bgcolor": "#E5ECF6",
           "caxis": {
            "gridcolor": "white",
            "linecolor": "white",
            "ticks": ""
           }
          },
          "title": {
           "x": 0.05
          },
          "xaxis": {
           "automargin": true,
           "gridcolor": "white",
           "linecolor": "white",
           "ticks": "",
           "title": {
            "standoff": 15
           },
           "zerolinecolor": "white",
           "zerolinewidth": 2
          },
          "yaxis": {
           "automargin": true,
           "gridcolor": "white",
           "linecolor": "white",
           "ticks": "",
           "title": {
            "standoff": 15
           },
           "zerolinecolor": "white",
           "zerolinewidth": 2
          }
         }
        },
        "xaxis": {
         "anchor": "y",
         "domain": [
          0,
          1
         ],
         "title": {
          "text": "index"
         }
        },
        "yaxis": {
         "anchor": "x",
         "domain": [
          0,
          1
         ],
         "title": {
          "text": "value"
         }
        }
       }
      }
     },
     "metadata": {},
     "output_type": "display_data"
    }
   ],
   "source": [
    "px.line(cummax_searcher_median).update_traces(mode='lines+markers').show()"
   ]
  },
  {
   "cell_type": "markdown",
   "id": "07f9ba98",
   "metadata": {},
   "source": [
    "## Summary\n",
    "\n",
    "The only searcher that consistently topped all the leaderboards and worked well with both ASHA and without it was HyperOpt. ASHA with SkOpt also gave very good results. Optuna did not work well when paried with ASHA, which is contrary to the expectations, as it is the only algorithm that makes use of information from pruned trials. Random Search has also shown good performance - this may be due to the parallel nature of the experiment, which would penalize most algorithms that expect sequential results while having no such effect on RS. For most searchers, their rank varied significantly between different methods of scoring. It is possible that 3 runs with different seeds were not enough to reduce the impact of randomness on the results.\n",
    "\n",
    "All in all, given the results, it is my opinion that HyperOpt (with or without ASHA) is the best choice for tuning GBDTs."
   ]
  }
 ],
 "metadata": {
  "kernelspec": {
   "display_name": "Python 3 (ipykernel)",
   "language": "python",
   "name": "python3"
  },
  "language_info": {
   "codemirror_mode": {
    "name": "ipython",
    "version": 3
   },
   "file_extension": ".py",
   "mimetype": "text/x-python",
   "name": "python",
   "nbconvert_exporter": "python",
   "pygments_lexer": "ipython3",
   "version": "3.9.5"
  }
 },
 "nbformat": 4,
 "nbformat_minor": 5
}
